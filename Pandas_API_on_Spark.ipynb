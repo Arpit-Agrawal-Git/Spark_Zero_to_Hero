{
 "cells": [
  {
   "cell_type": "markdown",
   "metadata": {
    "application/vnd.databricks.v1+cell": {
     "cellMetadata": {
      "byteLimit": 2048000,
      "rowLimit": 10000
     },
     "inputWidgets": {},
     "nuid": "bebdd41b-519b-4d9b-9487-9a50b7f638c0",
     "showTitle": false,
     "title": ""
    }
   },
   "source": [
    "# Pandas on Spark"
   ]
  },
  {
   "cell_type": "markdown",
   "metadata": {
    "application/vnd.databricks.v1+cell": {
     "cellMetadata": {
      "byteLimit": 2048000,
      "rowLimit": 10000
     },
     "inputWidgets": {},
     "nuid": "abf1c069-0b26-4e14-bc1d-df58281c1d24",
     "showTitle": false,
     "title": ""
    }
   },
   "source": [
    "## Object Creation - Series"
   ]
  },
  {
   "cell_type": "code",
   "execution_count": null,
   "metadata": {
    "application/vnd.databricks.v1+cell": {
     "cellMetadata": {
      "byteLimit": 2048000,
      "rowLimit": 10000
     },
     "inputWidgets": {},
     "nuid": "c181b411-23f7-412e-83a1-1df139ee1d98",
     "showTitle": false,
     "title": ""
    }
   },
   "outputs": [],
   "source": [
    "import numpy as np\n",
    "import pandas as pd\n",
    "import pyspark.pandas as ps"
   ]
  },
  {
   "cell_type": "code",
   "execution_count": null,
   "metadata": {
    "application/vnd.databricks.v1+cell": {
     "cellMetadata": {
      "byteLimit": 2048000,
      "rowLimit": 10000
     },
     "inputWidgets": {},
     "nuid": "4cba46a6-8a93-488a-925a-72ff73a40647",
     "showTitle": false,
     "title": ""
    }
   },
   "outputs": [],
   "source": [
    "# Create pandas series\n",
    "\n",
    "pser = pd.Series([2,7,8,np.nan, 9, 3])"
   ]
  },
  {
   "cell_type": "code",
   "execution_count": null,
   "metadata": {
    "application/vnd.databricks.v1+cell": {
     "cellMetadata": {
      "byteLimit": 2048000,
      "rowLimit": 10000
     },
     "inputWidgets": {},
     "nuid": "9124e28e-62e5-4f3e-bb8a-d5bc59751857",
     "showTitle": false,
     "title": ""
    }
   },
   "outputs": [
    {
     "name": "stdout",
     "output_type": "stream",
     "text": [
      "0    2.0\n",
      "1    7.0\n",
      "2    8.0\n",
      "3    NaN\n",
      "4    9.0\n",
      "5    3.0\n",
      "dtype: float64\n"
     ]
    }
   ],
   "source": [
    "print(pser)"
   ]
  },
  {
   "cell_type": "code",
   "execution_count": null,
   "metadata": {
    "application/vnd.databricks.v1+cell": {
     "cellMetadata": {
      "byteLimit": 2048000,
      "rowLimit": 10000
     },
     "inputWidgets": {},
     "nuid": "bcac55fa-5332-4bf3-8b5c-f08d3232eda7",
     "showTitle": false,
     "title": ""
    }
   },
   "outputs": [
    {
     "data": {
      "text/plain": [
       "pandas.core.series.Series"
      ]
     },
     "execution_count": 4,
     "metadata": {},
     "output_type": "execute_result"
    }
   ],
   "source": [
    "type(pser)"
   ]
  },
  {
   "cell_type": "code",
   "execution_count": null,
   "metadata": {
    "application/vnd.databricks.v1+cell": {
     "cellMetadata": {
      "byteLimit": 2048000,
      "rowLimit": 10000
     },
     "inputWidgets": {},
     "nuid": "2777d9c0-fb12-476e-a737-73f238cb3413",
     "showTitle": false,
     "title": ""
    }
   },
   "outputs": [],
   "source": [
    "# Create pandas on spark series\n",
    "\n",
    "psser = ps.Series([2,7,8,np.nan, 9, 3])"
   ]
  },
  {
   "cell_type": "code",
   "execution_count": null,
   "metadata": {
    "application/vnd.databricks.v1+cell": {
     "cellMetadata": {
      "byteLimit": 2048000,
      "rowLimit": 10000
     },
     "inputWidgets": {},
     "nuid": "ab1f1abf-1caf-4055-ba41-388bcfc27521",
     "showTitle": false,
     "title": ""
    }
   },
   "outputs": [
    {
     "data": {
      "text/plain": [
       "0    2.0\n",
       "1    7.0\n",
       "2    8.0\n",
       "3    NaN\n",
       "4    9.0\n",
       "5    3.0\n",
       "dtype: float64"
      ]
     },
     "execution_count": 6,
     "metadata": {},
     "output_type": "execute_result"
    }
   ],
   "source": [
    "psser"
   ]
  },
  {
   "cell_type": "code",
   "execution_count": null,
   "metadata": {
    "application/vnd.databricks.v1+cell": {
     "cellMetadata": {
      "byteLimit": 2048000,
      "rowLimit": 10000
     },
     "inputWidgets": {},
     "nuid": "8d10447a-1617-424d-96a5-975d778f7512",
     "showTitle": false,
     "title": ""
    }
   },
   "outputs": [
    {
     "data": {
      "text/plain": [
       "pyspark.pandas.series.Series"
      ]
     },
     "execution_count": 7,
     "metadata": {},
     "output_type": "execute_result"
    }
   ],
   "source": [
    "type(psser)"
   ]
  },
  {
   "cell_type": "code",
   "execution_count": null,
   "metadata": {
    "application/vnd.databricks.v1+cell": {
     "cellMetadata": {
      "byteLimit": 2048000,
      "rowLimit": 10000
     },
     "inputWidgets": {},
     "nuid": "c6af2d0d-61e9-4418-aeab-b24951be3ead",
     "showTitle": false,
     "title": ""
    }
   },
   "outputs": [],
   "source": [
    "# Create pandas on spark series by passing a pandas series\n",
    "psser_1 = ps.Series(pser)"
   ]
  },
  {
   "cell_type": "code",
   "execution_count": null,
   "metadata": {
    "application/vnd.databricks.v1+cell": {
     "cellMetadata": {
      "byteLimit": 2048000,
      "rowLimit": 10000
     },
     "inputWidgets": {},
     "nuid": "28ec7c7d-b7af-491b-82e6-c76483b1dd8e",
     "showTitle": false,
     "title": ""
    }
   },
   "outputs": [
    {
     "data": {
      "text/plain": [
       "pyspark.pandas.series.Series"
      ]
     },
     "execution_count": 9,
     "metadata": {},
     "output_type": "execute_result"
    }
   ],
   "source": [
    "type(psser_1)"
   ]
  },
  {
   "cell_type": "code",
   "execution_count": null,
   "metadata": {
    "application/vnd.databricks.v1+cell": {
     "cellMetadata": {
      "byteLimit": 2048000,
      "rowLimit": 10000
     },
     "inputWidgets": {},
     "nuid": "8cdca138-918c-408e-90b1-599d122732c8",
     "showTitle": false,
     "title": ""
    }
   },
   "outputs": [],
   "source": [
    "# Create pandas on spark series from a pandas series using from_pandas method\n",
    "psser_2 = ps.from_pandas(pser)"
   ]
  },
  {
   "cell_type": "code",
   "execution_count": null,
   "metadata": {
    "application/vnd.databricks.v1+cell": {
     "cellMetadata": {
      "byteLimit": 2048000,
      "rowLimit": 10000
     },
     "inputWidgets": {},
     "nuid": "e15c9975-da22-450e-901c-f321b5d81cbb",
     "showTitle": false,
     "title": ""
    }
   },
   "outputs": [
    {
     "data": {
      "text/plain": [
       "pyspark.pandas.series.Series"
      ]
     },
     "execution_count": 11,
     "metadata": {},
     "output_type": "execute_result"
    }
   ],
   "source": [
    "type(psser_2)"
   ]
  },
  {
   "cell_type": "code",
   "execution_count": null,
   "metadata": {
    "application/vnd.databricks.v1+cell": {
     "cellMetadata": {
      "byteLimit": 2048000,
      "rowLimit": 10000
     },
     "inputWidgets": {},
     "nuid": "1bad5849-5c16-4d5b-8fb7-a4969c10102b",
     "showTitle": false,
     "title": ""
    }
   },
   "outputs": [
    {
     "name": "stdout",
     "output_type": "stream",
     "text": [
      "0    2.0\n",
      "1    7.0\n",
      "2    8.0\n",
      "3    NaN\n",
      "4    9.0\n",
      "5    3.0\n",
      "dtype: float64\n"
     ]
    }
   ],
   "source": [
    "# Sort_index() methos to sort values\n",
    "print(psser.sort_index())"
   ]
  },
  {
   "cell_type": "markdown",
   "metadata": {
    "application/vnd.databricks.v1+cell": {
     "cellMetadata": {
      "byteLimit": 2048000,
      "rowLimit": 10000
     },
     "inputWidgets": {},
     "nuid": "78a3dc25-3c1e-47f9-a06c-6f8fdd95ca7e",
     "showTitle": false,
     "title": ""
    }
   },
   "source": [
    "## Object Creation - Dataframe"
   ]
  },
  {
   "cell_type": "code",
   "execution_count": null,
   "metadata": {
    "application/vnd.databricks.v1+cell": {
     "cellMetadata": {
      "byteLimit": 2048000,
      "rowLimit": 10000
     },
     "inputWidgets": {},
     "nuid": "9d11a6b4-105a-4843-8a03-0504be32bde5",
     "showTitle": false,
     "title": ""
    }
   },
   "outputs": [],
   "source": [
    "my_dict = {\"A\": np.random.rand(5),\n",
    "           \"B\": np.random.rand(5)}"
   ]
  },
  {
   "cell_type": "code",
   "execution_count": null,
   "metadata": {
    "application/vnd.databricks.v1+cell": {
     "cellMetadata": {
      "byteLimit": 2048000,
      "rowLimit": 10000
     },
     "inputWidgets": {},
     "nuid": "36dc31c2-cf46-4f28-b0de-03ebd7804d93",
     "showTitle": false,
     "title": ""
    }
   },
   "outputs": [
    {
     "data": {
      "text/plain": [
       "{'A': array([0.28979721, 0.79305657, 0.50397567, 0.53451766, 0.92259389]),\n",
       " 'B': array([0.78733222, 0.02793944, 0.80501529, 0.58557883, 0.73433594])}"
      ]
     },
     "execution_count": 14,
     "metadata": {},
     "output_type": "execute_result"
    }
   ],
   "source": [
    "my_dict"
   ]
  },
  {
   "cell_type": "code",
   "execution_count": null,
   "metadata": {
    "application/vnd.databricks.v1+cell": {
     "cellMetadata": {
      "byteLimit": 2048000,
      "rowLimit": 10000
     },
     "inputWidgets": {},
     "nuid": "189360c8-7c44-4c0d-89c5-0893ae5f8c5a",
     "showTitle": false,
     "title": ""
    }
   },
   "outputs": [],
   "source": [
    "pdf = pd.DataFrame(my_dict)"
   ]
  },
  {
   "cell_type": "code",
   "execution_count": null,
   "metadata": {
    "application/vnd.databricks.v1+cell": {
     "cellMetadata": {
      "byteLimit": 2048000,
      "rowLimit": 10000
     },
     "inputWidgets": {},
     "nuid": "1d8b50a7-0e16-4e26-9134-7a2db3621c50",
     "showTitle": false,
     "title": ""
    }
   },
   "outputs": [
    {
     "data": {
      "text/html": [
       "<div>\n",
       "<style scoped>\n",
       "    .dataframe tbody tr th:only-of-type {\n",
       "        vertical-align: middle;\n",
       "    }\n",
       "\n",
       "    .dataframe tbody tr th {\n",
       "        vertical-align: top;\n",
       "    }\n",
       "\n",
       "    .dataframe thead th {\n",
       "        text-align: right;\n",
       "    }\n",
       "</style>\n",
       "<table border=\"1\" class=\"dataframe\">\n",
       "  <thead>\n",
       "    <tr style=\"text-align: right;\">\n",
       "      <th></th>\n",
       "      <th>A</th>\n",
       "      <th>B</th>\n",
       "    </tr>\n",
       "  </thead>\n",
       "  <tbody>\n",
       "    <tr>\n",
       "      <th>0</th>\n",
       "      <td>0.289797</td>\n",
       "      <td>0.787332</td>\n",
       "    </tr>\n",
       "    <tr>\n",
       "      <th>1</th>\n",
       "      <td>0.793057</td>\n",
       "      <td>0.027939</td>\n",
       "    </tr>\n",
       "    <tr>\n",
       "      <th>2</th>\n",
       "      <td>0.503976</td>\n",
       "      <td>0.805015</td>\n",
       "    </tr>\n",
       "    <tr>\n",
       "      <th>3</th>\n",
       "      <td>0.534518</td>\n",
       "      <td>0.585579</td>\n",
       "    </tr>\n",
       "    <tr>\n",
       "      <th>4</th>\n",
       "      <td>0.922594</td>\n",
       "      <td>0.734336</td>\n",
       "    </tr>\n",
       "  </tbody>\n",
       "</table>\n",
       "</div>"
      ],
      "text/plain": [
       "          A         B\n",
       "0  0.289797  0.787332\n",
       "1  0.793057  0.027939\n",
       "2  0.503976  0.805015\n",
       "3  0.534518  0.585579\n",
       "4  0.922594  0.734336"
      ]
     },
     "execution_count": 16,
     "metadata": {},
     "output_type": "execute_result"
    }
   ],
   "source": [
    "pdf"
   ]
  },
  {
   "cell_type": "code",
   "execution_count": null,
   "metadata": {
    "application/vnd.databricks.v1+cell": {
     "cellMetadata": {
      "byteLimit": 2048000,
      "rowLimit": 10000
     },
     "inputWidgets": {},
     "nuid": "153eae6b-0f8b-47a2-be47-92075314425e",
     "showTitle": false,
     "title": ""
    }
   },
   "outputs": [
    {
     "data": {
      "text/plain": [
       "pandas.core.frame.DataFrame"
      ]
     },
     "execution_count": 17,
     "metadata": {},
     "output_type": "execute_result"
    }
   ],
   "source": [
    "type(pdf)"
   ]
  },
  {
   "cell_type": "code",
   "execution_count": null,
   "metadata": {
    "application/vnd.databricks.v1+cell": {
     "cellMetadata": {
      "byteLimit": 2048000,
      "rowLimit": 10000
     },
     "inputWidgets": {},
     "nuid": "80646529-ae30-4fdd-87df-7115da974b15",
     "showTitle": false,
     "title": ""
    }
   },
   "outputs": [],
   "source": [
    "# Create pandas-on-spark dataframe\n",
    "psdf = ps.DataFrame(my_dict)"
   ]
  },
  {
   "cell_type": "code",
   "execution_count": null,
   "metadata": {
    "application/vnd.databricks.v1+cell": {
     "cellMetadata": {
      "byteLimit": 2048000,
      "rowLimit": 10000
     },
     "inputWidgets": {},
     "nuid": "f22067c4-6e27-4706-9c69-4e124255405a",
     "showTitle": false,
     "title": ""
    }
   },
   "outputs": [
    {
     "data": {
      "text/html": [
       "<div>\n",
       "<style scoped>\n",
       "    .dataframe tbody tr th:only-of-type {\n",
       "        vertical-align: middle;\n",
       "    }\n",
       "\n",
       "    .dataframe tbody tr th {\n",
       "        vertical-align: top;\n",
       "    }\n",
       "\n",
       "    .dataframe thead th {\n",
       "        text-align: right;\n",
       "    }\n",
       "</style>\n",
       "<table border=\"1\" class=\"dataframe\">\n",
       "  <thead>\n",
       "    <tr style=\"text-align: right;\">\n",
       "      <th></th>\n",
       "      <th>A</th>\n",
       "      <th>B</th>\n",
       "    </tr>\n",
       "  </thead>\n",
       "  <tbody>\n",
       "    <tr>\n",
       "      <th>0</th>\n",
       "      <td>0.289797</td>\n",
       "      <td>0.787332</td>\n",
       "    </tr>\n",
       "    <tr>\n",
       "      <th>1</th>\n",
       "      <td>0.793057</td>\n",
       "      <td>0.027939</td>\n",
       "    </tr>\n",
       "    <tr>\n",
       "      <th>2</th>\n",
       "      <td>0.503976</td>\n",
       "      <td>0.805015</td>\n",
       "    </tr>\n",
       "    <tr>\n",
       "      <th>3</th>\n",
       "      <td>0.534518</td>\n",
       "      <td>0.585579</td>\n",
       "    </tr>\n",
       "    <tr>\n",
       "      <th>4</th>\n",
       "      <td>0.922594</td>\n",
       "      <td>0.734336</td>\n",
       "    </tr>\n",
       "  </tbody>\n",
       "</table>\n",
       "</div>"
      ],
      "text/plain": [
       "          A         B\n",
       "0  0.289797  0.787332\n",
       "1  0.793057  0.027939\n",
       "2  0.503976  0.805015\n",
       "3  0.534518  0.585579\n",
       "4  0.922594  0.734336"
      ]
     },
     "execution_count": 19,
     "metadata": {},
     "output_type": "execute_result"
    }
   ],
   "source": [
    "psdf"
   ]
  },
  {
   "cell_type": "code",
   "execution_count": null,
   "metadata": {
    "application/vnd.databricks.v1+cell": {
     "cellMetadata": {
      "byteLimit": 2048000,
      "rowLimit": 10000
     },
     "inputWidgets": {},
     "nuid": "77ec935f-3603-47f2-87ea-50032ca96c72",
     "showTitle": false,
     "title": ""
    }
   },
   "outputs": [
    {
     "data": {
      "text/plain": [
       "pyspark.pandas.frame.DataFrame"
      ]
     },
     "execution_count": 20,
     "metadata": {},
     "output_type": "execute_result"
    }
   ],
   "source": [
    "type(psdf)"
   ]
  },
  {
   "cell_type": "code",
   "execution_count": null,
   "metadata": {
    "application/vnd.databricks.v1+cell": {
     "cellMetadata": {
      "byteLimit": 2048000,
      "rowLimit": 10000
     },
     "inputWidgets": {},
     "nuid": "fd722a9e-16a5-49a2-9a33-6be254393a3f",
     "showTitle": false,
     "title": ""
    }
   },
   "outputs": [],
   "source": [
    "# Create pandas-on-spark dataframe by passing a pandas dataframe\n",
    "psdf_1 = ps.DataFrame(pdf)\n",
    "psdf_2 = ps.from_pandas(pdf)"
   ]
  },
  {
   "cell_type": "code",
   "execution_count": null,
   "metadata": {
    "application/vnd.databricks.v1+cell": {
     "cellMetadata": {
      "byteLimit": 2048000,
      "rowLimit": 10000
     },
     "inputWidgets": {},
     "nuid": "3241dd65-3830-4fca-a92d-bcf0db9af387",
     "showTitle": false,
     "title": ""
    }
   },
   "outputs": [
    {
     "data": {
      "text/html": [
       "<div>\n",
       "<style scoped>\n",
       "    .dataframe tbody tr th:only-of-type {\n",
       "        vertical-align: middle;\n",
       "    }\n",
       "\n",
       "    .dataframe tbody tr th {\n",
       "        vertical-align: top;\n",
       "    }\n",
       "\n",
       "    .dataframe thead th {\n",
       "        text-align: right;\n",
       "    }\n",
       "</style>\n",
       "<table border=\"1\" class=\"dataframe\">\n",
       "  <thead>\n",
       "    <tr style=\"text-align: right;\">\n",
       "      <th></th>\n",
       "      <th>A</th>\n",
       "      <th>B</th>\n",
       "    </tr>\n",
       "  </thead>\n",
       "  <tbody>\n",
       "    <tr>\n",
       "      <th>0</th>\n",
       "      <td>0.289797</td>\n",
       "      <td>0.787332</td>\n",
       "    </tr>\n",
       "    <tr>\n",
       "      <th>1</th>\n",
       "      <td>0.793057</td>\n",
       "      <td>0.027939</td>\n",
       "    </tr>\n",
       "    <tr>\n",
       "      <th>2</th>\n",
       "      <td>0.503976</td>\n",
       "      <td>0.805015</td>\n",
       "    </tr>\n",
       "    <tr>\n",
       "      <th>3</th>\n",
       "      <td>0.534518</td>\n",
       "      <td>0.585579</td>\n",
       "    </tr>\n",
       "    <tr>\n",
       "      <th>4</th>\n",
       "      <td>0.922594</td>\n",
       "      <td>0.734336</td>\n",
       "    </tr>\n",
       "  </tbody>\n",
       "</table>\n",
       "</div>"
      ],
      "text/plain": [
       "          A         B\n",
       "0  0.289797  0.787332\n",
       "1  0.793057  0.027939\n",
       "2  0.503976  0.805015\n",
       "3  0.534518  0.585579\n",
       "4  0.922594  0.734336"
      ]
     },
     "execution_count": 22,
     "metadata": {},
     "output_type": "execute_result"
    }
   ],
   "source": [
    "psdf_1"
   ]
  },
  {
   "cell_type": "code",
   "execution_count": null,
   "metadata": {
    "application/vnd.databricks.v1+cell": {
     "cellMetadata": {
      "byteLimit": 2048000,
      "rowLimit": 10000
     },
     "inputWidgets": {},
     "nuid": "08528648-17f6-4a41-966f-9412a6a67e18",
     "showTitle": false,
     "title": ""
    }
   },
   "outputs": [
    {
     "data": {
      "text/html": [
       "<div>\n",
       "<style scoped>\n",
       "    .dataframe tbody tr th:only-of-type {\n",
       "        vertical-align: middle;\n",
       "    }\n",
       "\n",
       "    .dataframe tbody tr th {\n",
       "        vertical-align: top;\n",
       "    }\n",
       "\n",
       "    .dataframe thead th {\n",
       "        text-align: right;\n",
       "    }\n",
       "</style>\n",
       "<table border=\"1\" class=\"dataframe\">\n",
       "  <thead>\n",
       "    <tr style=\"text-align: right;\">\n",
       "      <th></th>\n",
       "      <th>A</th>\n",
       "      <th>B</th>\n",
       "    </tr>\n",
       "  </thead>\n",
       "  <tbody>\n",
       "    <tr>\n",
       "      <th>0</th>\n",
       "      <td>0.289797</td>\n",
       "      <td>0.787332</td>\n",
       "    </tr>\n",
       "    <tr>\n",
       "      <th>1</th>\n",
       "      <td>0.793057</td>\n",
       "      <td>0.027939</td>\n",
       "    </tr>\n",
       "    <tr>\n",
       "      <th>2</th>\n",
       "      <td>0.503976</td>\n",
       "      <td>0.805015</td>\n",
       "    </tr>\n",
       "    <tr>\n",
       "      <th>3</th>\n",
       "      <td>0.534518</td>\n",
       "      <td>0.585579</td>\n",
       "    </tr>\n",
       "    <tr>\n",
       "      <th>4</th>\n",
       "      <td>0.922594</td>\n",
       "      <td>0.734336</td>\n",
       "    </tr>\n",
       "  </tbody>\n",
       "</table>\n",
       "</div>"
      ],
      "text/plain": [
       "          A         B\n",
       "0  0.289797  0.787332\n",
       "1  0.793057  0.027939\n",
       "2  0.503976  0.805015\n",
       "3  0.534518  0.585579\n",
       "4  0.922594  0.734336"
      ]
     },
     "execution_count": 23,
     "metadata": {},
     "output_type": "execute_result"
    }
   ],
   "source": [
    "psdf_2"
   ]
  },
  {
   "cell_type": "code",
   "execution_count": null,
   "metadata": {
    "application/vnd.databricks.v1+cell": {
     "cellMetadata": {
      "byteLimit": 2048000,
      "rowLimit": 10000
     },
     "inputWidgets": {},
     "nuid": "d77e8557-1246-4592-8f3c-b853a419bd0c",
     "showTitle": false,
     "title": ""
    }
   },
   "outputs": [
    {
     "name": "stdout",
     "output_type": "stream",
     "text": [
      "          A         B\n",
      "0  0.289797  0.787332\n",
      "1  0.793057  0.027939\n",
      "2  0.503976  0.805015\n",
      "3  0.534518  0.585579\n",
      "4  0.922594  0.734336\n"
     ]
    }
   ],
   "source": [
    "# sort_index() on pandas dataframe\n",
    "print(psdf_1.sort_index())"
   ]
  },
  {
   "cell_type": "code",
   "execution_count": null,
   "metadata": {
    "application/vnd.databricks.v1+cell": {
     "cellMetadata": {
      "byteLimit": 2048000,
      "rowLimit": 10000
     },
     "inputWidgets": {},
     "nuid": "6d85f5fb-4df2-4b6c-970a-17c124e8d056",
     "showTitle": false,
     "title": ""
    }
   },
   "outputs": [
    {
     "name": "stdout",
     "output_type": "stream",
     "text": [
      "          A         B\n",
      "0  0.289797  0.787332\n",
      "1  0.793057  0.027939\n",
      "2  0.503976  0.805015\n",
      "3  0.534518  0.585579\n",
      "4  0.922594  0.734336\n"
     ]
    }
   ],
   "source": [
    "# sort_index() on pandas dataframe\n",
    "print(psdf_2.sort_index())"
   ]
  },
  {
   "cell_type": "markdown",
   "metadata": {
    "application/vnd.databricks.v1+cell": {
     "cellMetadata": {
      "byteLimit": 2048000,
      "rowLimit": 10000
     },
     "inputWidgets": {},
     "nuid": "59db5e7d-b85f-4114-ad0a-b53d37422bc1",
     "showTitle": false,
     "title": ""
    }
   },
   "source": [
    "## Summary Statistics"
   ]
  },
  {
   "cell_type": "code",
   "execution_count": null,
   "metadata": {
    "application/vnd.databricks.v1+cell": {
     "cellMetadata": {
      "byteLimit": 2048000,
      "rowLimit": 10000
     },
     "inputWidgets": {},
     "nuid": "318ab2a7-f560-421d-b9e1-e93f2c48fda5",
     "showTitle": false,
     "title": ""
    }
   },
   "outputs": [
    {
     "data": {
      "text/plain": [
       "count    5.000000\n",
       "mean     5.800000\n",
       "std      3.114482\n",
       "min      2.000000\n",
       "25%      3.000000\n",
       "50%      7.000000\n",
       "75%      8.000000\n",
       "max      9.000000\n",
       "dtype: float64"
      ]
     },
     "execution_count": 26,
     "metadata": {},
     "output_type": "execute_result"
    }
   ],
   "source": [
    "psser.describe()"
   ]
  },
  {
   "cell_type": "code",
   "execution_count": null,
   "metadata": {
    "application/vnd.databricks.v1+cell": {
     "cellMetadata": {
      "byteLimit": 2048000,
      "rowLimit": 10000
     },
     "inputWidgets": {},
     "nuid": "190a5e80-5455-4d40-a2cb-1df396380fae",
     "showTitle": false,
     "title": ""
    }
   },
   "outputs": [
    {
     "data": {
      "text/html": [
       "<div>\n",
       "<style scoped>\n",
       "    .dataframe tbody tr th:only-of-type {\n",
       "        vertical-align: middle;\n",
       "    }\n",
       "\n",
       "    .dataframe tbody tr th {\n",
       "        vertical-align: top;\n",
       "    }\n",
       "\n",
       "    .dataframe thead th {\n",
       "        text-align: right;\n",
       "    }\n",
       "</style>\n",
       "<table border=\"1\" class=\"dataframe\">\n",
       "  <thead>\n",
       "    <tr style=\"text-align: right;\">\n",
       "      <th></th>\n",
       "      <th>A</th>\n",
       "      <th>B</th>\n",
       "    </tr>\n",
       "  </thead>\n",
       "  <tbody>\n",
       "    <tr>\n",
       "      <th>count</th>\n",
       "      <td>5.000000</td>\n",
       "      <td>5.000000</td>\n",
       "    </tr>\n",
       "    <tr>\n",
       "      <th>mean</th>\n",
       "      <td>0.608788</td>\n",
       "      <td>0.588040</td>\n",
       "    </tr>\n",
       "    <tr>\n",
       "      <th>std</th>\n",
       "      <td>0.250343</td>\n",
       "      <td>0.324776</td>\n",
       "    </tr>\n",
       "    <tr>\n",
       "      <th>min</th>\n",
       "      <td>0.289797</td>\n",
       "      <td>0.027939</td>\n",
       "    </tr>\n",
       "    <tr>\n",
       "      <th>25%</th>\n",
       "      <td>0.503976</td>\n",
       "      <td>0.585579</td>\n",
       "    </tr>\n",
       "    <tr>\n",
       "      <th>50%</th>\n",
       "      <td>0.534518</td>\n",
       "      <td>0.734336</td>\n",
       "    </tr>\n",
       "    <tr>\n",
       "      <th>75%</th>\n",
       "      <td>0.793057</td>\n",
       "      <td>0.787332</td>\n",
       "    </tr>\n",
       "    <tr>\n",
       "      <th>max</th>\n",
       "      <td>0.922594</td>\n",
       "      <td>0.805015</td>\n",
       "    </tr>\n",
       "  </tbody>\n",
       "</table>\n",
       "</div>"
      ],
      "text/plain": [
       "              A         B\n",
       "count  5.000000  5.000000\n",
       "mean   0.608788  0.588040\n",
       "std    0.250343  0.324776\n",
       "min    0.289797  0.027939\n",
       "25%    0.503976  0.585579\n",
       "50%    0.534518  0.734336\n",
       "75%    0.793057  0.787332\n",
       "max    0.922594  0.805015"
      ]
     },
     "execution_count": 27,
     "metadata": {},
     "output_type": "execute_result"
    }
   ],
   "source": [
    "psdf.describe()"
   ]
  },
  {
   "cell_type": "code",
   "execution_count": null,
   "metadata": {
    "application/vnd.databricks.v1+cell": {
     "cellMetadata": {
      "byteLimit": 2048000,
      "rowLimit": 10000
     },
     "inputWidgets": {},
     "nuid": "60ef9865-5fb6-4884-94e3-1a26339cd160",
     "showTitle": false,
     "title": ""
    }
   },
   "outputs": [
    {
     "data": {
      "text/plain": [
       "0    2.0\n",
       "5    3.0\n",
       "1    7.0\n",
       "2    8.0\n",
       "4    9.0\n",
       "3    NaN\n",
       "dtype: float64"
      ]
     },
     "execution_count": 28,
     "metadata": {},
     "output_type": "execute_result"
    }
   ],
   "source": [
    "# Sort values on series\n",
    "psser.sort_values()"
   ]
  },
  {
   "cell_type": "code",
   "execution_count": null,
   "metadata": {
    "application/vnd.databricks.v1+cell": {
     "cellMetadata": {
      "byteLimit": 2048000,
      "rowLimit": 10000
     },
     "inputWidgets": {},
     "nuid": "e4f855bb-01fd-44b5-9432-d530433d9a74",
     "showTitle": false,
     "title": ""
    }
   },
   "outputs": [
    {
     "data": {
      "text/html": [
       "<div>\n",
       "<style scoped>\n",
       "    .dataframe tbody tr th:only-of-type {\n",
       "        vertical-align: middle;\n",
       "    }\n",
       "\n",
       "    .dataframe tbody tr th {\n",
       "        vertical-align: top;\n",
       "    }\n",
       "\n",
       "    .dataframe thead th {\n",
       "        text-align: right;\n",
       "    }\n",
       "</style>\n",
       "<table border=\"1\" class=\"dataframe\">\n",
       "  <thead>\n",
       "    <tr style=\"text-align: right;\">\n",
       "      <th></th>\n",
       "      <th>A</th>\n",
       "      <th>B</th>\n",
       "    </tr>\n",
       "  </thead>\n",
       "  <tbody>\n",
       "    <tr>\n",
       "      <th>0</th>\n",
       "      <td>0.289797</td>\n",
       "      <td>0.787332</td>\n",
       "    </tr>\n",
       "    <tr>\n",
       "      <th>1</th>\n",
       "      <td>0.793057</td>\n",
       "      <td>0.027939</td>\n",
       "    </tr>\n",
       "    <tr>\n",
       "      <th>2</th>\n",
       "      <td>0.503976</td>\n",
       "      <td>0.805015</td>\n",
       "    </tr>\n",
       "    <tr>\n",
       "      <th>3</th>\n",
       "      <td>0.534518</td>\n",
       "      <td>0.585579</td>\n",
       "    </tr>\n",
       "    <tr>\n",
       "      <th>4</th>\n",
       "      <td>0.922594</td>\n",
       "      <td>0.734336</td>\n",
       "    </tr>\n",
       "  </tbody>\n",
       "</table>\n",
       "</div>"
      ],
      "text/plain": [
       "          A         B\n",
       "0  0.289797  0.787332\n",
       "1  0.793057  0.027939\n",
       "2  0.503976  0.805015\n",
       "3  0.534518  0.585579\n",
       "4  0.922594  0.734336"
      ]
     },
     "execution_count": 29,
     "metadata": {},
     "output_type": "execute_result"
    }
   ],
   "source": [
    "psdf"
   ]
  },
  {
   "cell_type": "code",
   "execution_count": null,
   "metadata": {
    "application/vnd.databricks.v1+cell": {
     "cellMetadata": {
      "byteLimit": 2048000,
      "rowLimit": 10000
     },
     "inputWidgets": {},
     "nuid": "be07a2ed-295a-4968-9f53-d892c7657668",
     "showTitle": false,
     "title": ""
    }
   },
   "outputs": [
    {
     "data": {
      "text/html": [
       "<div>\n",
       "<style scoped>\n",
       "    .dataframe tbody tr th:only-of-type {\n",
       "        vertical-align: middle;\n",
       "    }\n",
       "\n",
       "    .dataframe tbody tr th {\n",
       "        vertical-align: top;\n",
       "    }\n",
       "\n",
       "    .dataframe thead th {\n",
       "        text-align: right;\n",
       "    }\n",
       "</style>\n",
       "<table border=\"1\" class=\"dataframe\">\n",
       "  <thead>\n",
       "    <tr style=\"text-align: right;\">\n",
       "      <th></th>\n",
       "      <th>A</th>\n",
       "      <th>B</th>\n",
       "    </tr>\n",
       "  </thead>\n",
       "  <tbody>\n",
       "    <tr>\n",
       "      <th>1</th>\n",
       "      <td>0.793057</td>\n",
       "      <td>0.027939</td>\n",
       "    </tr>\n",
       "    <tr>\n",
       "      <th>3</th>\n",
       "      <td>0.534518</td>\n",
       "      <td>0.585579</td>\n",
       "    </tr>\n",
       "    <tr>\n",
       "      <th>4</th>\n",
       "      <td>0.922594</td>\n",
       "      <td>0.734336</td>\n",
       "    </tr>\n",
       "    <tr>\n",
       "      <th>0</th>\n",
       "      <td>0.289797</td>\n",
       "      <td>0.787332</td>\n",
       "    </tr>\n",
       "    <tr>\n",
       "      <th>2</th>\n",
       "      <td>0.503976</td>\n",
       "      <td>0.805015</td>\n",
       "    </tr>\n",
       "  </tbody>\n",
       "</table>\n",
       "</div>"
      ],
      "text/plain": [
       "          A         B\n",
       "1  0.793057  0.027939\n",
       "3  0.534518  0.585579\n",
       "4  0.922594  0.734336\n",
       "0  0.289797  0.787332\n",
       "2  0.503976  0.805015"
      ]
     },
     "execution_count": 30,
     "metadata": {},
     "output_type": "execute_result"
    }
   ],
   "source": [
    "# Sort value son dataframe : pass column name on which osrting to be done\n",
    "psdf.sort_values(by='B')"
   ]
  },
  {
   "cell_type": "code",
   "execution_count": null,
   "metadata": {
    "application/vnd.databricks.v1+cell": {
     "cellMetadata": {
      "byteLimit": 2048000,
      "rowLimit": 10000
     },
     "inputWidgets": {},
     "nuid": "c7449108-2f4c-436f-a361-8be335147c97",
     "showTitle": false,
     "title": ""
    }
   },
   "outputs": [
    {
     "data": {
      "text/html": [
       "<div>\n",
       "<style scoped>\n",
       "    .dataframe tbody tr th:only-of-type {\n",
       "        vertical-align: middle;\n",
       "    }\n",
       "\n",
       "    .dataframe tbody tr th {\n",
       "        vertical-align: top;\n",
       "    }\n",
       "\n",
       "    .dataframe thead th {\n",
       "        text-align: right;\n",
       "    }\n",
       "</style>\n",
       "<table border=\"1\" class=\"dataframe\">\n",
       "  <thead>\n",
       "    <tr style=\"text-align: right;\">\n",
       "      <th></th>\n",
       "      <th>0</th>\n",
       "      <th>1</th>\n",
       "      <th>2</th>\n",
       "      <th>3</th>\n",
       "      <th>4</th>\n",
       "    </tr>\n",
       "  </thead>\n",
       "  <tbody>\n",
       "    <tr>\n",
       "      <th>A</th>\n",
       "      <td>0.289797</td>\n",
       "      <td>0.793057</td>\n",
       "      <td>0.503976</td>\n",
       "      <td>0.534518</td>\n",
       "      <td>0.922594</td>\n",
       "    </tr>\n",
       "    <tr>\n",
       "      <th>B</th>\n",
       "      <td>0.787332</td>\n",
       "      <td>0.027939</td>\n",
       "      <td>0.805015</td>\n",
       "      <td>0.585579</td>\n",
       "      <td>0.734336</td>\n",
       "    </tr>\n",
       "  </tbody>\n",
       "</table>\n",
       "</div>"
      ],
      "text/plain": [
       "          0         1         2         3         4\n",
       "A  0.289797  0.793057  0.503976  0.534518  0.922594\n",
       "B  0.787332  0.027939  0.805015  0.585579  0.734336"
      ]
     },
     "execution_count": 31,
     "metadata": {},
     "output_type": "execute_result"
    }
   ],
   "source": [
    "# transpose method\n",
    "psdf.transpose()"
   ]
  },
  {
   "cell_type": "code",
   "execution_count": null,
   "metadata": {
    "application/vnd.databricks.v1+cell": {
     "cellMetadata": {
      "byteLimit": 2048000,
      "rowLimit": 10000
     },
     "inputWidgets": {},
     "nuid": "01146aea-064a-462d-8805-43f4bbe8a23e",
     "showTitle": false,
     "title": ""
    }
   },
   "outputs": [
    {
     "data": {
      "text/plain": [
       "1000"
      ]
     },
     "execution_count": 32,
     "metadata": {},
     "output_type": "execute_result"
    }
   ],
   "source": [
    "ps.get_option('compute.max_rows')"
   ]
  },
  {
   "cell_type": "markdown",
   "metadata": {
    "application/vnd.databricks.v1+cell": {
     "cellMetadata": {
      "byteLimit": 2048000,
      "rowLimit": 10000
     },
     "inputWidgets": {},
     "nuid": "7f5b0dd5-3530-49b3-96b2-23f38b68f5c9",
     "showTitle": false,
     "title": ""
    }
   },
   "source": [
    "This shows the maximum number of rows displayed"
   ]
  },
  {
   "cell_type": "code",
   "execution_count": null,
   "metadata": {
    "application/vnd.databricks.v1+cell": {
     "cellMetadata": {
      "byteLimit": 2048000,
      "rowLimit": 10000
     },
     "inputWidgets": {},
     "nuid": "018f25a5-f6f3-4ff5-a06e-38b2953d7b11",
     "showTitle": false,
     "title": ""
    }
   },
   "outputs": [],
   "source": [
    "ps.set_option('compute.max_rows',2000)"
   ]
  },
  {
   "cell_type": "code",
   "execution_count": null,
   "metadata": {
    "application/vnd.databricks.v1+cell": {
     "cellMetadata": {
      "byteLimit": 2048000,
      "rowLimit": 10000
     },
     "inputWidgets": {},
     "nuid": "0e1715c4-db61-4a87-bac9-b3cbaf3fbb7e",
     "showTitle": false,
     "title": ""
    }
   },
   "outputs": [
    {
     "data": {
      "text/plain": [
       "2000"
      ]
     },
     "execution_count": 34,
     "metadata": {},
     "output_type": "execute_result"
    }
   ],
   "source": [
    "ps.get_option('compute.max_rows')"
   ]
  },
  {
   "cell_type": "markdown",
   "metadata": {
    "application/vnd.databricks.v1+cell": {
     "cellMetadata": {
      "byteLimit": 2048000,
      "rowLimit": 10000
     },
     "inputWidgets": {},
     "nuid": "52515587-6c69-49ea-a9ac-cae8bfbc2ec4",
     "showTitle": false,
     "title": ""
    }
   },
   "source": [
    "## Selection"
   ]
  },
  {
   "cell_type": "code",
   "execution_count": null,
   "metadata": {
    "application/vnd.databricks.v1+cell": {
     "cellMetadata": {
      "byteLimit": 2048000,
      "rowLimit": 10000
     },
     "inputWidgets": {},
     "nuid": "0c8f7961-add3-489f-8c3b-4a20bd711579",
     "showTitle": false,
     "title": ""
    }
   },
   "outputs": [
    {
     "data": {
      "text/plain": [
       "0    0.289797\n",
       "1    0.793057\n",
       "2    0.503976\n",
       "3    0.534518\n",
       "4    0.922594\n",
       "Name: A, dtype: float64"
      ]
     },
     "execution_count": 35,
     "metadata": {},
     "output_type": "execute_result"
    }
   ],
   "source": [
    "psdf['A']"
   ]
  },
  {
   "cell_type": "code",
   "execution_count": null,
   "metadata": {
    "application/vnd.databricks.v1+cell": {
     "cellMetadata": {
      "byteLimit": 2048000,
      "rowLimit": 10000
     },
     "inputWidgets": {},
     "nuid": "900e7e39-25f8-4e61-bbd1-4d12628a165a",
     "showTitle": false,
     "title": ""
    }
   },
   "outputs": [
    {
     "data": {
      "text/html": [
       "<div>\n",
       "<style scoped>\n",
       "    .dataframe tbody tr th:only-of-type {\n",
       "        vertical-align: middle;\n",
       "    }\n",
       "\n",
       "    .dataframe tbody tr th {\n",
       "        vertical-align: top;\n",
       "    }\n",
       "\n",
       "    .dataframe thead th {\n",
       "        text-align: right;\n",
       "    }\n",
       "</style>\n",
       "<table border=\"1\" class=\"dataframe\">\n",
       "  <thead>\n",
       "    <tr style=\"text-align: right;\">\n",
       "      <th></th>\n",
       "      <th>A</th>\n",
       "      <th>B</th>\n",
       "    </tr>\n",
       "  </thead>\n",
       "  <tbody>\n",
       "    <tr>\n",
       "      <th>0</th>\n",
       "      <td>0.289797</td>\n",
       "      <td>0.787332</td>\n",
       "    </tr>\n",
       "    <tr>\n",
       "      <th>1</th>\n",
       "      <td>0.793057</td>\n",
       "      <td>0.027939</td>\n",
       "    </tr>\n",
       "    <tr>\n",
       "      <th>2</th>\n",
       "      <td>0.503976</td>\n",
       "      <td>0.805015</td>\n",
       "    </tr>\n",
       "    <tr>\n",
       "      <th>3</th>\n",
       "      <td>0.534518</td>\n",
       "      <td>0.585579</td>\n",
       "    </tr>\n",
       "    <tr>\n",
       "      <th>4</th>\n",
       "      <td>0.922594</td>\n",
       "      <td>0.734336</td>\n",
       "    </tr>\n",
       "  </tbody>\n",
       "</table>\n",
       "</div>"
      ],
      "text/plain": [
       "          A         B\n",
       "0  0.289797  0.787332\n",
       "1  0.793057  0.027939\n",
       "2  0.503976  0.805015\n",
       "3  0.534518  0.585579\n",
       "4  0.922594  0.734336"
      ]
     },
     "execution_count": 36,
     "metadata": {},
     "output_type": "execute_result"
    }
   ],
   "source": [
    "psdf[['A','B']]"
   ]
  },
  {
   "cell_type": "code",
   "execution_count": null,
   "metadata": {
    "application/vnd.databricks.v1+cell": {
     "cellMetadata": {
      "byteLimit": 2048000,
      "rowLimit": 10000
     },
     "inputWidgets": {},
     "nuid": "86d4e11b-5e6d-4a11-88a2-c9442ca0c080",
     "showTitle": false,
     "title": ""
    }
   },
   "outputs": [
    {
     "data": {
      "text/plain": [
       "0    0.289797\n",
       "1    0.793057\n",
       "2    0.503976\n",
       "3    0.534518\n",
       "4    0.922594\n",
       "Name: A, dtype: float64"
      ]
     },
     "execution_count": 37,
     "metadata": {},
     "output_type": "execute_result"
    }
   ],
   "source": [
    "psdf.A"
   ]
  },
  {
   "cell_type": "code",
   "execution_count": null,
   "metadata": {
    "application/vnd.databricks.v1+cell": {
     "cellMetadata": {
      "byteLimit": 2048000,
      "rowLimit": 10000
     },
     "inputWidgets": {},
     "nuid": "40db8b47-6e1f-481b-8496-e42a325521cb",
     "showTitle": false,
     "title": ""
    }
   },
   "outputs": [
    {
     "data": {
      "text/html": [
       "<div>\n",
       "<style scoped>\n",
       "    .dataframe tbody tr th:only-of-type {\n",
       "        vertical-align: middle;\n",
       "    }\n",
       "\n",
       "    .dataframe tbody tr th {\n",
       "        vertical-align: top;\n",
       "    }\n",
       "\n",
       "    .dataframe thead th {\n",
       "        text-align: right;\n",
       "    }\n",
       "</style>\n",
       "<table border=\"1\" class=\"dataframe\">\n",
       "  <thead>\n",
       "    <tr style=\"text-align: right;\">\n",
       "      <th></th>\n",
       "      <th>A</th>\n",
       "      <th>B</th>\n",
       "    </tr>\n",
       "  </thead>\n",
       "  <tbody>\n",
       "    <tr>\n",
       "      <th>0</th>\n",
       "      <td>0.289797</td>\n",
       "      <td>0.787332</td>\n",
       "    </tr>\n",
       "    <tr>\n",
       "      <th>1</th>\n",
       "      <td>0.793057</td>\n",
       "      <td>0.027939</td>\n",
       "    </tr>\n",
       "    <tr>\n",
       "      <th>2</th>\n",
       "      <td>0.503976</td>\n",
       "      <td>0.805015</td>\n",
       "    </tr>\n",
       "  </tbody>\n",
       "</table>\n",
       "</div>"
      ],
      "text/plain": [
       "          A         B\n",
       "0  0.289797  0.787332\n",
       "1  0.793057  0.027939\n",
       "2  0.503976  0.805015"
      ]
     },
     "execution_count": 38,
     "metadata": {},
     "output_type": "execute_result"
    }
   ],
   "source": [
    "psdf.loc[0:2]"
   ]
  },
  {
   "cell_type": "markdown",
   "metadata": {
    "application/vnd.databricks.v1+cell": {
     "cellMetadata": {
      "byteLimit": 2048000,
      "rowLimit": 10000
     },
     "inputWidgets": {},
     "nuid": "9de11505-bd3e-4ee4-b70b-7eb1a9a82a67",
     "showTitle": false,
     "title": ""
    }
   },
   "source": [
    "Both indexes are inclusive"
   ]
  },
  {
   "cell_type": "code",
   "execution_count": null,
   "metadata": {
    "application/vnd.databricks.v1+cell": {
     "cellMetadata": {
      "byteLimit": 2048000,
      "rowLimit": 10000
     },
     "inputWidgets": {},
     "nuid": "ae6c8f83-a8a6-440a-a20f-cad575fd8aa4",
     "showTitle": false,
     "title": ""
    }
   },
   "outputs": [
    {
     "data": {
      "text/html": [
       "<div>\n",
       "<style scoped>\n",
       "    .dataframe tbody tr th:only-of-type {\n",
       "        vertical-align: middle;\n",
       "    }\n",
       "\n",
       "    .dataframe tbody tr th {\n",
       "        vertical-align: top;\n",
       "    }\n",
       "\n",
       "    .dataframe thead th {\n",
       "        text-align: right;\n",
       "    }\n",
       "</style>\n",
       "<table border=\"1\" class=\"dataframe\">\n",
       "  <thead>\n",
       "    <tr style=\"text-align: right;\">\n",
       "      <th></th>\n",
       "      <th>A</th>\n",
       "    </tr>\n",
       "  </thead>\n",
       "  <tbody>\n",
       "    <tr>\n",
       "      <th>0</th>\n",
       "      <td>0.289797</td>\n",
       "    </tr>\n",
       "    <tr>\n",
       "      <th>1</th>\n",
       "      <td>0.793057</td>\n",
       "    </tr>\n",
       "  </tbody>\n",
       "</table>\n",
       "</div>"
      ],
      "text/plain": [
       "          A\n",
       "0  0.289797\n",
       "1  0.793057"
      ]
     },
     "execution_count": 39,
     "metadata": {},
     "output_type": "execute_result"
    }
   ],
   "source": [
    "# Slicing\n",
    "psdf.iloc[0:2,0:1]"
   ]
  },
  {
   "cell_type": "markdown",
   "metadata": {
    "application/vnd.databricks.v1+cell": {
     "cellMetadata": {
      "byteLimit": 2048000,
      "rowLimit": 10000
     },
     "inputWidgets": {},
     "nuid": "f12a4856-7636-4ff7-aa40-cd2dc5114c32",
     "showTitle": false,
     "title": ""
    }
   },
   "source": [
    "in iloc end index is exclusive"
   ]
  },
  {
   "cell_type": "code",
   "execution_count": null,
   "metadata": {
    "application/vnd.databricks.v1+cell": {
     "cellMetadata": {
      "byteLimit": 2048000,
      "rowLimit": 10000
     },
     "inputWidgets": {},
     "nuid": "6964ecb1-be4c-4419-9e59-8c910d9b18f1",
     "showTitle": false,
     "title": ""
    }
   },
   "outputs": [
    {
     "name": "stdout",
     "output_type": "stream",
     "text": [
      "          A         B    C\n",
      "0  0.289797  0.787332  2.0\n",
      "1  0.793057  0.027939  7.0\n",
      "2  0.503976  0.805015  8.0\n",
      "3  0.534518  0.585579  NaN\n",
      "4  0.922594  0.734336  9.0\n"
     ]
    }
   ],
   "source": [
    "# for creating new column from another series\n",
    "from pyspark.pandas.config import set_option, reset_option\n",
    "set_option(\"compute.ops_on_diff_frames\", True)\n",
    "psdf[\"C\"] = psser\n",
    "\n",
    "# reset to default to avoid potentially expensive operation in future\n",
    "reset_option(\"compute.ops_on_diff_frames\")\n",
    "print(psdf)"
   ]
  },
  {
   "cell_type": "markdown",
   "metadata": {
    "application/vnd.databricks.v1+cell": {
     "cellMetadata": {},
     "inputWidgets": {},
     "nuid": "54b75b88-c8ed-4cef-92f8-5a3a385b9a53",
     "showTitle": false,
     "title": ""
    }
   },
   "source": [
    "## Applying pandas function with pandas-on-spark object"
   ]
  },
  {
   "cell_type": "code",
   "execution_count": null,
   "metadata": {
    "application/vnd.databricks.v1+cell": {
     "cellMetadata": {
      "byteLimit": 2048000,
      "rowLimit": 10000
     },
     "inputWidgets": {},
     "nuid": "eaad768f-fa8a-49a0-9bc7-a3893ed6c63f",
     "showTitle": false,
     "title": ""
    }
   },
   "outputs": [
    {
     "data": {
      "text/html": [
       "<div>\n",
       "<style scoped>\n",
       "    .dataframe tbody tr th:only-of-type {\n",
       "        vertical-align: middle;\n",
       "    }\n",
       "\n",
       "    .dataframe tbody tr th {\n",
       "        vertical-align: top;\n",
       "    }\n",
       "\n",
       "    .dataframe thead th {\n",
       "        text-align: right;\n",
       "    }\n",
       "</style>\n",
       "<table border=\"1\" class=\"dataframe\">\n",
       "  <thead>\n",
       "    <tr style=\"text-align: right;\">\n",
       "      <th></th>\n",
       "      <th>A</th>\n",
       "      <th>B</th>\n",
       "      <th>C</th>\n",
       "    </tr>\n",
       "  </thead>\n",
       "  <tbody>\n",
       "    <tr>\n",
       "      <th>0</th>\n",
       "      <td>0.289797</td>\n",
       "      <td>0.787332</td>\n",
       "      <td>2.0</td>\n",
       "    </tr>\n",
       "    <tr>\n",
       "      <th>1</th>\n",
       "      <td>1.082854</td>\n",
       "      <td>0.815272</td>\n",
       "      <td>9.0</td>\n",
       "    </tr>\n",
       "    <tr>\n",
       "      <th>2</th>\n",
       "      <td>1.586829</td>\n",
       "      <td>1.620287</td>\n",
       "      <td>17.0</td>\n",
       "    </tr>\n",
       "    <tr>\n",
       "      <th>3</th>\n",
       "      <td>2.121347</td>\n",
       "      <td>2.205866</td>\n",
       "      <td>NaN</td>\n",
       "    </tr>\n",
       "    <tr>\n",
       "      <th>4</th>\n",
       "      <td>3.043941</td>\n",
       "      <td>2.940202</td>\n",
       "      <td>26.0</td>\n",
       "    </tr>\n",
       "  </tbody>\n",
       "</table>\n",
       "</div>"
      ],
      "text/plain": [
       "          A         B     C\n",
       "0  0.289797  0.787332   2.0\n",
       "1  1.082854  0.815272   9.0\n",
       "2  1.586829  1.620287  17.0\n",
       "3  2.121347  2.205866   NaN\n",
       "4  3.043941  2.940202  26.0"
      ]
     },
     "execution_count": 43,
     "metadata": {},
     "output_type": "execute_result"
    }
   ],
   "source": [
    "# Cummulative sum\n",
    "psdf.apply(np.cumsum)"
   ]
  },
  {
   "cell_type": "code",
   "execution_count": null,
   "metadata": {
    "application/vnd.databricks.v1+cell": {
     "cellMetadata": {
      "byteLimit": 2048000,
      "rowLimit": 10000
     },
     "inputWidgets": {},
     "nuid": "5ce53cf8-1c56-4d48-b7e1-fafe088461b0",
     "showTitle": false,
     "title": ""
    }
   },
   "outputs": [
    {
     "data": {
      "text/html": [
       "<div>\n",
       "<style scoped>\n",
       "    .dataframe tbody tr th:only-of-type {\n",
       "        vertical-align: middle;\n",
       "    }\n",
       "\n",
       "    .dataframe tbody tr th {\n",
       "        vertical-align: top;\n",
       "    }\n",
       "\n",
       "    .dataframe thead th {\n",
       "        text-align: right;\n",
       "    }\n",
       "</style>\n",
       "<table border=\"1\" class=\"dataframe\">\n",
       "  <thead>\n",
       "    <tr style=\"text-align: right;\">\n",
       "      <th></th>\n",
       "      <th>A</th>\n",
       "      <th>B</th>\n",
       "      <th>C</th>\n",
       "    </tr>\n",
       "  </thead>\n",
       "  <tbody>\n",
       "    <tr>\n",
       "      <th>0</th>\n",
       "      <td>0.289797</td>\n",
       "      <td>1.077129</td>\n",
       "      <td>3.077129</td>\n",
       "    </tr>\n",
       "    <tr>\n",
       "      <th>1</th>\n",
       "      <td>0.793057</td>\n",
       "      <td>0.820996</td>\n",
       "      <td>7.820996</td>\n",
       "    </tr>\n",
       "    <tr>\n",
       "      <th>2</th>\n",
       "      <td>0.503976</td>\n",
       "      <td>1.308991</td>\n",
       "      <td>9.308991</td>\n",
       "    </tr>\n",
       "    <tr>\n",
       "      <th>3</th>\n",
       "      <td>0.534518</td>\n",
       "      <td>1.120096</td>\n",
       "      <td>NaN</td>\n",
       "    </tr>\n",
       "    <tr>\n",
       "      <th>4</th>\n",
       "      <td>0.922594</td>\n",
       "      <td>1.656930</td>\n",
       "      <td>10.656930</td>\n",
       "    </tr>\n",
       "  </tbody>\n",
       "</table>\n",
       "</div>"
      ],
      "text/plain": [
       "          A         B          C\n",
       "0  0.289797  1.077129   3.077129\n",
       "1  0.793057  0.820996   7.820996\n",
       "2  0.503976  1.308991   9.308991\n",
       "3  0.534518  1.120096        NaN\n",
       "4  0.922594  1.656930  10.656930"
      ]
     },
     "execution_count": 44,
     "metadata": {},
     "output_type": "execute_result"
    }
   ],
   "source": [
    "# Cummulative sum column wise\n",
    "psdf.apply(np.cumsum, axis=1)"
   ]
  },
  {
   "cell_type": "code",
   "execution_count": null,
   "metadata": {
    "application/vnd.databricks.v1+cell": {
     "cellMetadata": {
      "byteLimit": 2048000,
      "rowLimit": 10000
     },
     "inputWidgets": {},
     "nuid": "0afaf893-2782-4fde-95c8-2d3e9e1d83ce",
     "showTitle": false,
     "title": ""
    }
   },
   "outputs": [
    {
     "data": {
      "text/html": [
       "<div>\n",
       "<style scoped>\n",
       "    .dataframe tbody tr th:only-of-type {\n",
       "        vertical-align: middle;\n",
       "    }\n",
       "\n",
       "    .dataframe tbody tr th {\n",
       "        vertical-align: top;\n",
       "    }\n",
       "\n",
       "    .dataframe thead th {\n",
       "        text-align: right;\n",
       "    }\n",
       "</style>\n",
       "<table border=\"1\" class=\"dataframe\">\n",
       "  <thead>\n",
       "    <tr style=\"text-align: right;\">\n",
       "      <th></th>\n",
       "      <th>A</th>\n",
       "      <th>B</th>\n",
       "      <th>C</th>\n",
       "    </tr>\n",
       "  </thead>\n",
       "  <tbody>\n",
       "    <tr>\n",
       "      <th>0</th>\n",
       "      <td>0.083982</td>\n",
       "      <td>0.619892</td>\n",
       "      <td>4.0</td>\n",
       "    </tr>\n",
       "    <tr>\n",
       "      <th>1</th>\n",
       "      <td>0.628939</td>\n",
       "      <td>0.000781</td>\n",
       "      <td>49.0</td>\n",
       "    </tr>\n",
       "    <tr>\n",
       "      <th>2</th>\n",
       "      <td>0.253991</td>\n",
       "      <td>0.648050</td>\n",
       "      <td>64.0</td>\n",
       "    </tr>\n",
       "    <tr>\n",
       "      <th>3</th>\n",
       "      <td>0.285709</td>\n",
       "      <td>0.342903</td>\n",
       "      <td>NaN</td>\n",
       "    </tr>\n",
       "    <tr>\n",
       "      <th>4</th>\n",
       "      <td>0.851179</td>\n",
       "      <td>0.539249</td>\n",
       "      <td>81.0</td>\n",
       "    </tr>\n",
       "  </tbody>\n",
       "</table>\n",
       "</div>"
      ],
      "text/plain": [
       "          A         B     C\n",
       "0  0.083982  0.619892   4.0\n",
       "1  0.628939  0.000781  49.0\n",
       "2  0.253991  0.648050  64.0\n",
       "3  0.285709  0.342903   NaN\n",
       "4  0.851179  0.539249  81.0"
      ]
     },
     "execution_count": 45,
     "metadata": {},
     "output_type": "execute_result"
    }
   ],
   "source": [
    "# applying lambda functions\n",
    "psdf.apply(lambda x : x ** 2)"
   ]
  },
  {
   "cell_type": "code",
   "execution_count": null,
   "metadata": {
    "application/vnd.databricks.v1+cell": {
     "cellMetadata": {
      "byteLimit": 2048000,
      "rowLimit": 10000
     },
     "inputWidgets": {},
     "nuid": "3f180ac1-786d-40f3-ba75-37c878ac3ade",
     "showTitle": false,
     "title": ""
    }
   },
   "outputs": [],
   "source": [
    "def square(x) -> ps.Series[np.float64]:\n",
    "    return x ** 2"
   ]
  },
  {
   "cell_type": "code",
   "execution_count": null,
   "metadata": {
    "application/vnd.databricks.v1+cell": {
     "cellMetadata": {
      "byteLimit": 2048000,
      "rowLimit": 10000
     },
     "inputWidgets": {},
     "nuid": "c76ee953-0492-422d-83cc-bd647f194d05",
     "showTitle": false,
     "title": ""
    }
   },
   "outputs": [
    {
     "data": {
      "text/html": [
       "<div>\n",
       "<style scoped>\n",
       "    .dataframe tbody tr th:only-of-type {\n",
       "        vertical-align: middle;\n",
       "    }\n",
       "\n",
       "    .dataframe tbody tr th {\n",
       "        vertical-align: top;\n",
       "    }\n",
       "\n",
       "    .dataframe thead th {\n",
       "        text-align: right;\n",
       "    }\n",
       "</style>\n",
       "<table border=\"1\" class=\"dataframe\">\n",
       "  <thead>\n",
       "    <tr style=\"text-align: right;\">\n",
       "      <th></th>\n",
       "      <th>A</th>\n",
       "      <th>B</th>\n",
       "      <th>C</th>\n",
       "    </tr>\n",
       "  </thead>\n",
       "  <tbody>\n",
       "    <tr>\n",
       "      <th>0</th>\n",
       "      <td>0.083982</td>\n",
       "      <td>0.619892</td>\n",
       "      <td>4.0</td>\n",
       "    </tr>\n",
       "    <tr>\n",
       "      <th>1</th>\n",
       "      <td>0.628939</td>\n",
       "      <td>0.000781</td>\n",
       "      <td>49.0</td>\n",
       "    </tr>\n",
       "    <tr>\n",
       "      <th>2</th>\n",
       "      <td>0.253991</td>\n",
       "      <td>0.648050</td>\n",
       "      <td>64.0</td>\n",
       "    </tr>\n",
       "    <tr>\n",
       "      <th>3</th>\n",
       "      <td>0.285709</td>\n",
       "      <td>0.342903</td>\n",
       "      <td>NaN</td>\n",
       "    </tr>\n",
       "    <tr>\n",
       "      <th>4</th>\n",
       "      <td>0.851179</td>\n",
       "      <td>0.539249</td>\n",
       "      <td>81.0</td>\n",
       "    </tr>\n",
       "  </tbody>\n",
       "</table>\n",
       "</div>"
      ],
      "text/plain": [
       "          A         B     C\n",
       "0  0.083982  0.619892   4.0\n",
       "1  0.628939  0.000781  49.0\n",
       "2  0.253991  0.648050  64.0\n",
       "3  0.285709  0.342903   NaN\n",
       "4  0.851179  0.539249  81.0"
      ]
     },
     "execution_count": 49,
     "metadata": {},
     "output_type": "execute_result"
    }
   ],
   "source": [
    "psdf.apply(lambda x : square(x))"
   ]
  },
  {
   "cell_type": "code",
   "execution_count": null,
   "metadata": {
    "application/vnd.databricks.v1+cell": {
     "cellMetadata": {
      "byteLimit": 2048000,
      "rowLimit": 10000
     },
     "inputWidgets": {},
     "nuid": "3933a350-e6bc-4987-bb3b-b61bb599960e",
     "showTitle": false,
     "title": ""
    }
   },
   "outputs": [
    {
     "data": {
      "text/html": [
       "<div>\n",
       "<style scoped>\n",
       "    .dataframe tbody tr th:only-of-type {\n",
       "        vertical-align: middle;\n",
       "    }\n",
       "\n",
       "    .dataframe tbody tr th {\n",
       "        vertical-align: top;\n",
       "    }\n",
       "\n",
       "    .dataframe thead th {\n",
       "        text-align: right;\n",
       "    }\n",
       "</style>\n",
       "<table border=\"1\" class=\"dataframe\">\n",
       "  <thead>\n",
       "    <tr style=\"text-align: right;\">\n",
       "      <th></th>\n",
       "      <th>A</th>\n",
       "      <th>B</th>\n",
       "      <th>C</th>\n",
       "    </tr>\n",
       "  </thead>\n",
       "  <tbody>\n",
       "    <tr>\n",
       "      <th>0</th>\n",
       "      <td>0.083982</td>\n",
       "      <td>0.619892</td>\n",
       "      <td>4.0</td>\n",
       "    </tr>\n",
       "    <tr>\n",
       "      <th>1</th>\n",
       "      <td>0.628939</td>\n",
       "      <td>0.000781</td>\n",
       "      <td>49.0</td>\n",
       "    </tr>\n",
       "    <tr>\n",
       "      <th>2</th>\n",
       "      <td>0.253991</td>\n",
       "      <td>0.648050</td>\n",
       "      <td>64.0</td>\n",
       "    </tr>\n",
       "    <tr>\n",
       "      <th>3</th>\n",
       "      <td>0.285709</td>\n",
       "      <td>0.342903</td>\n",
       "      <td>NaN</td>\n",
       "    </tr>\n",
       "    <tr>\n",
       "      <th>4</th>\n",
       "      <td>0.851179</td>\n",
       "      <td>0.539249</td>\n",
       "      <td>81.0</td>\n",
       "    </tr>\n",
       "  </tbody>\n",
       "</table>\n",
       "</div>"
      ],
      "text/plain": [
       "          A         B     C\n",
       "0  0.083982  0.619892   4.0\n",
       "1  0.628939  0.000781  49.0\n",
       "2  0.253991  0.648050  64.0\n",
       "3  0.285709  0.342903   NaN\n",
       "4  0.851179  0.539249  81.0"
      ]
     },
     "execution_count": 50,
     "metadata": {},
     "output_type": "execute_result"
    }
   ],
   "source": [
    "psdf.apply(square)"
   ]
  },
  {
   "cell_type": "code",
   "execution_count": null,
   "metadata": {
    "application/vnd.databricks.v1+cell": {
     "cellMetadata": {
      "byteLimit": 2048000,
      "rowLimit": 10000
     },
     "inputWidgets": {},
     "nuid": "2f7f6998-f0e4-4d8a-a943-9c22184ad79c",
     "showTitle": false,
     "title": ""
    }
   },
   "outputs": [],
   "source": [
    "# range function\n",
    "psdf_5 = ps.DataFrame({'A':range(1000)})"
   ]
  },
  {
   "cell_type": "code",
   "execution_count": null,
   "metadata": {
    "application/vnd.databricks.v1+cell": {
     "cellMetadata": {
      "byteLimit": 2048000,
      "rowLimit": 10000
     },
     "inputWidgets": {},
     "nuid": "e756fdc8-02ac-400c-8261-d2b2e778d281",
     "showTitle": false,
     "title": ""
    }
   },
   "outputs": [
    {
     "name": "stdout",
     "output_type": "stream",
     "text": [
      "       A\n",
      "0      0\n",
      "1      1\n",
      "2      2\n",
      "3      3\n",
      "4      4\n",
      "5      5\n",
      "6      6\n",
      "7      7\n",
      "8      8\n",
      "9      9\n",
      "10    10\n",
      "11    11\n",
      "12    12\n",
      "13    13\n",
      "14    14\n",
      "15    15\n",
      "16    16\n",
      "17    17\n",
      "18    18\n",
      "19    19\n",
      "20    20\n",
      "21    21\n",
      "22    22\n",
      "23    23\n",
      "24    24\n",
      "25    25\n",
      "26    26\n",
      "27    27\n",
      "28    28\n",
      "29    29\n",
      "30    30\n",
      "31    31\n",
      "32    32\n",
      "33    33\n",
      "34    34\n",
      "35    35\n",
      "36    36\n",
      "37    37\n",
      "38    38\n",
      "39    39\n",
      "40    40\n",
      "41    41\n",
      "42    42\n",
      "43    43\n",
      "44    44\n",
      "45    45\n",
      "46    46\n",
      "47    47\n",
      "48    48\n",
      "49    49\n",
      "50    50\n",
      "51    51\n",
      "52    52\n",
      "53    53\n",
      "54    54\n",
      "55    55\n",
      "56    56\n",
      "57    57\n",
      "58    58\n",
      "59    59\n",
      "60    60\n",
      "61    61\n",
      "62    62\n",
      "63    63\n",
      "64    64\n",
      "65    65\n",
      "66    66\n",
      "67    67\n",
      "68    68\n",
      "69    69\n",
      "70    70\n",
      "71    71\n",
      "72    72\n",
      "73    73\n",
      "74    74\n",
      "75    75\n",
      "76    76\n",
      "77    77\n",
      "78    78\n",
      "79    79\n",
      "80    80\n",
      "81    81\n",
      "82    82\n",
      "83    83\n",
      "84    84\n",
      "85    85\n",
      "86    86\n",
      "87    87\n",
      "88    88\n",
      "89    89\n",
      "90    90\n",
      "91    91\n",
      "92    92\n",
      "93    93\n",
      "94    94\n",
      "95    95\n",
      "96    96\n",
      "97    97\n",
      "98    98\n",
      "99    99\n",
      "100  100\n",
      "101  101\n",
      "102  102\n",
      "103  103\n",
      "104  104\n",
      "105  105\n",
      "106  106\n",
      "107  107\n",
      "108  108\n",
      "109  109\n",
      "110  110\n",
      "111  111\n",
      "112  112\n",
      "113  113\n",
      "114  114\n",
      "115  115\n",
      "116  116\n",
      "117  117\n",
      "118  118\n",
      "119  119\n",
      "120  120\n",
      "121  121\n",
      "122  122\n",
      "123  123\n",
      "124  124\n",
      "125  125\n",
      "126  126\n",
      "127  127\n",
      "128  128\n",
      "129  129\n",
      "130  130\n",
      "131  131\n",
      "132  132\n",
      "133  133\n",
      "134  134\n",
      "135  135\n",
      "136  136\n",
      "137  137\n",
      "138  138\n",
      "139  139\n",
      "140  140\n",
      "141  141\n",
      "142  142\n",
      "143  143\n",
      "144  144\n",
      "145  145\n",
      "146  146\n",
      "147  147\n",
      "148  148\n",
      "149  149\n",
      "150  150\n",
      "151  151\n",
      "152  152\n",
      "153  153\n",
      "154  154\n",
      "155  155\n",
      "156  156\n",
      "157  157\n",
      "158  158\n",
      "159  159\n",
      "160  160\n",
      "161  161\n",
      "162  162\n",
      "163  163\n",
      "164  164\n",
      "165  165\n",
      "166  166\n",
      "167  167\n",
      "168  168\n",
      "169  169\n",
      "170  170\n",
      "171  171\n",
      "172  172\n",
      "173  173\n",
      "174  174\n",
      "175  175\n",
      "176  176\n",
      "177  177\n",
      "178  178\n",
      "179  179\n",
      "180  180\n",
      "181  181\n",
      "182  182\n",
      "183  183\n",
      "184  184\n",
      "185  185\n",
      "186  186\n",
      "187  187\n",
      "188  188\n",
      "189  189\n",
      "190  190\n",
      "191  191\n",
      "192  192\n",
      "193  193\n",
      "194  194\n",
      "195  195\n",
      "196  196\n",
      "197  197\n",
      "198  198\n",
      "199  199\n",
      "200  200\n",
      "201  201\n",
      "202  202\n",
      "203  203\n",
      "204  204\n",
      "205  205\n",
      "206  206\n",
      "207  207\n",
      "208  208\n",
      "209  209\n",
      "210  210\n",
      "211  211\n",
      "212  212\n",
      "213  213\n",
      "214  214\n",
      "215  215\n",
      "216  216\n",
      "217  217\n",
      "218  218\n",
      "219  219\n",
      "220  220\n",
      "221  221\n",
      "222  222\n",
      "223  223\n",
      "224  224\n",
      "225  225\n",
      "226  226\n",
      "227  227\n",
      "228  228\n",
      "229  229\n",
      "230  230\n",
      "231  231\n",
      "232  232\n",
      "233  233\n",
      "234  234\n",
      "235  235\n",
      "236  236\n",
      "237  237\n",
      "238  238\n",
      "239  239\n",
      "240  240\n",
      "241  241\n",
      "242  242\n",
      "243  243\n",
      "244  244\n",
      "245  245\n",
      "246  246\n",
      "247  247\n",
      "248  248\n",
      "249  249\n",
      "250  250\n",
      "251  251\n",
      "252  252\n",
      "253  253\n",
      "254  254\n",
      "255  255\n",
      "256  256\n",
      "257  257\n",
      "258  258\n",
      "259  259\n",
      "260  260\n",
      "261  261\n",
      "262  262\n",
      "263  263\n",
      "264  264\n",
      "265  265\n",
      "266  266\n",
      "267  267\n",
      "268  268\n",
      "269  269\n",
      "270  270\n",
      "271  271\n",
      "272  272\n",
      "273  273\n",
      "274  274\n",
      "275  275\n",
      "276  276\n",
      "277  277\n",
      "278  278\n",
      "279  279\n",
      "280  280\n",
      "281  281\n",
      "282  282\n",
      "283  283\n",
      "284  284\n",
      "285  285\n",
      "286  286\n",
      "287  287\n",
      "288  288\n",
      "289  289\n",
      "290  290\n",
      "291  291\n",
      "292  292\n",
      "293  293\n",
      "294  294\n",
      "295  295\n",
      "296  296\n",
      "297  297\n",
      "298  298\n",
      "299  299\n",
      "300  300\n",
      "301  301\n",
      "302  302\n",
      "303  303\n",
      "304  304\n",
      "305  305\n",
      "306  306\n",
      "307  307\n",
      "308  308\n",
      "309  309\n",
      "310  310\n",
      "311  311\n",
      "312  312\n",
      "313  313\n",
      "314  314\n",
      "315  315\n",
      "316  316\n",
      "317  317\n",
      "318  318\n",
      "319  319\n",
      "320  320\n",
      "321  321\n",
      "322  322\n",
      "323  323\n",
      "324  324\n",
      "325  325\n",
      "326  326\n",
      "327  327\n",
      "328  328\n",
      "329  329\n",
      "330  330\n",
      "331  331\n",
      "332  332\n",
      "333  333\n",
      "334  334\n",
      "335  335\n",
      "336  336\n",
      "337  337\n",
      "338  338\n",
      "339  339\n",
      "340  340\n",
      "341  341\n",
      "342  342\n",
      "343  343\n",
      "344  344\n",
      "345  345\n",
      "346  346\n",
      "347  347\n",
      "348  348\n",
      "349  349\n",
      "350  350\n",
      "351  351\n",
      "352  352\n",
      "353  353\n",
      "354  354\n",
      "355  355\n",
      "356  356\n",
      "357  357\n",
      "358  358\n",
      "359  359\n",
      "360  360\n",
      "361  361\n",
      "362  362\n",
      "363  363\n",
      "364  364\n",
      "365  365\n",
      "366  366\n",
      "367  367\n",
      "368  368\n",
      "369  369\n",
      "370  370\n",
      "371  371\n",
      "372  372\n",
      "373  373\n",
      "374  374\n",
      "375  375\n",
      "376  376\n",
      "377  377\n",
      "378  378\n",
      "379  379\n",
      "380  380\n",
      "381  381\n",
      "382  382\n",
      "383  383\n",
      "384  384\n",
      "385  385\n",
      "386  386\n",
      "387  387\n",
      "388  388\n",
      "389  389\n",
      "390  390\n",
      "391  391\n",
      "392  392\n",
      "393  393\n",
      "394  394\n",
      "395  395\n",
      "396  396\n",
      "397  397\n",
      "398  398\n",
      "399  399\n",
      "400  400\n",
      "401  401\n",
      "402  402\n",
      "403  403\n",
      "404  404\n",
      "405  405\n",
      "406  406\n",
      "407  407\n",
      "408  408\n",
      "409  409\n",
      "410  410\n",
      "411  411\n",
      "412  412\n",
      "413  413\n",
      "414  414\n",
      "415  415\n",
      "416  416\n",
      "417  417\n",
      "418  418\n",
      "419  419\n",
      "420  420\n",
      "421  421\n",
      "422  422\n",
      "423  423\n",
      "424  424\n",
      "425  425\n",
      "426  426\n",
      "427  427\n",
      "428  428\n",
      "429  429\n",
      "430  430\n",
      "431  431\n",
      "432  432\n",
      "433  433\n",
      "434  434\n",
      "435  435\n",
      "436  436\n",
      "437  437\n",
      "438  438\n",
      "439  439\n",
      "440  440\n",
      "441  441\n",
      "442  442\n",
      "443  443\n",
      "444  444\n",
      "445  445\n",
      "446  446\n",
      "447  447\n",
      "448  448\n",
      "449  449\n",
      "450  450\n",
      "451  451\n",
      "452  452\n",
      "453  453\n",
      "454  454\n",
      "455  455\n",
      "456  456\n",
      "457  457\n",
      "458  458\n",
      "459  459\n",
      "460  460\n",
      "461  461\n",
      "462  462\n",
      "463  463\n",
      "464  464\n",
      "465  465\n",
      "466  466\n",
      "467  467\n",
      "468  468\n",
      "469  469\n",
      "470  470\n",
      "471  471\n",
      "472  472\n",
      "473  473\n",
      "474  474\n",
      "475  475\n",
      "476  476\n",
      "477  477\n",
      "478  478\n",
      "479  479\n",
      "480  480\n",
      "481  481\n",
      "482  482\n",
      "483  483\n",
      "484  484\n",
      "485  485\n",
      "486  486\n",
      "487  487\n",
      "488  488\n",
      "489  489\n",
      "490  490\n",
      "491  491\n",
      "492  492\n",
      "493  493\n",
      "494  494\n",
      "495  495\n",
      "496  496\n",
      "497  497\n",
      "498  498\n",
      "499  499\n",
      "500  500\n",
      "501  501\n",
      "502  502\n",
      "503  503\n",
      "504  504\n",
      "505  505\n",
      "506  506\n",
      "507  507\n",
      "508  508\n",
      "509  509\n",
      "510  510\n",
      "511  511\n",
      "512  512\n",
      "513  513\n",
      "514  514\n",
      "515  515\n",
      "516  516\n",
      "517  517\n",
      "518  518\n",
      "519  519\n",
      "520  520\n",
      "521  521\n",
      "522  522\n",
      "523  523\n",
      "524  524\n",
      "525  525\n",
      "526  526\n",
      "527  527\n",
      "528  528\n",
      "529  529\n",
      "530  530\n",
      "531  531\n",
      "532  532\n",
      "533  533\n",
      "534  534\n",
      "535  535\n",
      "536  536\n",
      "537  537\n",
      "538  538\n",
      "539  539\n",
      "540  540\n",
      "541  541\n",
      "542  542\n",
      "543  543\n",
      "544  544\n",
      "545  545\n",
      "546  546\n",
      "547  547\n",
      "548  548\n",
      "549  549\n",
      "550  550\n",
      "551  551\n",
      "552  552\n",
      "553  553\n",
      "554  554\n",
      "555  555\n",
      "556  556\n",
      "557  557\n",
      "558  558\n",
      "559  559\n",
      "560  560\n",
      "561  561\n",
      "562  562\n",
      "563  563\n",
      "564  564\n",
      "565  565\n",
      "566  566\n",
      "567  567\n",
      "568  568\n",
      "569  569\n",
      "570  570\n",
      "571  571\n",
      "572  572\n",
      "573  573\n",
      "574  574\n",
      "575  575\n",
      "576  576\n",
      "577  577\n",
      "578  578\n",
      "579  579\n",
      "580  580\n",
      "581  581\n",
      "582  582\n",
      "583  583\n",
      "584  584\n",
      "585  585\n",
      "586  586\n",
      "587  587\n",
      "588  588\n",
      "589  589\n",
      "590  590\n",
      "591  591\n",
      "592  592\n",
      "593  593\n",
      "594  594\n",
      "595  595\n",
      "596  596\n",
      "597  597\n",
      "598  598\n",
      "599  599\n",
      "600  600\n",
      "601  601\n",
      "602  602\n",
      "603  603\n",
      "604  604\n",
      "605  605\n",
      "606  606\n",
      "607  607\n",
      "608  608\n",
      "609  609\n",
      "610  610\n",
      "611  611\n",
      "612  612\n",
      "613  613\n",
      "614  614\n",
      "615  615\n",
      "616  616\n",
      "617  617\n",
      "618  618\n",
      "619  619\n",
      "620  620\n",
      "621  621\n",
      "622  622\n",
      "623  623\n",
      "624  624\n",
      "625  625\n",
      "626  626\n",
      "627  627\n",
      "628  628\n",
      "629  629\n",
      "630  630\n",
      "631  631\n",
      "632  632\n",
      "633  633\n",
      "634  634\n",
      "635  635\n",
      "636  636\n",
      "637  637\n",
      "638  638\n",
      "639  639\n",
      "640  640\n",
      "641  641\n",
      "642  642\n",
      "643  643\n",
      "644  644\n",
      "645  645\n",
      "646  646\n",
      "647  647\n",
      "648  648\n",
      "649  649\n",
      "650  650\n",
      "651  651\n",
      "652  652\n",
      "653  653\n",
      "654  654\n",
      "655  655\n",
      "656  656\n",
      "657  657\n",
      "658  658\n",
      "659  659\n",
      "660  660\n",
      "661  661\n",
      "662  662\n",
      "663  663\n",
      "664  664\n",
      "665  665\n",
      "666  666\n",
      "667  667\n",
      "668  668\n",
      "669  669\n",
      "670  670\n",
      "671  671\n",
      "672  672\n",
      "673  673\n",
      "674  674\n",
      "675  675\n",
      "676  676\n",
      "677  677\n",
      "678  678\n",
      "679  679\n",
      "680  680\n",
      "681  681\n",
      "682  682\n",
      "683  683\n",
      "684  684\n",
      "685  685\n",
      "686  686\n",
      "687  687\n",
      "688  688\n",
      "689  689\n",
      "690  690\n",
      "691  691\n",
      "692  692\n",
      "693  693\n",
      "694  694\n",
      "695  695\n",
      "696  696\n",
      "697  697\n",
      "698  698\n",
      "699  699\n",
      "700  700\n",
      "701  701\n",
      "702  702\n",
      "703  703\n",
      "704  704\n",
      "705  705\n",
      "706  706\n",
      "707  707\n",
      "708  708\n",
      "709  709\n",
      "710  710\n",
      "711  711\n",
      "712  712\n",
      "713  713\n",
      "714  714\n",
      "715  715\n",
      "716  716\n",
      "717  717\n",
      "718  718\n",
      "719  719\n",
      "720  720\n",
      "721  721\n",
      "722  722\n",
      "723  723\n",
      "724  724\n",
      "725  725\n",
      "726  726\n",
      "727  727\n",
      "728  728\n",
      "729  729\n",
      "730  730\n",
      "731  731\n",
      "732  732\n",
      "733  733\n",
      "734  734\n",
      "735  735\n",
      "736  736\n",
      "737  737\n",
      "738  738\n",
      "739  739\n",
      "740  740\n",
      "741  741\n",
      "742  742\n",
      "743  743\n",
      "744  744\n",
      "745  745\n",
      "746  746\n",
      "747  747\n",
      "748  748\n",
      "749  749\n",
      "750  750\n",
      "751  751\n",
      "752  752\n",
      "753  753\n",
      "754  754\n",
      "755  755\n",
      "756  756\n",
      "757  757\n",
      "758  758\n",
      "759  759\n",
      "760  760\n",
      "761  761\n",
      "762  762\n",
      "763  763\n",
      "764  764\n",
      "765  765\n",
      "766  766\n",
      "767  767\n",
      "768  768\n",
      "769  769\n",
      "770  770\n",
      "771  771\n",
      "772  772\n",
      "773  773\n",
      "774  774\n",
      "775  775\n",
      "776  776\n",
      "777  777\n",
      "778  778\n",
      "779  779\n",
      "780  780\n",
      "781  781\n",
      "782  782\n",
      "783  783\n",
      "784  784\n",
      "785  785\n",
      "786  786\n",
      "787  787\n",
      "788  788\n",
      "789  789\n",
      "790  790\n",
      "791  791\n",
      "792  792\n",
      "793  793\n",
      "794  794\n",
      "795  795\n",
      "796  796\n",
      "797  797\n",
      "798  798\n",
      "799  799\n",
      "800  800\n",
      "801  801\n",
      "802  802\n",
      "803  803\n",
      "804  804\n",
      "805  805\n",
      "806  806\n",
      "807  807\n",
      "808  808\n",
      "809  809\n",
      "810  810\n",
      "811  811\n",
      "812  812\n",
      "813  813\n",
      "814  814\n",
      "815  815\n",
      "816  816\n",
      "817  817\n",
      "818  818\n",
      "819  819\n",
      "820  820\n",
      "821  821\n",
      "822  822\n",
      "823  823\n",
      "824  824\n",
      "825  825\n",
      "826  826\n",
      "827  827\n",
      "828  828\n",
      "829  829\n",
      "830  830\n",
      "831  831\n",
      "832  832\n",
      "833  833\n",
      "834  834\n",
      "835  835\n",
      "836  836\n",
      "837  837\n",
      "838  838\n",
      "839  839\n",
      "840  840\n",
      "841  841\n",
      "842  842\n",
      "843  843\n",
      "844  844\n",
      "845  845\n",
      "846  846\n",
      "847  847\n",
      "848  848\n",
      "849  849\n",
      "850  850\n",
      "851  851\n",
      "852  852\n",
      "853  853\n",
      "854  854\n",
      "855  855\n",
      "856  856\n",
      "857  857\n",
      "858  858\n",
      "859  859\n",
      "860  860\n",
      "861  861\n",
      "862  862\n",
      "863  863\n",
      "864  864\n",
      "865  865\n",
      "866  866\n",
      "867  867\n",
      "868  868\n",
      "869  869\n",
      "870  870\n",
      "871  871\n",
      "872  872\n",
      "873  873\n",
      "874  874\n",
      "875  875\n",
      "876  876\n",
      "877  877\n",
      "878  878\n",
      "879  879\n",
      "880  880\n",
      "881  881\n",
      "882  882\n",
      "883  883\n",
      "884  884\n",
      "885  885\n",
      "886  886\n",
      "887  887\n",
      "888  888\n",
      "889  889\n",
      "890  890\n",
      "891  891\n",
      "892  892\n",
      "893  893\n",
      "894  894\n",
      "895  895\n",
      "896  896\n",
      "897  897\n",
      "898  898\n",
      "899  899\n",
      "900  900\n",
      "901  901\n",
      "902  902\n",
      "903  903\n",
      "904  904\n",
      "905  905\n",
      "906  906\n",
      "907  907\n",
      "908  908\n",
      "909  909\n",
      "910  910\n",
      "911  911\n",
      "912  912\n",
      "913  913\n",
      "914  914\n",
      "915  915\n",
      "916  916\n",
      "917  917\n",
      "918  918\n",
      "919  919\n",
      "920  920\n",
      "921  921\n",
      "922  922\n",
      "923  923\n",
      "924  924\n",
      "925  925\n",
      "926  926\n",
      "927  927\n",
      "928  928\n",
      "929  929\n",
      "930  930\n",
      "931  931\n",
      "932  932\n",
      "933  933\n",
      "934  934\n",
      "935  935\n",
      "936  936\n",
      "937  937\n",
      "938  938\n",
      "939  939\n",
      "940  940\n",
      "941  941\n",
      "942  942\n",
      "943  943\n",
      "944  944\n",
      "945  945\n",
      "946  946\n",
      "947  947\n",
      "948  948\n",
      "949  949\n",
      "950  950\n",
      "951  951\n",
      "952  952\n",
      "953  953\n",
      "954  954\n",
      "955  955\n",
      "956  956\n",
      "957  957\n",
      "958  958\n",
      "959  959\n",
      "960  960\n",
      "961  961\n",
      "962  962\n",
      "963  963\n",
      "964  964\n",
      "965  965\n",
      "966  966\n",
      "967  967\n",
      "968  968\n",
      "969  969\n",
      "970  970\n",
      "971  971\n",
      "972  972\n",
      "973  973\n",
      "974  974\n",
      "975  975\n",
      "976  976\n",
      "977  977\n",
      "978  978\n",
      "979  979\n",
      "980  980\n",
      "981  981\n",
      "982  982\n",
      "983  983\n",
      "984  984\n",
      "985  985\n",
      "986  986\n",
      "987  987\n",
      "988  988\n",
      "989  989\n",
      "990  990\n",
      "991  991\n",
      "992  992\n",
      "993  993\n",
      "994  994\n",
      "995  995\n",
      "996  996\n",
      "997  997\n",
      "998  998\n",
      "999  999\n"
     ]
    }
   ],
   "source": [
    "print(psdf_5)"
   ]
  },
  {
   "cell_type": "code",
   "execution_count": null,
   "metadata": {
    "application/vnd.databricks.v1+cell": {
     "cellMetadata": {
      "byteLimit": 2048000,
      "rowLimit": 10000
     },
     "inputWidgets": {},
     "nuid": "d4f03484-2f25-4c70-81b7-502ef0cd486f",
     "showTitle": false,
     "title": ""
    }
   },
   "outputs": [
    {
     "data": {
      "text/plain": [
       "1000"
      ]
     },
     "execution_count": 56,
     "metadata": {},
     "output_type": "execute_result"
    }
   ],
   "source": [
    "len(psdf_5)"
   ]
  },
  {
   "cell_type": "code",
   "execution_count": null,
   "metadata": {
    "application/vnd.databricks.v1+cell": {
     "cellMetadata": {
      "byteLimit": 2048000,
      "rowLimit": 10000
     },
     "inputWidgets": {},
     "nuid": "8c039608-db74-4ecd-bfb8-8af206567087",
     "showTitle": false,
     "title": ""
    }
   },
   "outputs": [
    {
     "data": {
      "text/plain": [
       "A    999\n",
       "dtype: int64"
      ]
     },
     "execution_count": 57,
     "metadata": {},
     "output_type": "execute_result"
    }
   ],
   "source": [
    "psdf_5.apply(lambda col : col.max())"
   ]
  },
  {
   "cell_type": "markdown",
   "metadata": {
    "application/vnd.databricks.v1+cell": {
     "cellMetadata": {},
     "inputWidgets": {},
     "nuid": "cd80115e-abfa-41f3-abf4-c374cf87119e",
     "showTitle": false,
     "title": ""
    }
   },
   "source": [
    "Short_limit is 1000"
   ]
  },
  {
   "cell_type": "code",
   "execution_count": null,
   "metadata": {
    "application/vnd.databricks.v1+cell": {
     "cellMetadata": {
      "byteLimit": 2048000,
      "rowLimit": 10000
     },
     "inputWidgets": {},
     "nuid": "e2491a64-aea7-41d8-bb46-2c29d275cd0e",
     "showTitle": false,
     "title": ""
    }
   },
   "outputs": [
    {
     "data": {
      "text/plain": [
       "A    0.922594\n",
       "B    0.805015\n",
       "C    9.000000\n",
       "dtype: float64"
      ]
     },
     "execution_count": 58,
     "metadata": {},
     "output_type": "execute_result"
    }
   ],
   "source": [
    "psdf.apply(lambda col:col.max())"
   ]
  },
  {
   "cell_type": "code",
   "execution_count": null,
   "metadata": {
    "application/vnd.databricks.v1+cell": {
     "cellMetadata": {
      "byteLimit": 2048000,
      "rowLimit": 10000
     },
     "inputWidgets": {},
     "nuid": "1eb14417-2281-4674-a6df-7bed6eddd519",
     "showTitle": false,
     "title": ""
    }
   },
   "outputs": [
    {
     "data": {
      "text/plain": [
       "A    1199\n",
       "dtype: int64"
      ]
     },
     "execution_count": 60,
     "metadata": {},
     "output_type": "execute_result"
    }
   ],
   "source": [
    "psdf_5 = ps.DataFrame({'A':range(1200)})\n",
    "psdf_5.apply(lambda col:col.max())"
   ]
  },
  {
   "cell_type": "code",
   "execution_count": null,
   "metadata": {
    "application/vnd.databricks.v1+cell": {
     "cellMetadata": {
      "byteLimit": 2048000,
      "rowLimit": 10000
     },
     "inputWidgets": {},
     "nuid": "2dace706-65e9-4a09-897b-3dc23e379f40",
     "showTitle": false,
     "title": ""
    }
   },
   "outputs": [],
   "source": [
    "# ps.set_option(\"compute.shortcut_limit\",1200)"
   ]
  },
  {
   "cell_type": "markdown",
   "metadata": {
    "application/vnd.databricks.v1+cell": {
     "cellMetadata": {},
     "inputWidgets": {},
     "nuid": "2051fe4e-b7da-4d2e-af47-fbcf637b9b82",
     "showTitle": false,
     "title": ""
    }
   },
   "source": [
    "## Grouping data"
   ]
  },
  {
   "cell_type": "code",
   "execution_count": null,
   "metadata": {
    "application/vnd.databricks.v1+cell": {
     "cellMetadata": {
      "byteLimit": 2048000,
      "rowLimit": 10000
     },
     "inputWidgets": {},
     "nuid": "bee63bfc-fadd-4eb0-82d0-384f005a0764",
     "showTitle": false,
     "title": ""
    }
   },
   "outputs": [
    {
     "name": "stderr",
     "output_type": "stream",
     "text": [
      "/databricks/spark/python/pyspark/pandas/groupby.py:892: FutureWarning: Default value of `numeric_only` will be changed to `False` instead of `True` in 4.0.0.\n",
      "  warnings.warn(\n"
     ]
    },
    {
     "data": {
      "text/html": [
       "<div>\n",
       "<style scoped>\n",
       "    .dataframe tbody tr th:only-of-type {\n",
       "        vertical-align: middle;\n",
       "    }\n",
       "\n",
       "    .dataframe tbody tr th {\n",
       "        vertical-align: top;\n",
       "    }\n",
       "\n",
       "    .dataframe thead th {\n",
       "        text-align: right;\n",
       "    }\n",
       "</style>\n",
       "<table border=\"1\" class=\"dataframe\">\n",
       "  <thead>\n",
       "    <tr style=\"text-align: right;\">\n",
       "      <th></th>\n",
       "      <th>A</th>\n",
       "      <th>B</th>\n",
       "    </tr>\n",
       "    <tr>\n",
       "      <th>C</th>\n",
       "      <th></th>\n",
       "      <th></th>\n",
       "    </tr>\n",
       "  </thead>\n",
       "  <tbody>\n",
       "    <tr>\n",
       "      <th>2.0</th>\n",
       "      <td>0.289797</td>\n",
       "      <td>0.787332</td>\n",
       "    </tr>\n",
       "    <tr>\n",
       "      <th>7.0</th>\n",
       "      <td>0.793057</td>\n",
       "      <td>0.027939</td>\n",
       "    </tr>\n",
       "    <tr>\n",
       "      <th>8.0</th>\n",
       "      <td>0.503976</td>\n",
       "      <td>0.805015</td>\n",
       "    </tr>\n",
       "    <tr>\n",
       "      <th>9.0</th>\n",
       "      <td>0.922594</td>\n",
       "      <td>0.734336</td>\n",
       "    </tr>\n",
       "  </tbody>\n",
       "</table>\n",
       "</div>"
      ],
      "text/plain": [
       "            A         B\n",
       "C                      \n",
       "2.0  0.289797  0.787332\n",
       "7.0  0.793057  0.027939\n",
       "8.0  0.503976  0.805015\n",
       "9.0  0.922594  0.734336"
      ]
     },
     "execution_count": 61,
     "metadata": {},
     "output_type": "execute_result"
    }
   ],
   "source": [
    "psdf.groupby(\"C\").sum()"
   ]
  },
  {
   "cell_type": "markdown",
   "metadata": {
    "application/vnd.databricks.v1+cell": {
     "cellMetadata": {},
     "inputWidgets": {},
     "nuid": "956e7cd8-a47d-4a88-bf10-9b1259cc13fc",
     "showTitle": false,
     "title": ""
    }
   },
   "source": [
    "For multiple columns pass them as list"
   ]
  },
  {
   "cell_type": "markdown",
   "metadata": {
    "application/vnd.databricks.v1+cell": {
     "cellMetadata": {},
     "inputWidgets": {},
     "nuid": "5b46fd9f-b079-4aee-ac1d-bdbd14ca5195",
     "showTitle": false,
     "title": ""
    }
   },
   "source": [
    "## Plotting"
   ]
  },
  {
   "cell_type": "code",
   "execution_count": null,
   "metadata": {
    "application/vnd.databricks.v1+cell": {
     "cellMetadata": {
      "byteLimit": 2048000,
      "rowLimit": 10000
     },
     "inputWidgets": {},
     "nuid": "06b5ceae-dd1d-4066-b0bc-2d05b2213281",
     "showTitle": false,
     "title": ""
    }
   },
   "outputs": [],
   "source": [
    "%matplotlib inline"
   ]
  },
  {
   "cell_type": "code",
   "execution_count": null,
   "metadata": {
    "application/vnd.databricks.v1+cell": {
     "cellMetadata": {
      "byteLimit": 2048000,
      "rowLimit": 10000
     },
     "inputWidgets": {},
     "nuid": "fb41ca36-c000-4833-97bf-8976f48cf55c",
     "showTitle": false,
     "title": ""
    }
   },
   "outputs": [
    {
     "data": {
      "text/html": [
       "<html>\n",
       "<head><meta charset=\"utf-8\" /></head>\n",
       "<body>\n",
       "    <div>            <script src=\"https://cdnjs.cloudflare.com/ajax/libs/mathjax/2.7.5/MathJax.js?config=TeX-AMS-MML_SVG\"></script><script type=\"text/javascript\">if (window.MathJax && window.MathJax.Hub && window.MathJax.Hub.Config) {window.MathJax.Hub.Config({SVG: {font: \"STIX-Web\"}});}</script>                <script type=\"text/javascript\">window.PlotlyConfig = {MathJaxConfig: 'local'};</script>\n",
       "        <script src=\"https://cdn.plot.ly/plotly-2.12.1.min.js\"></script>                <div id=\"1fac3cca-8e5d-4ba2-a172-985b65692756\" class=\"plotly-graph-div\" style=\"height:100%; width:100%;\"></div>            <script type=\"text/javascript\">                                    window.PLOTLYENV=window.PLOTLYENV || {};                                    if (document.getElementById(\"1fac3cca-8e5d-4ba2-a172-985b65692756\")) {                    Plotly.newPlot(                        \"1fac3cca-8e5d-4ba2-a172-985b65692756\",                        [{\"alignmentgroup\":\"True\",\"hovertemplate\":\"variable=speed<br>index=%{x}<br>value=%{y}<extra></extra>\",\"legendgroup\":\"speed\",\"marker\":{\"color\":\"#636efa\",\"pattern\":{\"shape\":\"\"}},\"name\":\"speed\",\"offsetgroup\":\"speed\",\"orientation\":\"v\",\"showlegend\":true,\"textposition\":\"auto\",\"x\":[\"snail\",\"pig\",\"elephant\",\"rabbit\",\"giraffe\",\"coyote\",\"horse\"],\"xaxis\":\"x\",\"y\":[0.1,17.5,40.0,48.0,52.0,69.0,88.0],\"yaxis\":\"y\",\"type\":\"bar\"},{\"alignmentgroup\":\"True\",\"hovertemplate\":\"variable=lifespan<br>index=%{x}<br>value=%{y}<extra></extra>\",\"legendgroup\":\"lifespan\",\"marker\":{\"color\":\"#EF553B\",\"pattern\":{\"shape\":\"\"}},\"name\":\"lifespan\",\"offsetgroup\":\"lifespan\",\"orientation\":\"v\",\"showlegend\":true,\"textposition\":\"auto\",\"x\":[\"snail\",\"pig\",\"elephant\",\"rabbit\",\"giraffe\",\"coyote\",\"horse\"],\"xaxis\":\"x\",\"y\":[2.0,8.0,70.0,1.5,25.0,12.0,28.0],\"yaxis\":\"y\",\"type\":\"bar\"}],                        {\"template\":{\"data\":{\"histogram2dcontour\":[{\"type\":\"histogram2dcontour\",\"colorbar\":{\"outlinewidth\":0,\"ticks\":\"\"},\"colorscale\":[[0.0,\"#0d0887\"],[0.1111111111111111,\"#46039f\"],[0.2222222222222222,\"#7201a8\"],[0.3333333333333333,\"#9c179e\"],[0.4444444444444444,\"#bd3786\"],[0.5555555555555556,\"#d8576b\"],[0.6666666666666666,\"#ed7953\"],[0.7777777777777778,\"#fb9f3a\"],[0.8888888888888888,\"#fdca26\"],[1.0,\"#f0f921\"]]}],\"choropleth\":[{\"type\":\"choropleth\",\"colorbar\":{\"outlinewidth\":0,\"ticks\":\"\"}}],\"histogram2d\":[{\"type\":\"histogram2d\",\"colorbar\":{\"outlinewidth\":0,\"ticks\":\"\"},\"colorscale\":[[0.0,\"#0d0887\"],[0.1111111111111111,\"#46039f\"],[0.2222222222222222,\"#7201a8\"],[0.3333333333333333,\"#9c179e\"],[0.4444444444444444,\"#bd3786\"],[0.5555555555555556,\"#d8576b\"],[0.6666666666666666,\"#ed7953\"],[0.7777777777777778,\"#fb9f3a\"],[0.8888888888888888,\"#fdca26\"],[1.0,\"#f0f921\"]]}],\"heatmap\":[{\"type\":\"heatmap\",\"colorbar\":{\"outlinewidth\":0,\"ticks\":\"\"},\"colorscale\":[[0.0,\"#0d0887\"],[0.1111111111111111,\"#46039f\"],[0.2222222222222222,\"#7201a8\"],[0.3333333333333333,\"#9c179e\"],[0.4444444444444444,\"#bd3786\"],[0.5555555555555556,\"#d8576b\"],[0.6666666666666666,\"#ed7953\"],[0.7777777777777778,\"#fb9f3a\"],[0.8888888888888888,\"#fdca26\"],[1.0,\"#f0f921\"]]}],\"heatmapgl\":[{\"type\":\"heatmapgl\",\"colorbar\":{\"outlinewidth\":0,\"ticks\":\"\"},\"colorscale\":[[0.0,\"#0d0887\"],[0.1111111111111111,\"#46039f\"],[0.2222222222222222,\"#7201a8\"],[0.3333333333333333,\"#9c179e\"],[0.4444444444444444,\"#bd3786\"],[0.5555555555555556,\"#d8576b\"],[0.6666666666666666,\"#ed7953\"],[0.7777777777777778,\"#fb9f3a\"],[0.8888888888888888,\"#fdca26\"],[1.0,\"#f0f921\"]]}],\"contourcarpet\":[{\"type\":\"contourcarpet\",\"colorbar\":{\"outlinewidth\":0,\"ticks\":\"\"}}],\"contour\":[{\"type\":\"contour\",\"colorbar\":{\"outlinewidth\":0,\"ticks\":\"\"},\"colorscale\":[[0.0,\"#0d0887\"],[0.1111111111111111,\"#46039f\"],[0.2222222222222222,\"#7201a8\"],[0.3333333333333333,\"#9c179e\"],[0.4444444444444444,\"#bd3786\"],[0.5555555555555556,\"#d8576b\"],[0.6666666666666666,\"#ed7953\"],[0.7777777777777778,\"#fb9f3a\"],[0.8888888888888888,\"#fdca26\"],[1.0,\"#f0f921\"]]}],\"surface\":[{\"type\":\"surface\",\"colorbar\":{\"outlinewidth\":0,\"ticks\":\"\"},\"colorscale\":[[0.0,\"#0d0887\"],[0.1111111111111111,\"#46039f\"],[0.2222222222222222,\"#7201a8\"],[0.3333333333333333,\"#9c179e\"],[0.4444444444444444,\"#bd3786\"],[0.5555555555555556,\"#d8576b\"],[0.6666666666666666,\"#ed7953\"],[0.7777777777777778,\"#fb9f3a\"],[0.8888888888888888,\"#fdca26\"],[1.0,\"#f0f921\"]]}],\"mesh3d\":[{\"type\":\"mesh3d\",\"colorbar\":{\"outlinewidth\":0,\"ticks\":\"\"}}],\"scatter\":[{\"fillpattern\":{\"fillmode\":\"overlay\",\"size\":10,\"solidity\":0.2},\"type\":\"scatter\"}],\"parcoords\":[{\"type\":\"parcoords\",\"line\":{\"colorbar\":{\"outlinewidth\":0,\"ticks\":\"\"}}}],\"scatterpolargl\":[{\"type\":\"scatterpolargl\",\"marker\":{\"colorbar\":{\"outlinewidth\":0,\"ticks\":\"\"}}}],\"bar\":[{\"error_x\":{\"color\":\"#2a3f5f\"},\"error_y\":{\"color\":\"#2a3f5f\"},\"marker\":{\"line\":{\"color\":\"#E5ECF6\",\"width\":0.5},\"pattern\":{\"fillmode\":\"overlay\",\"size\":10,\"solidity\":0.2}},\"type\":\"bar\"}],\"scattergeo\":[{\"type\":\"scattergeo\",\"marker\":{\"colorbar\":{\"outlinewidth\":0,\"ticks\":\"\"}}}],\"scatterpolar\":[{\"type\":\"scatterpolar\",\"marker\":{\"colorbar\":{\"outlinewidth\":0,\"ticks\":\"\"}}}],\"histogram\":[{\"marker\":{\"pattern\":{\"fillmode\":\"overlay\",\"size\":10,\"solidity\":0.2}},\"type\":\"histogram\"}],\"scattergl\":[{\"type\":\"scattergl\",\"marker\":{\"colorbar\":{\"outlinewidth\":0,\"ticks\":\"\"}}}],\"scatter3d\":[{\"type\":\"scatter3d\",\"line\":{\"colorbar\":{\"outlinewidth\":0,\"ticks\":\"\"}},\"marker\":{\"colorbar\":{\"outlinewidth\":0,\"ticks\":\"\"}}}],\"scattermapbox\":[{\"type\":\"scattermapbox\",\"marker\":{\"colorbar\":{\"outlinewidth\":0,\"ticks\":\"\"}}}],\"scatterternary\":[{\"type\":\"scatterternary\",\"marker\":{\"colorbar\":{\"outlinewidth\":0,\"ticks\":\"\"}}}],\"scattercarpet\":[{\"type\":\"scattercarpet\",\"marker\":{\"colorbar\":{\"outlinewidth\":0,\"ticks\":\"\"}}}],\"carpet\":[{\"aaxis\":{\"endlinecolor\":\"#2a3f5f\",\"gridcolor\":\"white\",\"linecolor\":\"white\",\"minorgridcolor\":\"white\",\"startlinecolor\":\"#2a3f5f\"},\"baxis\":{\"endlinecolor\":\"#2a3f5f\",\"gridcolor\":\"white\",\"linecolor\":\"white\",\"minorgridcolor\":\"white\",\"startlinecolor\":\"#2a3f5f\"},\"type\":\"carpet\"}],\"table\":[{\"cells\":{\"fill\":{\"color\":\"#EBF0F8\"},\"line\":{\"color\":\"white\"}},\"header\":{\"fill\":{\"color\":\"#C8D4E3\"},\"line\":{\"color\":\"white\"}},\"type\":\"table\"}],\"barpolar\":[{\"marker\":{\"line\":{\"color\":\"#E5ECF6\",\"width\":0.5},\"pattern\":{\"fillmode\":\"overlay\",\"size\":10,\"solidity\":0.2}},\"type\":\"barpolar\"}],\"pie\":[{\"automargin\":true,\"type\":\"pie\"}]},\"layout\":{\"autotypenumbers\":\"strict\",\"colorway\":[\"#636efa\",\"#EF553B\",\"#00cc96\",\"#ab63fa\",\"#FFA15A\",\"#19d3f3\",\"#FF6692\",\"#B6E880\",\"#FF97FF\",\"#FECB52\"],\"font\":{\"color\":\"#2a3f5f\"},\"hovermode\":\"closest\",\"hoverlabel\":{\"align\":\"left\"},\"paper_bgcolor\":\"white\",\"plot_bgcolor\":\"#E5ECF6\",\"polar\":{\"bgcolor\":\"#E5ECF6\",\"angularaxis\":{\"gridcolor\":\"white\",\"linecolor\":\"white\",\"ticks\":\"\"},\"radialaxis\":{\"gridcolor\":\"white\",\"linecolor\":\"white\",\"ticks\":\"\"}},\"ternary\":{\"bgcolor\":\"#E5ECF6\",\"aaxis\":{\"gridcolor\":\"white\",\"linecolor\":\"white\",\"ticks\":\"\"},\"baxis\":{\"gridcolor\":\"white\",\"linecolor\":\"white\",\"ticks\":\"\"},\"caxis\":{\"gridcolor\":\"white\",\"linecolor\":\"white\",\"ticks\":\"\"}},\"coloraxis\":{\"colorbar\":{\"outlinewidth\":0,\"ticks\":\"\"}},\"colorscale\":{\"sequential\":[[0.0,\"#0d0887\"],[0.1111111111111111,\"#46039f\"],[0.2222222222222222,\"#7201a8\"],[0.3333333333333333,\"#9c179e\"],[0.4444444444444444,\"#bd3786\"],[0.5555555555555556,\"#d8576b\"],[0.6666666666666666,\"#ed7953\"],[0.7777777777777778,\"#fb9f3a\"],[0.8888888888888888,\"#fdca26\"],[1.0,\"#f0f921\"]],\"sequentialminus\":[[0.0,\"#0d0887\"],[0.1111111111111111,\"#46039f\"],[0.2222222222222222,\"#7201a8\"],[0.3333333333333333,\"#9c179e\"],[0.4444444444444444,\"#bd3786\"],[0.5555555555555556,\"#d8576b\"],[0.6666666666666666,\"#ed7953\"],[0.7777777777777778,\"#fb9f3a\"],[0.8888888888888888,\"#fdca26\"],[1.0,\"#f0f921\"]],\"diverging\":[[0,\"#8e0152\"],[0.1,\"#c51b7d\"],[0.2,\"#de77ae\"],[0.3,\"#f1b6da\"],[0.4,\"#fde0ef\"],[0.5,\"#f7f7f7\"],[0.6,\"#e6f5d0\"],[0.7,\"#b8e186\"],[0.8,\"#7fbc41\"],[0.9,\"#4d9221\"],[1,\"#276419\"]]},\"xaxis\":{\"gridcolor\":\"white\",\"linecolor\":\"white\",\"ticks\":\"\",\"title\":{\"standoff\":15},\"zerolinecolor\":\"white\",\"automargin\":true,\"zerolinewidth\":2},\"yaxis\":{\"gridcolor\":\"white\",\"linecolor\":\"white\",\"ticks\":\"\",\"title\":{\"standoff\":15},\"zerolinecolor\":\"white\",\"automargin\":true,\"zerolinewidth\":2},\"scene\":{\"xaxis\":{\"backgroundcolor\":\"#E5ECF6\",\"gridcolor\":\"white\",\"linecolor\":\"white\",\"showbackground\":true,\"ticks\":\"\",\"zerolinecolor\":\"white\",\"gridwidth\":2},\"yaxis\":{\"backgroundcolor\":\"#E5ECF6\",\"gridcolor\":\"white\",\"linecolor\":\"white\",\"showbackground\":true,\"ticks\":\"\",\"zerolinecolor\":\"white\",\"gridwidth\":2},\"zaxis\":{\"backgroundcolor\":\"#E5ECF6\",\"gridcolor\":\"white\",\"linecolor\":\"white\",\"showbackground\":true,\"ticks\":\"\",\"zerolinecolor\":\"white\",\"gridwidth\":2}},\"shapedefaults\":{\"line\":{\"color\":\"#2a3f5f\"}},\"annotationdefaults\":{\"arrowcolor\":\"#2a3f5f\",\"arrowhead\":0,\"arrowwidth\":1},\"geo\":{\"bgcolor\":\"white\",\"landcolor\":\"#E5ECF6\",\"subunitcolor\":\"white\",\"showland\":true,\"showlakes\":true,\"lakecolor\":\"white\"},\"title\":{\"x\":0.05},\"mapbox\":{\"style\":\"light\"}}},\"xaxis\":{\"anchor\":\"y\",\"domain\":[0.0,1.0],\"title\":{\"text\":\"index\"}},\"yaxis\":{\"anchor\":\"x\",\"domain\":[0.0,1.0],\"title\":{\"text\":\"value\"}},\"legend\":{\"title\":{\"text\":\"variable\"},\"tracegroupgap\":0},\"margin\":{\"t\":60},\"barmode\":\"relative\"},                        {\"responsive\": true}                    )                };                            </script>        </div>\n",
       "</body>\n",
       "</html>"
      ]
     },
     "metadata": {},
     "output_type": "display_data"
    }
   ],
   "source": [
    "# bar plot\n",
    " \n",
    "speed = [0.1, 17.5, 40, 48, 52, 69, 88]\n",
    "lifespan = [2, 8, 70, 1.5, 25, 12, 28]\n",
    "index = ['snail', 'pig', 'elephant',\n",
    "         'rabbit', 'giraffe', 'coyote', 'horse']\n",
    "         \n",
    "psdf = ps.DataFrame({'speed': speed,\n",
    "                     'lifespan': lifespan}, index=index)\n",
    "psdf.plot.bar()"
   ]
  },
  {
   "cell_type": "code",
   "execution_count": null,
   "metadata": {
    "application/vnd.databricks.v1+cell": {
     "cellMetadata": {
      "byteLimit": 2048000,
      "rowLimit": 10000
     },
     "inputWidgets": {},
     "nuid": "84b70d9d-7077-45bb-96d9-5cdecc9ef7df",
     "showTitle": false,
     "title": ""
    }
   },
   "outputs": [
    {
     "data": {
      "text/html": [
       "<div>\n",
       "<style scoped>\n",
       "    .dataframe tbody tr th:only-of-type {\n",
       "        vertical-align: middle;\n",
       "    }\n",
       "\n",
       "    .dataframe tbody tr th {\n",
       "        vertical-align: top;\n",
       "    }\n",
       "\n",
       "    .dataframe thead th {\n",
       "        text-align: right;\n",
       "    }\n",
       "</style>\n",
       "<table border=\"1\" class=\"dataframe\">\n",
       "  <thead>\n",
       "    <tr style=\"text-align: right;\">\n",
       "      <th></th>\n",
       "      <th>speed</th>\n",
       "      <th>lifespan</th>\n",
       "    </tr>\n",
       "  </thead>\n",
       "  <tbody>\n",
       "    <tr>\n",
       "      <th>snail</th>\n",
       "      <td>0.1</td>\n",
       "      <td>2.0</td>\n",
       "    </tr>\n",
       "    <tr>\n",
       "      <th>pig</th>\n",
       "      <td>17.5</td>\n",
       "      <td>8.0</td>\n",
       "    </tr>\n",
       "    <tr>\n",
       "      <th>elephant</th>\n",
       "      <td>40.0</td>\n",
       "      <td>70.0</td>\n",
       "    </tr>\n",
       "    <tr>\n",
       "      <th>rabbit</th>\n",
       "      <td>48.0</td>\n",
       "      <td>1.5</td>\n",
       "    </tr>\n",
       "    <tr>\n",
       "      <th>giraffe</th>\n",
       "      <td>52.0</td>\n",
       "      <td>25.0</td>\n",
       "    </tr>\n",
       "    <tr>\n",
       "      <th>coyote</th>\n",
       "      <td>69.0</td>\n",
       "      <td>12.0</td>\n",
       "    </tr>\n",
       "    <tr>\n",
       "      <th>horse</th>\n",
       "      <td>88.0</td>\n",
       "      <td>28.0</td>\n",
       "    </tr>\n",
       "  </tbody>\n",
       "</table>\n",
       "</div>"
      ],
      "text/plain": [
       "          speed  lifespan\n",
       "snail       0.1       2.0\n",
       "pig        17.5       8.0\n",
       "elephant   40.0      70.0\n",
       "rabbit     48.0       1.5\n",
       "giraffe    52.0      25.0\n",
       "coyote     69.0      12.0\n",
       "horse      88.0      28.0"
      ]
     },
     "execution_count": 64,
     "metadata": {},
     "output_type": "execute_result"
    }
   ],
   "source": [
    "psdf"
   ]
  },
  {
   "cell_type": "code",
   "execution_count": null,
   "metadata": {
    "application/vnd.databricks.v1+cell": {
     "cellMetadata": {
      "byteLimit": 2048000,
      "rowLimit": 10000
     },
     "inputWidgets": {},
     "nuid": "4a47da7b-c52f-4ffe-b459-f9735b336226",
     "showTitle": false,
     "title": ""
    }
   },
   "outputs": [
    {
     "data": {
      "text/html": [
       "<html>\n",
       "<head><meta charset=\"utf-8\" /></head>\n",
       "<body>\n",
       "    <div>            <script src=\"https://cdnjs.cloudflare.com/ajax/libs/mathjax/2.7.5/MathJax.js?config=TeX-AMS-MML_SVG\"></script><script type=\"text/javascript\">if (window.MathJax && window.MathJax.Hub && window.MathJax.Hub.Config) {window.MathJax.Hub.Config({SVG: {font: \"STIX-Web\"}});}</script>                <script type=\"text/javascript\">window.PlotlyConfig = {MathJaxConfig: 'local'};</script>\n",
       "        <script src=\"https://cdn.plot.ly/plotly-2.12.1.min.js\"></script>                <div id=\"b5fccdc4-f0d0-46d5-ab63-af0e0fb9425c\" class=\"plotly-graph-div\" style=\"height:100%; width:100%;\"></div>            <script type=\"text/javascript\">                                    window.PLOTLYENV=window.PLOTLYENV || {};                                    if (document.getElementById(\"b5fccdc4-f0d0-46d5-ab63-af0e0fb9425c\")) {                    Plotly.newPlot(                        \"b5fccdc4-f0d0-46d5-ab63-af0e0fb9425c\",                        [{\"alignmentgroup\":\"True\",\"hovertemplate\":\"variable=speed<br>value=%{x}<br>index=%{y}<extra></extra>\",\"legendgroup\":\"speed\",\"marker\":{\"color\":\"#636efa\",\"pattern\":{\"shape\":\"\"}},\"name\":\"speed\",\"offsetgroup\":\"speed\",\"orientation\":\"h\",\"showlegend\":true,\"textposition\":\"auto\",\"x\":[0.1,17.5,40.0,48.0,52.0,69.0,88.0],\"xaxis\":\"x\",\"y\":[\"snail\",\"pig\",\"elephant\",\"rabbit\",\"giraffe\",\"coyote\",\"horse\"],\"yaxis\":\"y\",\"type\":\"bar\"},{\"alignmentgroup\":\"True\",\"hovertemplate\":\"variable=lifespan<br>value=%{x}<br>index=%{y}<extra></extra>\",\"legendgroup\":\"lifespan\",\"marker\":{\"color\":\"#EF553B\",\"pattern\":{\"shape\":\"\"}},\"name\":\"lifespan\",\"offsetgroup\":\"lifespan\",\"orientation\":\"h\",\"showlegend\":true,\"textposition\":\"auto\",\"x\":[2.0,8.0,70.0,1.5,25.0,12.0,28.0],\"xaxis\":\"x\",\"y\":[\"snail\",\"pig\",\"elephant\",\"rabbit\",\"giraffe\",\"coyote\",\"horse\"],\"yaxis\":\"y\",\"type\":\"bar\"}],                        {\"template\":{\"data\":{\"histogram2dcontour\":[{\"type\":\"histogram2dcontour\",\"colorbar\":{\"outlinewidth\":0,\"ticks\":\"\"},\"colorscale\":[[0.0,\"#0d0887\"],[0.1111111111111111,\"#46039f\"],[0.2222222222222222,\"#7201a8\"],[0.3333333333333333,\"#9c179e\"],[0.4444444444444444,\"#bd3786\"],[0.5555555555555556,\"#d8576b\"],[0.6666666666666666,\"#ed7953\"],[0.7777777777777778,\"#fb9f3a\"],[0.8888888888888888,\"#fdca26\"],[1.0,\"#f0f921\"]]}],\"choropleth\":[{\"type\":\"choropleth\",\"colorbar\":{\"outlinewidth\":0,\"ticks\":\"\"}}],\"histogram2d\":[{\"type\":\"histogram2d\",\"colorbar\":{\"outlinewidth\":0,\"ticks\":\"\"},\"colorscale\":[[0.0,\"#0d0887\"],[0.1111111111111111,\"#46039f\"],[0.2222222222222222,\"#7201a8\"],[0.3333333333333333,\"#9c179e\"],[0.4444444444444444,\"#bd3786\"],[0.5555555555555556,\"#d8576b\"],[0.6666666666666666,\"#ed7953\"],[0.7777777777777778,\"#fb9f3a\"],[0.8888888888888888,\"#fdca26\"],[1.0,\"#f0f921\"]]}],\"heatmap\":[{\"type\":\"heatmap\",\"colorbar\":{\"outlinewidth\":0,\"ticks\":\"\"},\"colorscale\":[[0.0,\"#0d0887\"],[0.1111111111111111,\"#46039f\"],[0.2222222222222222,\"#7201a8\"],[0.3333333333333333,\"#9c179e\"],[0.4444444444444444,\"#bd3786\"],[0.5555555555555556,\"#d8576b\"],[0.6666666666666666,\"#ed7953\"],[0.7777777777777778,\"#fb9f3a\"],[0.8888888888888888,\"#fdca26\"],[1.0,\"#f0f921\"]]}],\"heatmapgl\":[{\"type\":\"heatmapgl\",\"colorbar\":{\"outlinewidth\":0,\"ticks\":\"\"},\"colorscale\":[[0.0,\"#0d0887\"],[0.1111111111111111,\"#46039f\"],[0.2222222222222222,\"#7201a8\"],[0.3333333333333333,\"#9c179e\"],[0.4444444444444444,\"#bd3786\"],[0.5555555555555556,\"#d8576b\"],[0.6666666666666666,\"#ed7953\"],[0.7777777777777778,\"#fb9f3a\"],[0.8888888888888888,\"#fdca26\"],[1.0,\"#f0f921\"]]}],\"contourcarpet\":[{\"type\":\"contourcarpet\",\"colorbar\":{\"outlinewidth\":0,\"ticks\":\"\"}}],\"contour\":[{\"type\":\"contour\",\"colorbar\":{\"outlinewidth\":0,\"ticks\":\"\"},\"colorscale\":[[0.0,\"#0d0887\"],[0.1111111111111111,\"#46039f\"],[0.2222222222222222,\"#7201a8\"],[0.3333333333333333,\"#9c179e\"],[0.4444444444444444,\"#bd3786\"],[0.5555555555555556,\"#d8576b\"],[0.6666666666666666,\"#ed7953\"],[0.7777777777777778,\"#fb9f3a\"],[0.8888888888888888,\"#fdca26\"],[1.0,\"#f0f921\"]]}],\"surface\":[{\"type\":\"surface\",\"colorbar\":{\"outlinewidth\":0,\"ticks\":\"\"},\"colorscale\":[[0.0,\"#0d0887\"],[0.1111111111111111,\"#46039f\"],[0.2222222222222222,\"#7201a8\"],[0.3333333333333333,\"#9c179e\"],[0.4444444444444444,\"#bd3786\"],[0.5555555555555556,\"#d8576b\"],[0.6666666666666666,\"#ed7953\"],[0.7777777777777778,\"#fb9f3a\"],[0.8888888888888888,\"#fdca26\"],[1.0,\"#f0f921\"]]}],\"mesh3d\":[{\"type\":\"mesh3d\",\"colorbar\":{\"outlinewidth\":0,\"ticks\":\"\"}}],\"scatter\":[{\"fillpattern\":{\"fillmode\":\"overlay\",\"size\":10,\"solidity\":0.2},\"type\":\"scatter\"}],\"parcoords\":[{\"type\":\"parcoords\",\"line\":{\"colorbar\":{\"outlinewidth\":0,\"ticks\":\"\"}}}],\"scatterpolargl\":[{\"type\":\"scatterpolargl\",\"marker\":{\"colorbar\":{\"outlinewidth\":0,\"ticks\":\"\"}}}],\"bar\":[{\"error_x\":{\"color\":\"#2a3f5f\"},\"error_y\":{\"color\":\"#2a3f5f\"},\"marker\":{\"line\":{\"color\":\"#E5ECF6\",\"width\":0.5},\"pattern\":{\"fillmode\":\"overlay\",\"size\":10,\"solidity\":0.2}},\"type\":\"bar\"}],\"scattergeo\":[{\"type\":\"scattergeo\",\"marker\":{\"colorbar\":{\"outlinewidth\":0,\"ticks\":\"\"}}}],\"scatterpolar\":[{\"type\":\"scatterpolar\",\"marker\":{\"colorbar\":{\"outlinewidth\":0,\"ticks\":\"\"}}}],\"histogram\":[{\"marker\":{\"pattern\":{\"fillmode\":\"overlay\",\"size\":10,\"solidity\":0.2}},\"type\":\"histogram\"}],\"scattergl\":[{\"type\":\"scattergl\",\"marker\":{\"colorbar\":{\"outlinewidth\":0,\"ticks\":\"\"}}}],\"scatter3d\":[{\"type\":\"scatter3d\",\"line\":{\"colorbar\":{\"outlinewidth\":0,\"ticks\":\"\"}},\"marker\":{\"colorbar\":{\"outlinewidth\":0,\"ticks\":\"\"}}}],\"scattermapbox\":[{\"type\":\"scattermapbox\",\"marker\":{\"colorbar\":{\"outlinewidth\":0,\"ticks\":\"\"}}}],\"scatterternary\":[{\"type\":\"scatterternary\",\"marker\":{\"colorbar\":{\"outlinewidth\":0,\"ticks\":\"\"}}}],\"scattercarpet\":[{\"type\":\"scattercarpet\",\"marker\":{\"colorbar\":{\"outlinewidth\":0,\"ticks\":\"\"}}}],\"carpet\":[{\"aaxis\":{\"endlinecolor\":\"#2a3f5f\",\"gridcolor\":\"white\",\"linecolor\":\"white\",\"minorgridcolor\":\"white\",\"startlinecolor\":\"#2a3f5f\"},\"baxis\":{\"endlinecolor\":\"#2a3f5f\",\"gridcolor\":\"white\",\"linecolor\":\"white\",\"minorgridcolor\":\"white\",\"startlinecolor\":\"#2a3f5f\"},\"type\":\"carpet\"}],\"table\":[{\"cells\":{\"fill\":{\"color\":\"#EBF0F8\"},\"line\":{\"color\":\"white\"}},\"header\":{\"fill\":{\"color\":\"#C8D4E3\"},\"line\":{\"color\":\"white\"}},\"type\":\"table\"}],\"barpolar\":[{\"marker\":{\"line\":{\"color\":\"#E5ECF6\",\"width\":0.5},\"pattern\":{\"fillmode\":\"overlay\",\"size\":10,\"solidity\":0.2}},\"type\":\"barpolar\"}],\"pie\":[{\"automargin\":true,\"type\":\"pie\"}]},\"layout\":{\"autotypenumbers\":\"strict\",\"colorway\":[\"#636efa\",\"#EF553B\",\"#00cc96\",\"#ab63fa\",\"#FFA15A\",\"#19d3f3\",\"#FF6692\",\"#B6E880\",\"#FF97FF\",\"#FECB52\"],\"font\":{\"color\":\"#2a3f5f\"},\"hovermode\":\"closest\",\"hoverlabel\":{\"align\":\"left\"},\"paper_bgcolor\":\"white\",\"plot_bgcolor\":\"#E5ECF6\",\"polar\":{\"bgcolor\":\"#E5ECF6\",\"angularaxis\":{\"gridcolor\":\"white\",\"linecolor\":\"white\",\"ticks\":\"\"},\"radialaxis\":{\"gridcolor\":\"white\",\"linecolor\":\"white\",\"ticks\":\"\"}},\"ternary\":{\"bgcolor\":\"#E5ECF6\",\"aaxis\":{\"gridcolor\":\"white\",\"linecolor\":\"white\",\"ticks\":\"\"},\"baxis\":{\"gridcolor\":\"white\",\"linecolor\":\"white\",\"ticks\":\"\"},\"caxis\":{\"gridcolor\":\"white\",\"linecolor\":\"white\",\"ticks\":\"\"}},\"coloraxis\":{\"colorbar\":{\"outlinewidth\":0,\"ticks\":\"\"}},\"colorscale\":{\"sequential\":[[0.0,\"#0d0887\"],[0.1111111111111111,\"#46039f\"],[0.2222222222222222,\"#7201a8\"],[0.3333333333333333,\"#9c179e\"],[0.4444444444444444,\"#bd3786\"],[0.5555555555555556,\"#d8576b\"],[0.6666666666666666,\"#ed7953\"],[0.7777777777777778,\"#fb9f3a\"],[0.8888888888888888,\"#fdca26\"],[1.0,\"#f0f921\"]],\"sequentialminus\":[[0.0,\"#0d0887\"],[0.1111111111111111,\"#46039f\"],[0.2222222222222222,\"#7201a8\"],[0.3333333333333333,\"#9c179e\"],[0.4444444444444444,\"#bd3786\"],[0.5555555555555556,\"#d8576b\"],[0.6666666666666666,\"#ed7953\"],[0.7777777777777778,\"#fb9f3a\"],[0.8888888888888888,\"#fdca26\"],[1.0,\"#f0f921\"]],\"diverging\":[[0,\"#8e0152\"],[0.1,\"#c51b7d\"],[0.2,\"#de77ae\"],[0.3,\"#f1b6da\"],[0.4,\"#fde0ef\"],[0.5,\"#f7f7f7\"],[0.6,\"#e6f5d0\"],[0.7,\"#b8e186\"],[0.8,\"#7fbc41\"],[0.9,\"#4d9221\"],[1,\"#276419\"]]},\"xaxis\":{\"gridcolor\":\"white\",\"linecolor\":\"white\",\"ticks\":\"\",\"title\":{\"standoff\":15},\"zerolinecolor\":\"white\",\"automargin\":true,\"zerolinewidth\":2},\"yaxis\":{\"gridcolor\":\"white\",\"linecolor\":\"white\",\"ticks\":\"\",\"title\":{\"standoff\":15},\"zerolinecolor\":\"white\",\"automargin\":true,\"zerolinewidth\":2},\"scene\":{\"xaxis\":{\"backgroundcolor\":\"#E5ECF6\",\"gridcolor\":\"white\",\"linecolor\":\"white\",\"showbackground\":true,\"ticks\":\"\",\"zerolinecolor\":\"white\",\"gridwidth\":2},\"yaxis\":{\"backgroundcolor\":\"#E5ECF6\",\"gridcolor\":\"white\",\"linecolor\":\"white\",\"showbackground\":true,\"ticks\":\"\",\"zerolinecolor\":\"white\",\"gridwidth\":2},\"zaxis\":{\"backgroundcolor\":\"#E5ECF6\",\"gridcolor\":\"white\",\"linecolor\":\"white\",\"showbackground\":true,\"ticks\":\"\",\"zerolinecolor\":\"white\",\"gridwidth\":2}},\"shapedefaults\":{\"line\":{\"color\":\"#2a3f5f\"}},\"annotationdefaults\":{\"arrowcolor\":\"#2a3f5f\",\"arrowhead\":0,\"arrowwidth\":1},\"geo\":{\"bgcolor\":\"white\",\"landcolor\":\"#E5ECF6\",\"subunitcolor\":\"white\",\"showland\":true,\"showlakes\":true,\"lakecolor\":\"white\"},\"title\":{\"x\":0.05},\"mapbox\":{\"style\":\"light\"}}},\"xaxis\":{\"anchor\":\"y\",\"domain\":[0.0,1.0],\"title\":{\"text\":\"value\"}},\"yaxis\":{\"anchor\":\"x\",\"domain\":[0.0,1.0],\"title\":{\"text\":\"index\"}},\"legend\":{\"title\":{\"text\":\"variable\"},\"tracegroupgap\":0},\"margin\":{\"t\":60},\"barmode\":\"relative\"},                        {\"responsive\": true}                    )                };                            </script>        </div>\n",
       "</body>\n",
       "</html>"
      ]
     },
     "metadata": {},
     "output_type": "display_data"
    }
   ],
   "source": [
    "# horizontal bar plot\n",
    "psdf.plot.barh()"
   ]
  },
  {
   "cell_type": "code",
   "execution_count": null,
   "metadata": {
    "application/vnd.databricks.v1+cell": {
     "cellMetadata": {
      "byteLimit": 2048000,
      "rowLimit": 10000
     },
     "inputWidgets": {},
     "nuid": "eaccef99-b01a-41ff-956a-b473de9741a4",
     "showTitle": false,
     "title": ""
    }
   },
   "outputs": [
    {
     "data": {
      "text/html": [
       "<html>\n",
       "<head><meta charset=\"utf-8\" /></head>\n",
       "<body>\n",
       "    <div>            <script src=\"https://cdnjs.cloudflare.com/ajax/libs/mathjax/2.7.5/MathJax.js?config=TeX-AMS-MML_SVG\"></script><script type=\"text/javascript\">if (window.MathJax && window.MathJax.Hub && window.MathJax.Hub.Config) {window.MathJax.Hub.Config({SVG: {font: \"STIX-Web\"}});}</script>                <script type=\"text/javascript\">window.PlotlyConfig = {MathJaxConfig: 'local'};</script>\n",
       "        <script src=\"https://cdn.plot.ly/plotly-2.12.1.min.js\"></script>                <div id=\"c0a71775-b248-45b6-bc52-081cff12d9a6\" class=\"plotly-graph-div\" style=\"height:100%; width:100%;\"></div>            <script type=\"text/javascript\">                                    window.PLOTLYENV=window.PLOTLYENV || {};                                    if (document.getElementById(\"c0a71775-b248-45b6-bc52-081cff12d9a6\")) {                    Plotly.newPlot(                        \"c0a71775-b248-45b6-bc52-081cff12d9a6\",                        [{\"domain\":{\"x\":[0.0,1.0],\"y\":[0.0,1.0]},\"hovertemplate\":\"index=%{label}<br>mass=%{value}<extra></extra>\",\"labels\":[\"Mercury\",\"Venus\",\"Earth\"],\"legendgroup\":\"\",\"name\":\"\",\"showlegend\":true,\"values\":[0.33,4.87,5.97],\"type\":\"pie\"}],                        {\"template\":{\"data\":{\"histogram2dcontour\":[{\"type\":\"histogram2dcontour\",\"colorbar\":{\"outlinewidth\":0,\"ticks\":\"\"},\"colorscale\":[[0.0,\"#0d0887\"],[0.1111111111111111,\"#46039f\"],[0.2222222222222222,\"#7201a8\"],[0.3333333333333333,\"#9c179e\"],[0.4444444444444444,\"#bd3786\"],[0.5555555555555556,\"#d8576b\"],[0.6666666666666666,\"#ed7953\"],[0.7777777777777778,\"#fb9f3a\"],[0.8888888888888888,\"#fdca26\"],[1.0,\"#f0f921\"]]}],\"choropleth\":[{\"type\":\"choropleth\",\"colorbar\":{\"outlinewidth\":0,\"ticks\":\"\"}}],\"histogram2d\":[{\"type\":\"histogram2d\",\"colorbar\":{\"outlinewidth\":0,\"ticks\":\"\"},\"colorscale\":[[0.0,\"#0d0887\"],[0.1111111111111111,\"#46039f\"],[0.2222222222222222,\"#7201a8\"],[0.3333333333333333,\"#9c179e\"],[0.4444444444444444,\"#bd3786\"],[0.5555555555555556,\"#d8576b\"],[0.6666666666666666,\"#ed7953\"],[0.7777777777777778,\"#fb9f3a\"],[0.8888888888888888,\"#fdca26\"],[1.0,\"#f0f921\"]]}],\"heatmap\":[{\"type\":\"heatmap\",\"colorbar\":{\"outlinewidth\":0,\"ticks\":\"\"},\"colorscale\":[[0.0,\"#0d0887\"],[0.1111111111111111,\"#46039f\"],[0.2222222222222222,\"#7201a8\"],[0.3333333333333333,\"#9c179e\"],[0.4444444444444444,\"#bd3786\"],[0.5555555555555556,\"#d8576b\"],[0.6666666666666666,\"#ed7953\"],[0.7777777777777778,\"#fb9f3a\"],[0.8888888888888888,\"#fdca26\"],[1.0,\"#f0f921\"]]}],\"heatmapgl\":[{\"type\":\"heatmapgl\",\"colorbar\":{\"outlinewidth\":0,\"ticks\":\"\"},\"colorscale\":[[0.0,\"#0d0887\"],[0.1111111111111111,\"#46039f\"],[0.2222222222222222,\"#7201a8\"],[0.3333333333333333,\"#9c179e\"],[0.4444444444444444,\"#bd3786\"],[0.5555555555555556,\"#d8576b\"],[0.6666666666666666,\"#ed7953\"],[0.7777777777777778,\"#fb9f3a\"],[0.8888888888888888,\"#fdca26\"],[1.0,\"#f0f921\"]]}],\"contourcarpet\":[{\"type\":\"contourcarpet\",\"colorbar\":{\"outlinewidth\":0,\"ticks\":\"\"}}],\"contour\":[{\"type\":\"contour\",\"colorbar\":{\"outlinewidth\":0,\"ticks\":\"\"},\"colorscale\":[[0.0,\"#0d0887\"],[0.1111111111111111,\"#46039f\"],[0.2222222222222222,\"#7201a8\"],[0.3333333333333333,\"#9c179e\"],[0.4444444444444444,\"#bd3786\"],[0.5555555555555556,\"#d8576b\"],[0.6666666666666666,\"#ed7953\"],[0.7777777777777778,\"#fb9f3a\"],[0.8888888888888888,\"#fdca26\"],[1.0,\"#f0f921\"]]}],\"surface\":[{\"type\":\"surface\",\"colorbar\":{\"outlinewidth\":0,\"ticks\":\"\"},\"colorscale\":[[0.0,\"#0d0887\"],[0.1111111111111111,\"#46039f\"],[0.2222222222222222,\"#7201a8\"],[0.3333333333333333,\"#9c179e\"],[0.4444444444444444,\"#bd3786\"],[0.5555555555555556,\"#d8576b\"],[0.6666666666666666,\"#ed7953\"],[0.7777777777777778,\"#fb9f3a\"],[0.8888888888888888,\"#fdca26\"],[1.0,\"#f0f921\"]]}],\"mesh3d\":[{\"type\":\"mesh3d\",\"colorbar\":{\"outlinewidth\":0,\"ticks\":\"\"}}],\"scatter\":[{\"fillpattern\":{\"fillmode\":\"overlay\",\"size\":10,\"solidity\":0.2},\"type\":\"scatter\"}],\"parcoords\":[{\"type\":\"parcoords\",\"line\":{\"colorbar\":{\"outlinewidth\":0,\"ticks\":\"\"}}}],\"scatterpolargl\":[{\"type\":\"scatterpolargl\",\"marker\":{\"colorbar\":{\"outlinewidth\":0,\"ticks\":\"\"}}}],\"bar\":[{\"error_x\":{\"color\":\"#2a3f5f\"},\"error_y\":{\"color\":\"#2a3f5f\"},\"marker\":{\"line\":{\"color\":\"#E5ECF6\",\"width\":0.5},\"pattern\":{\"fillmode\":\"overlay\",\"size\":10,\"solidity\":0.2}},\"type\":\"bar\"}],\"scattergeo\":[{\"type\":\"scattergeo\",\"marker\":{\"colorbar\":{\"outlinewidth\":0,\"ticks\":\"\"}}}],\"scatterpolar\":[{\"type\":\"scatterpolar\",\"marker\":{\"colorbar\":{\"outlinewidth\":0,\"ticks\":\"\"}}}],\"histogram\":[{\"marker\":{\"pattern\":{\"fillmode\":\"overlay\",\"size\":10,\"solidity\":0.2}},\"type\":\"histogram\"}],\"scattergl\":[{\"type\":\"scattergl\",\"marker\":{\"colorbar\":{\"outlinewidth\":0,\"ticks\":\"\"}}}],\"scatter3d\":[{\"type\":\"scatter3d\",\"line\":{\"colorbar\":{\"outlinewidth\":0,\"ticks\":\"\"}},\"marker\":{\"colorbar\":{\"outlinewidth\":0,\"ticks\":\"\"}}}],\"scattermapbox\":[{\"type\":\"scattermapbox\",\"marker\":{\"colorbar\":{\"outlinewidth\":0,\"ticks\":\"\"}}}],\"scatterternary\":[{\"type\":\"scatterternary\",\"marker\":{\"colorbar\":{\"outlinewidth\":0,\"ticks\":\"\"}}}],\"scattercarpet\":[{\"type\":\"scattercarpet\",\"marker\":{\"colorbar\":{\"outlinewidth\":0,\"ticks\":\"\"}}}],\"carpet\":[{\"aaxis\":{\"endlinecolor\":\"#2a3f5f\",\"gridcolor\":\"white\",\"linecolor\":\"white\",\"minorgridcolor\":\"white\",\"startlinecolor\":\"#2a3f5f\"},\"baxis\":{\"endlinecolor\":\"#2a3f5f\",\"gridcolor\":\"white\",\"linecolor\":\"white\",\"minorgridcolor\":\"white\",\"startlinecolor\":\"#2a3f5f\"},\"type\":\"carpet\"}],\"table\":[{\"cells\":{\"fill\":{\"color\":\"#EBF0F8\"},\"line\":{\"color\":\"white\"}},\"header\":{\"fill\":{\"color\":\"#C8D4E3\"},\"line\":{\"color\":\"white\"}},\"type\":\"table\"}],\"barpolar\":[{\"marker\":{\"line\":{\"color\":\"#E5ECF6\",\"width\":0.5},\"pattern\":{\"fillmode\":\"overlay\",\"size\":10,\"solidity\":0.2}},\"type\":\"barpolar\"}],\"pie\":[{\"automargin\":true,\"type\":\"pie\"}]},\"layout\":{\"autotypenumbers\":\"strict\",\"colorway\":[\"#636efa\",\"#EF553B\",\"#00cc96\",\"#ab63fa\",\"#FFA15A\",\"#19d3f3\",\"#FF6692\",\"#B6E880\",\"#FF97FF\",\"#FECB52\"],\"font\":{\"color\":\"#2a3f5f\"},\"hovermode\":\"closest\",\"hoverlabel\":{\"align\":\"left\"},\"paper_bgcolor\":\"white\",\"plot_bgcolor\":\"#E5ECF6\",\"polar\":{\"bgcolor\":\"#E5ECF6\",\"angularaxis\":{\"gridcolor\":\"white\",\"linecolor\":\"white\",\"ticks\":\"\"},\"radialaxis\":{\"gridcolor\":\"white\",\"linecolor\":\"white\",\"ticks\":\"\"}},\"ternary\":{\"bgcolor\":\"#E5ECF6\",\"aaxis\":{\"gridcolor\":\"white\",\"linecolor\":\"white\",\"ticks\":\"\"},\"baxis\":{\"gridcolor\":\"white\",\"linecolor\":\"white\",\"ticks\":\"\"},\"caxis\":{\"gridcolor\":\"white\",\"linecolor\":\"white\",\"ticks\":\"\"}},\"coloraxis\":{\"colorbar\":{\"outlinewidth\":0,\"ticks\":\"\"}},\"colorscale\":{\"sequential\":[[0.0,\"#0d0887\"],[0.1111111111111111,\"#46039f\"],[0.2222222222222222,\"#7201a8\"],[0.3333333333333333,\"#9c179e\"],[0.4444444444444444,\"#bd3786\"],[0.5555555555555556,\"#d8576b\"],[0.6666666666666666,\"#ed7953\"],[0.7777777777777778,\"#fb9f3a\"],[0.8888888888888888,\"#fdca26\"],[1.0,\"#f0f921\"]],\"sequentialminus\":[[0.0,\"#0d0887\"],[0.1111111111111111,\"#46039f\"],[0.2222222222222222,\"#7201a8\"],[0.3333333333333333,\"#9c179e\"],[0.4444444444444444,\"#bd3786\"],[0.5555555555555556,\"#d8576b\"],[0.6666666666666666,\"#ed7953\"],[0.7777777777777778,\"#fb9f3a\"],[0.8888888888888888,\"#fdca26\"],[1.0,\"#f0f921\"]],\"diverging\":[[0,\"#8e0152\"],[0.1,\"#c51b7d\"],[0.2,\"#de77ae\"],[0.3,\"#f1b6da\"],[0.4,\"#fde0ef\"],[0.5,\"#f7f7f7\"],[0.6,\"#e6f5d0\"],[0.7,\"#b8e186\"],[0.8,\"#7fbc41\"],[0.9,\"#4d9221\"],[1,\"#276419\"]]},\"xaxis\":{\"gridcolor\":\"white\",\"linecolor\":\"white\",\"ticks\":\"\",\"title\":{\"standoff\":15},\"zerolinecolor\":\"white\",\"automargin\":true,\"zerolinewidth\":2},\"yaxis\":{\"gridcolor\":\"white\",\"linecolor\":\"white\",\"ticks\":\"\",\"title\":{\"standoff\":15},\"zerolinecolor\":\"white\",\"automargin\":true,\"zerolinewidth\":2},\"scene\":{\"xaxis\":{\"backgroundcolor\":\"#E5ECF6\",\"gridcolor\":\"white\",\"linecolor\":\"white\",\"showbackground\":true,\"ticks\":\"\",\"zerolinecolor\":\"white\",\"gridwidth\":2},\"yaxis\":{\"backgroundcolor\":\"#E5ECF6\",\"gridcolor\":\"white\",\"linecolor\":\"white\",\"showbackground\":true,\"ticks\":\"\",\"zerolinecolor\":\"white\",\"gridwidth\":2},\"zaxis\":{\"backgroundcolor\":\"#E5ECF6\",\"gridcolor\":\"white\",\"linecolor\":\"white\",\"showbackground\":true,\"ticks\":\"\",\"zerolinecolor\":\"white\",\"gridwidth\":2}},\"shapedefaults\":{\"line\":{\"color\":\"#2a3f5f\"}},\"annotationdefaults\":{\"arrowcolor\":\"#2a3f5f\",\"arrowhead\":0,\"arrowwidth\":1},\"geo\":{\"bgcolor\":\"white\",\"landcolor\":\"#E5ECF6\",\"subunitcolor\":\"white\",\"showland\":true,\"showlakes\":true,\"lakecolor\":\"white\"},\"title\":{\"x\":0.05},\"mapbox\":{\"style\":\"light\"}}},\"legend\":{\"tracegroupgap\":0},\"margin\":{\"t\":60}},                        {\"responsive\": true}                    )                };                            </script>        </div>\n",
       "</body>\n",
       "</html>"
      ]
     },
     "metadata": {},
     "output_type": "display_data"
    }
   ],
   "source": [
    "#  pie chart\n",
    " \n",
    "psdf = ps.DataFrame({'mass': [0.330, 4.87, 5.97],\n",
    "                     'radius': [2439.7, 6051.8, 6378.1]},\n",
    "                    index=['Mercury', 'Venus', 'Earth'])\n",
    "psdf.plot.pie(y='mass')"
   ]
  },
  {
   "cell_type": "code",
   "execution_count": null,
   "metadata": {
    "application/vnd.databricks.v1+cell": {
     "cellMetadata": {
      "byteLimit": 2048000,
      "rowLimit": 10000
     },
     "inputWidgets": {},
     "nuid": "60001514-a0b1-47a5-bbfe-132be0d5fd44",
     "showTitle": false,
     "title": ""
    }
   },
   "outputs": [
    {
     "data": {
      "text/html": [
       "<html>\n",
       "<head><meta charset=\"utf-8\" /></head>\n",
       "<body>\n",
       "    <div>            <script src=\"https://cdnjs.cloudflare.com/ajax/libs/mathjax/2.7.5/MathJax.js?config=TeX-AMS-MML_SVG\"></script><script type=\"text/javascript\">if (window.MathJax && window.MathJax.Hub && window.MathJax.Hub.Config) {window.MathJax.Hub.Config({SVG: {font: \"STIX-Web\"}});}</script>                <script type=\"text/javascript\">window.PlotlyConfig = {MathJaxConfig: 'local'};</script>\n",
       "        <script src=\"https://cdn.plot.ly/plotly-2.12.1.min.js\"></script>                <div id=\"48925ca8-af0b-4610-89eb-d16e3471dfbe\" class=\"plotly-graph-div\" style=\"height:100%; width:100%;\"></div>            <script type=\"text/javascript\">                                    window.PLOTLYENV=window.PLOTLYENV || {};                                    if (document.getElementById(\"48925ca8-af0b-4610-89eb-d16e3471dfbe\")) {                    Plotly.newPlot(                        \"48925ca8-af0b-4610-89eb-d16e3471dfbe\",                        [{\"fillpattern\":{\"shape\":\"\"},\"hovertemplate\":\"variable=sales<br>index=%{x}<br>value=%{y}<extra></extra>\",\"legendgroup\":\"sales\",\"line\":{\"color\":\"#636efa\"},\"marker\":{\"symbol\":\"circle\"},\"mode\":\"lines\",\"name\":\"sales\",\"orientation\":\"v\",\"showlegend\":true,\"stackgroup\":\"1\",\"x\":[\"2019-08-31T00:00:00\",\"2019-09-30T00:00:00\",\"2019-10-31T00:00:00\",\"2019-11-30T00:00:00\",\"2019-12-31T00:00:00\",\"2020-01-31T00:00:00\",\"2020-02-29T00:00:00\"],\"xaxis\":\"x\",\"y\":[3,2,3,9,10,6,3],\"yaxis\":\"y\",\"type\":\"scatter\"},{\"fillpattern\":{\"shape\":\"\"},\"hovertemplate\":\"variable=signups<br>index=%{x}<br>value=%{y}<extra></extra>\",\"legendgroup\":\"signups\",\"line\":{\"color\":\"#EF553B\"},\"marker\":{\"symbol\":\"circle\"},\"mode\":\"lines\",\"name\":\"signups\",\"orientation\":\"v\",\"showlegend\":true,\"stackgroup\":\"1\",\"x\":[\"2019-08-31T00:00:00\",\"2019-09-30T00:00:00\",\"2019-10-31T00:00:00\",\"2019-11-30T00:00:00\",\"2019-12-31T00:00:00\",\"2020-01-31T00:00:00\",\"2020-02-29T00:00:00\"],\"xaxis\":\"x\",\"y\":[5,5,6,12,14,13,9],\"yaxis\":\"y\",\"type\":\"scatter\"},{\"fillpattern\":{\"shape\":\"\"},\"hovertemplate\":\"variable=visits<br>index=%{x}<br>value=%{y}<extra></extra>\",\"legendgroup\":\"visits\",\"line\":{\"color\":\"#00cc96\"},\"marker\":{\"symbol\":\"circle\"},\"mode\":\"lines\",\"name\":\"visits\",\"orientation\":\"v\",\"showlegend\":true,\"stackgroup\":\"1\",\"x\":[\"2019-08-31T00:00:00\",\"2019-09-30T00:00:00\",\"2019-10-31T00:00:00\",\"2019-11-30T00:00:00\",\"2019-12-31T00:00:00\",\"2020-01-31T00:00:00\",\"2020-02-29T00:00:00\"],\"xaxis\":\"x\",\"y\":[20,42,28,62,81,50,90],\"yaxis\":\"y\",\"type\":\"scatter\"}],                        {\"template\":{\"data\":{\"histogram2dcontour\":[{\"type\":\"histogram2dcontour\",\"colorbar\":{\"outlinewidth\":0,\"ticks\":\"\"},\"colorscale\":[[0.0,\"#0d0887\"],[0.1111111111111111,\"#46039f\"],[0.2222222222222222,\"#7201a8\"],[0.3333333333333333,\"#9c179e\"],[0.4444444444444444,\"#bd3786\"],[0.5555555555555556,\"#d8576b\"],[0.6666666666666666,\"#ed7953\"],[0.7777777777777778,\"#fb9f3a\"],[0.8888888888888888,\"#fdca26\"],[1.0,\"#f0f921\"]]}],\"choropleth\":[{\"type\":\"choropleth\",\"colorbar\":{\"outlinewidth\":0,\"ticks\":\"\"}}],\"histogram2d\":[{\"type\":\"histogram2d\",\"colorbar\":{\"outlinewidth\":0,\"ticks\":\"\"},\"colorscale\":[[0.0,\"#0d0887\"],[0.1111111111111111,\"#46039f\"],[0.2222222222222222,\"#7201a8\"],[0.3333333333333333,\"#9c179e\"],[0.4444444444444444,\"#bd3786\"],[0.5555555555555556,\"#d8576b\"],[0.6666666666666666,\"#ed7953\"],[0.7777777777777778,\"#fb9f3a\"],[0.8888888888888888,\"#fdca26\"],[1.0,\"#f0f921\"]]}],\"heatmap\":[{\"type\":\"heatmap\",\"colorbar\":{\"outlinewidth\":0,\"ticks\":\"\"},\"colorscale\":[[0.0,\"#0d0887\"],[0.1111111111111111,\"#46039f\"],[0.2222222222222222,\"#7201a8\"],[0.3333333333333333,\"#9c179e\"],[0.4444444444444444,\"#bd3786\"],[0.5555555555555556,\"#d8576b\"],[0.6666666666666666,\"#ed7953\"],[0.7777777777777778,\"#fb9f3a\"],[0.8888888888888888,\"#fdca26\"],[1.0,\"#f0f921\"]]}],\"heatmapgl\":[{\"type\":\"heatmapgl\",\"colorbar\":{\"outlinewidth\":0,\"ticks\":\"\"},\"colorscale\":[[0.0,\"#0d0887\"],[0.1111111111111111,\"#46039f\"],[0.2222222222222222,\"#7201a8\"],[0.3333333333333333,\"#9c179e\"],[0.4444444444444444,\"#bd3786\"],[0.5555555555555556,\"#d8576b\"],[0.6666666666666666,\"#ed7953\"],[0.7777777777777778,\"#fb9f3a\"],[0.8888888888888888,\"#fdca26\"],[1.0,\"#f0f921\"]]}],\"contourcarpet\":[{\"type\":\"contourcarpet\",\"colorbar\":{\"outlinewidth\":0,\"ticks\":\"\"}}],\"contour\":[{\"type\":\"contour\",\"colorbar\":{\"outlinewidth\":0,\"ticks\":\"\"},\"colorscale\":[[0.0,\"#0d0887\"],[0.1111111111111111,\"#46039f\"],[0.2222222222222222,\"#7201a8\"],[0.3333333333333333,\"#9c179e\"],[0.4444444444444444,\"#bd3786\"],[0.5555555555555556,\"#d8576b\"],[0.6666666666666666,\"#ed7953\"],[0.7777777777777778,\"#fb9f3a\"],[0.8888888888888888,\"#fdca26\"],[1.0,\"#f0f921\"]]}],\"surface\":[{\"type\":\"surface\",\"colorbar\":{\"outlinewidth\":0,\"ticks\":\"\"},\"colorscale\":[[0.0,\"#0d0887\"],[0.1111111111111111,\"#46039f\"],[0.2222222222222222,\"#7201a8\"],[0.3333333333333333,\"#9c179e\"],[0.4444444444444444,\"#bd3786\"],[0.5555555555555556,\"#d8576b\"],[0.6666666666666666,\"#ed7953\"],[0.7777777777777778,\"#fb9f3a\"],[0.8888888888888888,\"#fdca26\"],[1.0,\"#f0f921\"]]}],\"mesh3d\":[{\"type\":\"mesh3d\",\"colorbar\":{\"outlinewidth\":0,\"ticks\":\"\"}}],\"scatter\":[{\"fillpattern\":{\"fillmode\":\"overlay\",\"size\":10,\"solidity\":0.2},\"type\":\"scatter\"}],\"parcoords\":[{\"type\":\"parcoords\",\"line\":{\"colorbar\":{\"outlinewidth\":0,\"ticks\":\"\"}}}],\"scatterpolargl\":[{\"type\":\"scatterpolargl\",\"marker\":{\"colorbar\":{\"outlinewidth\":0,\"ticks\":\"\"}}}],\"bar\":[{\"error_x\":{\"color\":\"#2a3f5f\"},\"error_y\":{\"color\":\"#2a3f5f\"},\"marker\":{\"line\":{\"color\":\"#E5ECF6\",\"width\":0.5},\"pattern\":{\"fillmode\":\"overlay\",\"size\":10,\"solidity\":0.2}},\"type\":\"bar\"}],\"scattergeo\":[{\"type\":\"scattergeo\",\"marker\":{\"colorbar\":{\"outlinewidth\":0,\"ticks\":\"\"}}}],\"scatterpolar\":[{\"type\":\"scatterpolar\",\"marker\":{\"colorbar\":{\"outlinewidth\":0,\"ticks\":\"\"}}}],\"histogram\":[{\"marker\":{\"pattern\":{\"fillmode\":\"overlay\",\"size\":10,\"solidity\":0.2}},\"type\":\"histogram\"}],\"scattergl\":[{\"type\":\"scattergl\",\"marker\":{\"colorbar\":{\"outlinewidth\":0,\"ticks\":\"\"}}}],\"scatter3d\":[{\"type\":\"scatter3d\",\"line\":{\"colorbar\":{\"outlinewidth\":0,\"ticks\":\"\"}},\"marker\":{\"colorbar\":{\"outlinewidth\":0,\"ticks\":\"\"}}}],\"scattermapbox\":[{\"type\":\"scattermapbox\",\"marker\":{\"colorbar\":{\"outlinewidth\":0,\"ticks\":\"\"}}}],\"scatterternary\":[{\"type\":\"scatterternary\",\"marker\":{\"colorbar\":{\"outlinewidth\":0,\"ticks\":\"\"}}}],\"scattercarpet\":[{\"type\":\"scattercarpet\",\"marker\":{\"colorbar\":{\"outlinewidth\":0,\"ticks\":\"\"}}}],\"carpet\":[{\"aaxis\":{\"endlinecolor\":\"#2a3f5f\",\"gridcolor\":\"white\",\"linecolor\":\"white\",\"minorgridcolor\":\"white\",\"startlinecolor\":\"#2a3f5f\"},\"baxis\":{\"endlinecolor\":\"#2a3f5f\",\"gridcolor\":\"white\",\"linecolor\":\"white\",\"minorgridcolor\":\"white\",\"startlinecolor\":\"#2a3f5f\"},\"type\":\"carpet\"}],\"table\":[{\"cells\":{\"fill\":{\"color\":\"#EBF0F8\"},\"line\":{\"color\":\"white\"}},\"header\":{\"fill\":{\"color\":\"#C8D4E3\"},\"line\":{\"color\":\"white\"}},\"type\":\"table\"}],\"barpolar\":[{\"marker\":{\"line\":{\"color\":\"#E5ECF6\",\"width\":0.5},\"pattern\":{\"fillmode\":\"overlay\",\"size\":10,\"solidity\":0.2}},\"type\":\"barpolar\"}],\"pie\":[{\"automargin\":true,\"type\":\"pie\"}]},\"layout\":{\"autotypenumbers\":\"strict\",\"colorway\":[\"#636efa\",\"#EF553B\",\"#00cc96\",\"#ab63fa\",\"#FFA15A\",\"#19d3f3\",\"#FF6692\",\"#B6E880\",\"#FF97FF\",\"#FECB52\"],\"font\":{\"color\":\"#2a3f5f\"},\"hovermode\":\"closest\",\"hoverlabel\":{\"align\":\"left\"},\"paper_bgcolor\":\"white\",\"plot_bgcolor\":\"#E5ECF6\",\"polar\":{\"bgcolor\":\"#E5ECF6\",\"angularaxis\":{\"gridcolor\":\"white\",\"linecolor\":\"white\",\"ticks\":\"\"},\"radialaxis\":{\"gridcolor\":\"white\",\"linecolor\":\"white\",\"ticks\":\"\"}},\"ternary\":{\"bgcolor\":\"#E5ECF6\",\"aaxis\":{\"gridcolor\":\"white\",\"linecolor\":\"white\",\"ticks\":\"\"},\"baxis\":{\"gridcolor\":\"white\",\"linecolor\":\"white\",\"ticks\":\"\"},\"caxis\":{\"gridcolor\":\"white\",\"linecolor\":\"white\",\"ticks\":\"\"}},\"coloraxis\":{\"colorbar\":{\"outlinewidth\":0,\"ticks\":\"\"}},\"colorscale\":{\"sequential\":[[0.0,\"#0d0887\"],[0.1111111111111111,\"#46039f\"],[0.2222222222222222,\"#7201a8\"],[0.3333333333333333,\"#9c179e\"],[0.4444444444444444,\"#bd3786\"],[0.5555555555555556,\"#d8576b\"],[0.6666666666666666,\"#ed7953\"],[0.7777777777777778,\"#fb9f3a\"],[0.8888888888888888,\"#fdca26\"],[1.0,\"#f0f921\"]],\"sequentialminus\":[[0.0,\"#0d0887\"],[0.1111111111111111,\"#46039f\"],[0.2222222222222222,\"#7201a8\"],[0.3333333333333333,\"#9c179e\"],[0.4444444444444444,\"#bd3786\"],[0.5555555555555556,\"#d8576b\"],[0.6666666666666666,\"#ed7953\"],[0.7777777777777778,\"#fb9f3a\"],[0.8888888888888888,\"#fdca26\"],[1.0,\"#f0f921\"]],\"diverging\":[[0,\"#8e0152\"],[0.1,\"#c51b7d\"],[0.2,\"#de77ae\"],[0.3,\"#f1b6da\"],[0.4,\"#fde0ef\"],[0.5,\"#f7f7f7\"],[0.6,\"#e6f5d0\"],[0.7,\"#b8e186\"],[0.8,\"#7fbc41\"],[0.9,\"#4d9221\"],[1,\"#276419\"]]},\"xaxis\":{\"gridcolor\":\"white\",\"linecolor\":\"white\",\"ticks\":\"\",\"title\":{\"standoff\":15},\"zerolinecolor\":\"white\",\"automargin\":true,\"zerolinewidth\":2},\"yaxis\":{\"gridcolor\":\"white\",\"linecolor\":\"white\",\"ticks\":\"\",\"title\":{\"standoff\":15},\"zerolinecolor\":\"white\",\"automargin\":true,\"zerolinewidth\":2},\"scene\":{\"xaxis\":{\"backgroundcolor\":\"#E5ECF6\",\"gridcolor\":\"white\",\"linecolor\":\"white\",\"showbackground\":true,\"ticks\":\"\",\"zerolinecolor\":\"white\",\"gridwidth\":2},\"yaxis\":{\"backgroundcolor\":\"#E5ECF6\",\"gridcolor\":\"white\",\"linecolor\":\"white\",\"showbackground\":true,\"ticks\":\"\",\"zerolinecolor\":\"white\",\"gridwidth\":2},\"zaxis\":{\"backgroundcolor\":\"#E5ECF6\",\"gridcolor\":\"white\",\"linecolor\":\"white\",\"showbackground\":true,\"ticks\":\"\",\"zerolinecolor\":\"white\",\"gridwidth\":2}},\"shapedefaults\":{\"line\":{\"color\":\"#2a3f5f\"}},\"annotationdefaults\":{\"arrowcolor\":\"#2a3f5f\",\"arrowhead\":0,\"arrowwidth\":1},\"geo\":{\"bgcolor\":\"white\",\"landcolor\":\"#E5ECF6\",\"subunitcolor\":\"white\",\"showland\":true,\"showlakes\":true,\"lakecolor\":\"white\"},\"title\":{\"x\":0.05},\"mapbox\":{\"style\":\"light\"}}},\"xaxis\":{\"anchor\":\"y\",\"domain\":[0.0,1.0],\"title\":{\"text\":\"index\"}},\"yaxis\":{\"anchor\":\"x\",\"domain\":[0.0,1.0],\"title\":{\"text\":\"value\"}},\"legend\":{\"title\":{\"text\":\"variable\"},\"tracegroupgap\":0},\"margin\":{\"t\":60}},                        {\"responsive\": true}                    )                };                            </script>        </div>\n",
       "</body>\n",
       "</html>"
      ]
     },
     "metadata": {},
     "output_type": "display_data"
    }
   ],
   "source": [
    "\n",
    "# area plot\n",
    " \n",
    "psdf = ps.DataFrame({\n",
    "    'sales': [3, 2, 3, 9, 10, 6, 3],\n",
    "    'signups': [5, 5, 6, 12, 14, 13, 9],\n",
    "    'visits': [20, 42, 28, 62, 81, 50, 90],\n",
    "}, index=pd.date_range(start='2019/08/15', end='2020/03/09',\n",
    "                       freq='M'))\n",
    "psdf.plot.area()"
   ]
  },
  {
   "cell_type": "code",
   "execution_count": null,
   "metadata": {
    "application/vnd.databricks.v1+cell": {
     "cellMetadata": {
      "byteLimit": 2048000,
      "rowLimit": 10000
     },
     "inputWidgets": {},
     "nuid": "3799b1fc-6035-4e0f-bdb0-e76218c49d76",
     "showTitle": false,
     "title": ""
    }
   },
   "outputs": [
    {
     "data": {
      "text/html": [
       "<html>\n",
       "<head><meta charset=\"utf-8\" /></head>\n",
       "<body>\n",
       "    <div>            <script src=\"https://cdnjs.cloudflare.com/ajax/libs/mathjax/2.7.5/MathJax.js?config=TeX-AMS-MML_SVG\"></script><script type=\"text/javascript\">if (window.MathJax && window.MathJax.Hub && window.MathJax.Hub.Config) {window.MathJax.Hub.Config({SVG: {font: \"STIX-Web\"}});}</script>                <script type=\"text/javascript\">window.PlotlyConfig = {MathJaxConfig: 'local'};</script>\n",
       "        <script src=\"https://cdn.plot.ly/plotly-2.12.1.min.js\"></script>                <div id=\"dc4182f1-fd3d-4df7-ab44-3cb6d19d9aaf\" class=\"plotly-graph-div\" style=\"height:100%; width:100%;\"></div>            <script type=\"text/javascript\">                                    window.PLOTLYENV=window.PLOTLYENV || {};                                    if (document.getElementById(\"dc4182f1-fd3d-4df7-ab44-3cb6d19d9aaf\")) {                    Plotly.newPlot(                        \"dc4182f1-fd3d-4df7-ab44-3cb6d19d9aaf\",                        [{\"hovertemplate\":\"variable=rabbit<br>index=%{x}<br>value=%{y}<extra></extra>\",\"legendgroup\":\"rabbit\",\"line\":{\"color\":\"#636efa\",\"dash\":\"solid\"},\"marker\":{\"symbol\":\"circle\"},\"mode\":\"lines\",\"name\":\"rabbit\",\"orientation\":\"v\",\"showlegend\":true,\"x\":[1990,1997,2003,2009,2014],\"xaxis\":\"x\",\"y\":[20,18,489,675,1776],\"yaxis\":\"y\",\"type\":\"scatter\"},{\"hovertemplate\":\"variable=horse<br>index=%{x}<br>value=%{y}<extra></extra>\",\"legendgroup\":\"horse\",\"line\":{\"color\":\"#EF553B\",\"dash\":\"solid\"},\"marker\":{\"symbol\":\"circle\"},\"mode\":\"lines\",\"name\":\"horse\",\"orientation\":\"v\",\"showlegend\":true,\"x\":[1990,1997,2003,2009,2014],\"xaxis\":\"x\",\"y\":[4,25,281,600,1900],\"yaxis\":\"y\",\"type\":\"scatter\"}],                        {\"template\":{\"data\":{\"histogram2dcontour\":[{\"type\":\"histogram2dcontour\",\"colorbar\":{\"outlinewidth\":0,\"ticks\":\"\"},\"colorscale\":[[0.0,\"#0d0887\"],[0.1111111111111111,\"#46039f\"],[0.2222222222222222,\"#7201a8\"],[0.3333333333333333,\"#9c179e\"],[0.4444444444444444,\"#bd3786\"],[0.5555555555555556,\"#d8576b\"],[0.6666666666666666,\"#ed7953\"],[0.7777777777777778,\"#fb9f3a\"],[0.8888888888888888,\"#fdca26\"],[1.0,\"#f0f921\"]]}],\"choropleth\":[{\"type\":\"choropleth\",\"colorbar\":{\"outlinewidth\":0,\"ticks\":\"\"}}],\"histogram2d\":[{\"type\":\"histogram2d\",\"colorbar\":{\"outlinewidth\":0,\"ticks\":\"\"},\"colorscale\":[[0.0,\"#0d0887\"],[0.1111111111111111,\"#46039f\"],[0.2222222222222222,\"#7201a8\"],[0.3333333333333333,\"#9c179e\"],[0.4444444444444444,\"#bd3786\"],[0.5555555555555556,\"#d8576b\"],[0.6666666666666666,\"#ed7953\"],[0.7777777777777778,\"#fb9f3a\"],[0.8888888888888888,\"#fdca26\"],[1.0,\"#f0f921\"]]}],\"heatmap\":[{\"type\":\"heatmap\",\"colorbar\":{\"outlinewidth\":0,\"ticks\":\"\"},\"colorscale\":[[0.0,\"#0d0887\"],[0.1111111111111111,\"#46039f\"],[0.2222222222222222,\"#7201a8\"],[0.3333333333333333,\"#9c179e\"],[0.4444444444444444,\"#bd3786\"],[0.5555555555555556,\"#d8576b\"],[0.6666666666666666,\"#ed7953\"],[0.7777777777777778,\"#fb9f3a\"],[0.8888888888888888,\"#fdca26\"],[1.0,\"#f0f921\"]]}],\"heatmapgl\":[{\"type\":\"heatmapgl\",\"colorbar\":{\"outlinewidth\":0,\"ticks\":\"\"},\"colorscale\":[[0.0,\"#0d0887\"],[0.1111111111111111,\"#46039f\"],[0.2222222222222222,\"#7201a8\"],[0.3333333333333333,\"#9c179e\"],[0.4444444444444444,\"#bd3786\"],[0.5555555555555556,\"#d8576b\"],[0.6666666666666666,\"#ed7953\"],[0.7777777777777778,\"#fb9f3a\"],[0.8888888888888888,\"#fdca26\"],[1.0,\"#f0f921\"]]}],\"contourcarpet\":[{\"type\":\"contourcarpet\",\"colorbar\":{\"outlinewidth\":0,\"ticks\":\"\"}}],\"contour\":[{\"type\":\"contour\",\"colorbar\":{\"outlinewidth\":0,\"ticks\":\"\"},\"colorscale\":[[0.0,\"#0d0887\"],[0.1111111111111111,\"#46039f\"],[0.2222222222222222,\"#7201a8\"],[0.3333333333333333,\"#9c179e\"],[0.4444444444444444,\"#bd3786\"],[0.5555555555555556,\"#d8576b\"],[0.6666666666666666,\"#ed7953\"],[0.7777777777777778,\"#fb9f3a\"],[0.8888888888888888,\"#fdca26\"],[1.0,\"#f0f921\"]]}],\"surface\":[{\"type\":\"surface\",\"colorbar\":{\"outlinewidth\":0,\"ticks\":\"\"},\"colorscale\":[[0.0,\"#0d0887\"],[0.1111111111111111,\"#46039f\"],[0.2222222222222222,\"#7201a8\"],[0.3333333333333333,\"#9c179e\"],[0.4444444444444444,\"#bd3786\"],[0.5555555555555556,\"#d8576b\"],[0.6666666666666666,\"#ed7953\"],[0.7777777777777778,\"#fb9f3a\"],[0.8888888888888888,\"#fdca26\"],[1.0,\"#f0f921\"]]}],\"mesh3d\":[{\"type\":\"mesh3d\",\"colorbar\":{\"outlinewidth\":0,\"ticks\":\"\"}}],\"scatter\":[{\"fillpattern\":{\"fillmode\":\"overlay\",\"size\":10,\"solidity\":0.2},\"type\":\"scatter\"}],\"parcoords\":[{\"type\":\"parcoords\",\"line\":{\"colorbar\":{\"outlinewidth\":0,\"ticks\":\"\"}}}],\"scatterpolargl\":[{\"type\":\"scatterpolargl\",\"marker\":{\"colorbar\":{\"outlinewidth\":0,\"ticks\":\"\"}}}],\"bar\":[{\"error_x\":{\"color\":\"#2a3f5f\"},\"error_y\":{\"color\":\"#2a3f5f\"},\"marker\":{\"line\":{\"color\":\"#E5ECF6\",\"width\":0.5},\"pattern\":{\"fillmode\":\"overlay\",\"size\":10,\"solidity\":0.2}},\"type\":\"bar\"}],\"scattergeo\":[{\"type\":\"scattergeo\",\"marker\":{\"colorbar\":{\"outlinewidth\":0,\"ticks\":\"\"}}}],\"scatterpolar\":[{\"type\":\"scatterpolar\",\"marker\":{\"colorbar\":{\"outlinewidth\":0,\"ticks\":\"\"}}}],\"histogram\":[{\"marker\":{\"pattern\":{\"fillmode\":\"overlay\",\"size\":10,\"solidity\":0.2}},\"type\":\"histogram\"}],\"scattergl\":[{\"type\":\"scattergl\",\"marker\":{\"colorbar\":{\"outlinewidth\":0,\"ticks\":\"\"}}}],\"scatter3d\":[{\"type\":\"scatter3d\",\"line\":{\"colorbar\":{\"outlinewidth\":0,\"ticks\":\"\"}},\"marker\":{\"colorbar\":{\"outlinewidth\":0,\"ticks\":\"\"}}}],\"scattermapbox\":[{\"type\":\"scattermapbox\",\"marker\":{\"colorbar\":{\"outlinewidth\":0,\"ticks\":\"\"}}}],\"scatterternary\":[{\"type\":\"scatterternary\",\"marker\":{\"colorbar\":{\"outlinewidth\":0,\"ticks\":\"\"}}}],\"scattercarpet\":[{\"type\":\"scattercarpet\",\"marker\":{\"colorbar\":{\"outlinewidth\":0,\"ticks\":\"\"}}}],\"carpet\":[{\"aaxis\":{\"endlinecolor\":\"#2a3f5f\",\"gridcolor\":\"white\",\"linecolor\":\"white\",\"minorgridcolor\":\"white\",\"startlinecolor\":\"#2a3f5f\"},\"baxis\":{\"endlinecolor\":\"#2a3f5f\",\"gridcolor\":\"white\",\"linecolor\":\"white\",\"minorgridcolor\":\"white\",\"startlinecolor\":\"#2a3f5f\"},\"type\":\"carpet\"}],\"table\":[{\"cells\":{\"fill\":{\"color\":\"#EBF0F8\"},\"line\":{\"color\":\"white\"}},\"header\":{\"fill\":{\"color\":\"#C8D4E3\"},\"line\":{\"color\":\"white\"}},\"type\":\"table\"}],\"barpolar\":[{\"marker\":{\"line\":{\"color\":\"#E5ECF6\",\"width\":0.5},\"pattern\":{\"fillmode\":\"overlay\",\"size\":10,\"solidity\":0.2}},\"type\":\"barpolar\"}],\"pie\":[{\"automargin\":true,\"type\":\"pie\"}]},\"layout\":{\"autotypenumbers\":\"strict\",\"colorway\":[\"#636efa\",\"#EF553B\",\"#00cc96\",\"#ab63fa\",\"#FFA15A\",\"#19d3f3\",\"#FF6692\",\"#B6E880\",\"#FF97FF\",\"#FECB52\"],\"font\":{\"color\":\"#2a3f5f\"},\"hovermode\":\"closest\",\"hoverlabel\":{\"align\":\"left\"},\"paper_bgcolor\":\"white\",\"plot_bgcolor\":\"#E5ECF6\",\"polar\":{\"bgcolor\":\"#E5ECF6\",\"angularaxis\":{\"gridcolor\":\"white\",\"linecolor\":\"white\",\"ticks\":\"\"},\"radialaxis\":{\"gridcolor\":\"white\",\"linecolor\":\"white\",\"ticks\":\"\"}},\"ternary\":{\"bgcolor\":\"#E5ECF6\",\"aaxis\":{\"gridcolor\":\"white\",\"linecolor\":\"white\",\"ticks\":\"\"},\"baxis\":{\"gridcolor\":\"white\",\"linecolor\":\"white\",\"ticks\":\"\"},\"caxis\":{\"gridcolor\":\"white\",\"linecolor\":\"white\",\"ticks\":\"\"}},\"coloraxis\":{\"colorbar\":{\"outlinewidth\":0,\"ticks\":\"\"}},\"colorscale\":{\"sequential\":[[0.0,\"#0d0887\"],[0.1111111111111111,\"#46039f\"],[0.2222222222222222,\"#7201a8\"],[0.3333333333333333,\"#9c179e\"],[0.4444444444444444,\"#bd3786\"],[0.5555555555555556,\"#d8576b\"],[0.6666666666666666,\"#ed7953\"],[0.7777777777777778,\"#fb9f3a\"],[0.8888888888888888,\"#fdca26\"],[1.0,\"#f0f921\"]],\"sequentialminus\":[[0.0,\"#0d0887\"],[0.1111111111111111,\"#46039f\"],[0.2222222222222222,\"#7201a8\"],[0.3333333333333333,\"#9c179e\"],[0.4444444444444444,\"#bd3786\"],[0.5555555555555556,\"#d8576b\"],[0.6666666666666666,\"#ed7953\"],[0.7777777777777778,\"#fb9f3a\"],[0.8888888888888888,\"#fdca26\"],[1.0,\"#f0f921\"]],\"diverging\":[[0,\"#8e0152\"],[0.1,\"#c51b7d\"],[0.2,\"#de77ae\"],[0.3,\"#f1b6da\"],[0.4,\"#fde0ef\"],[0.5,\"#f7f7f7\"],[0.6,\"#e6f5d0\"],[0.7,\"#b8e186\"],[0.8,\"#7fbc41\"],[0.9,\"#4d9221\"],[1,\"#276419\"]]},\"xaxis\":{\"gridcolor\":\"white\",\"linecolor\":\"white\",\"ticks\":\"\",\"title\":{\"standoff\":15},\"zerolinecolor\":\"white\",\"automargin\":true,\"zerolinewidth\":2},\"yaxis\":{\"gridcolor\":\"white\",\"linecolor\":\"white\",\"ticks\":\"\",\"title\":{\"standoff\":15},\"zerolinecolor\":\"white\",\"automargin\":true,\"zerolinewidth\":2},\"scene\":{\"xaxis\":{\"backgroundcolor\":\"#E5ECF6\",\"gridcolor\":\"white\",\"linecolor\":\"white\",\"showbackground\":true,\"ticks\":\"\",\"zerolinecolor\":\"white\",\"gridwidth\":2},\"yaxis\":{\"backgroundcolor\":\"#E5ECF6\",\"gridcolor\":\"white\",\"linecolor\":\"white\",\"showbackground\":true,\"ticks\":\"\",\"zerolinecolor\":\"white\",\"gridwidth\":2},\"zaxis\":{\"backgroundcolor\":\"#E5ECF6\",\"gridcolor\":\"white\",\"linecolor\":\"white\",\"showbackground\":true,\"ticks\":\"\",\"zerolinecolor\":\"white\",\"gridwidth\":2}},\"shapedefaults\":{\"line\":{\"color\":\"#2a3f5f\"}},\"annotationdefaults\":{\"arrowcolor\":\"#2a3f5f\",\"arrowhead\":0,\"arrowwidth\":1},\"geo\":{\"bgcolor\":\"white\",\"landcolor\":\"#E5ECF6\",\"subunitcolor\":\"white\",\"showland\":true,\"showlakes\":true,\"lakecolor\":\"white\"},\"title\":{\"x\":0.05},\"mapbox\":{\"style\":\"light\"}}},\"xaxis\":{\"anchor\":\"y\",\"domain\":[0.0,1.0],\"title\":{\"text\":\"index\"}},\"yaxis\":{\"anchor\":\"x\",\"domain\":[0.0,1.0],\"title\":{\"text\":\"value\"}},\"legend\":{\"title\":{\"text\":\"variable\"},\"tracegroupgap\":0},\"margin\":{\"t\":60}},                        {\"responsive\": true}                    )                };                            </script>        </div>\n",
       "</body>\n",
       "</html>"
      ]
     },
     "metadata": {},
     "output_type": "display_data"
    }
   ],
   "source": [
    "\n",
    "# line plot\n",
    " \n",
    "psdf = ps.DataFrame({'rabbit': [20, 18, 489, 675, 1776],\n",
    "                     'horse': [4, 25, 281, 600, 1900]},\n",
    "                    index=[1990, 1997, 2003, 2009, 2014])\n",
    "psdf.plot.line()\n"
   ]
  },
  {
   "cell_type": "code",
   "execution_count": null,
   "metadata": {
    "application/vnd.databricks.v1+cell": {
     "cellMetadata": {
      "byteLimit": 2048000,
      "rowLimit": 10000
     },
     "inputWidgets": {},
     "nuid": "dc410cc5-ec87-420a-8078-be7d6df59ef5",
     "showTitle": false,
     "title": ""
    }
   },
   "outputs": [
    {
     "data": {
      "text/html": [
       "<html>\n",
       "<head><meta charset=\"utf-8\" /></head>\n",
       "<body>\n",
       "    <div>            <script src=\"https://cdnjs.cloudflare.com/ajax/libs/mathjax/2.7.5/MathJax.js?config=TeX-AMS-MML_SVG\"></script><script type=\"text/javascript\">if (window.MathJax && window.MathJax.Hub && window.MathJax.Hub.Config) {window.MathJax.Hub.Config({SVG: {font: \"STIX-Web\"}});}</script>                <script type=\"text/javascript\">window.PlotlyConfig = {MathJaxConfig: 'local'};</script>\n",
       "        <script src=\"https://cdn.plot.ly/plotly-2.12.1.min.js\"></script>                <div id=\"c1ca1acc-6aeb-4971-a430-172ac28a60cd\" class=\"plotly-graph-div\" style=\"height:100%; width:100%;\"></div>            <script type=\"text/javascript\">                                    window.PLOTLYENV=window.PLOTLYENV || {};                                    if (document.getElementById(\"c1ca1acc-6aeb-4971-a430-172ac28a60cd\")) {                    Plotly.newPlot(                        \"c1ca1acc-6aeb-4971-a430-172ac28a60cd\",                        [{\"hovertemplate\":\"variable=one<br>value=%{text}<br>count=%{y}\",\"name\":\"one\",\"text\":[\"[1.0, 1.916666667)\",\"[1.916666667, 2.833333333)\",\"[2.833333333, 3.75)\",\"[3.75, 4.666666667)\",\"[4.666666667, 5.583333333)\",\"[5.583333333, 6.5)\",\"[6.5, 7.416666667)\",\"[7.416666667, 8.333333333)\",\"[8.333333333, 9.25)\",\"[9.25, 10.166666667)\",\"[10.166666667, 11.083333333)\",\"[11.083333333, 12.0]\"],\"x\":[1.4583333333333333,2.375,3.2916666666666665,4.208333333333333,5.125,6.041666666666666,6.958333333333333,7.874999999999999,8.791666666666666,9.708333333333332,10.625,11.541666666666666],\"y\":[1046.0,983.0,984.0,932.0,1036.0,1019.0,0.0,0.0,0.0,0.0,0.0,0.0],\"type\":\"bar\"},{\"hovertemplate\":\"variable=two<br>value=%{text}<br>count=%{y}\",\"name\":\"two\",\"text\":[\"[1.0, 1.916666667)\",\"[1.916666667, 2.833333333)\",\"[2.833333333, 3.75)\",\"[3.75, 4.666666667)\",\"[4.666666667, 5.583333333)\",\"[5.583333333, 6.5)\",\"[6.5, 7.416666667)\",\"[7.416666667, 8.333333333)\",\"[8.333333333, 9.25)\",\"[9.25, 10.166666667)\",\"[10.166666667, 11.083333333)\",\"[11.083333333, 12.0]\"],\"x\":[1.4583333333333333,2.375,3.2916666666666665,4.208333333333333,5.125,6.041666666666666,6.958333333333333,7.874999999999999,8.791666666666666,9.708333333333332,10.625,11.541666666666666],\"y\":[0.0,161.0,317.0,496.0,652.0,820.0,1020.0,856.0,672.0,514.0,322.0,170.0],\"type\":\"bar\"}],                        {\"template\":{\"data\":{\"histogram2dcontour\":[{\"type\":\"histogram2dcontour\",\"colorbar\":{\"outlinewidth\":0,\"ticks\":\"\"},\"colorscale\":[[0.0,\"#0d0887\"],[0.1111111111111111,\"#46039f\"],[0.2222222222222222,\"#7201a8\"],[0.3333333333333333,\"#9c179e\"],[0.4444444444444444,\"#bd3786\"],[0.5555555555555556,\"#d8576b\"],[0.6666666666666666,\"#ed7953\"],[0.7777777777777778,\"#fb9f3a\"],[0.8888888888888888,\"#fdca26\"],[1.0,\"#f0f921\"]]}],\"choropleth\":[{\"type\":\"choropleth\",\"colorbar\":{\"outlinewidth\":0,\"ticks\":\"\"}}],\"histogram2d\":[{\"type\":\"histogram2d\",\"colorbar\":{\"outlinewidth\":0,\"ticks\":\"\"},\"colorscale\":[[0.0,\"#0d0887\"],[0.1111111111111111,\"#46039f\"],[0.2222222222222222,\"#7201a8\"],[0.3333333333333333,\"#9c179e\"],[0.4444444444444444,\"#bd3786\"],[0.5555555555555556,\"#d8576b\"],[0.6666666666666666,\"#ed7953\"],[0.7777777777777778,\"#fb9f3a\"],[0.8888888888888888,\"#fdca26\"],[1.0,\"#f0f921\"]]}],\"heatmap\":[{\"type\":\"heatmap\",\"colorbar\":{\"outlinewidth\":0,\"ticks\":\"\"},\"colorscale\":[[0.0,\"#0d0887\"],[0.1111111111111111,\"#46039f\"],[0.2222222222222222,\"#7201a8\"],[0.3333333333333333,\"#9c179e\"],[0.4444444444444444,\"#bd3786\"],[0.5555555555555556,\"#d8576b\"],[0.6666666666666666,\"#ed7953\"],[0.7777777777777778,\"#fb9f3a\"],[0.8888888888888888,\"#fdca26\"],[1.0,\"#f0f921\"]]}],\"heatmapgl\":[{\"type\":\"heatmapgl\",\"colorbar\":{\"outlinewidth\":0,\"ticks\":\"\"},\"colorscale\":[[0.0,\"#0d0887\"],[0.1111111111111111,\"#46039f\"],[0.2222222222222222,\"#7201a8\"],[0.3333333333333333,\"#9c179e\"],[0.4444444444444444,\"#bd3786\"],[0.5555555555555556,\"#d8576b\"],[0.6666666666666666,\"#ed7953\"],[0.7777777777777778,\"#fb9f3a\"],[0.8888888888888888,\"#fdca26\"],[1.0,\"#f0f921\"]]}],\"contourcarpet\":[{\"type\":\"contourcarpet\",\"colorbar\":{\"outlinewidth\":0,\"ticks\":\"\"}}],\"contour\":[{\"type\":\"contour\",\"colorbar\":{\"outlinewidth\":0,\"ticks\":\"\"},\"colorscale\":[[0.0,\"#0d0887\"],[0.1111111111111111,\"#46039f\"],[0.2222222222222222,\"#7201a8\"],[0.3333333333333333,\"#9c179e\"],[0.4444444444444444,\"#bd3786\"],[0.5555555555555556,\"#d8576b\"],[0.6666666666666666,\"#ed7953\"],[0.7777777777777778,\"#fb9f3a\"],[0.8888888888888888,\"#fdca26\"],[1.0,\"#f0f921\"]]}],\"surface\":[{\"type\":\"surface\",\"colorbar\":{\"outlinewidth\":0,\"ticks\":\"\"},\"colorscale\":[[0.0,\"#0d0887\"],[0.1111111111111111,\"#46039f\"],[0.2222222222222222,\"#7201a8\"],[0.3333333333333333,\"#9c179e\"],[0.4444444444444444,\"#bd3786\"],[0.5555555555555556,\"#d8576b\"],[0.6666666666666666,\"#ed7953\"],[0.7777777777777778,\"#fb9f3a\"],[0.8888888888888888,\"#fdca26\"],[1.0,\"#f0f921\"]]}],\"mesh3d\":[{\"type\":\"mesh3d\",\"colorbar\":{\"outlinewidth\":0,\"ticks\":\"\"}}],\"scatter\":[{\"fillpattern\":{\"fillmode\":\"overlay\",\"size\":10,\"solidity\":0.2},\"type\":\"scatter\"}],\"parcoords\":[{\"type\":\"parcoords\",\"line\":{\"colorbar\":{\"outlinewidth\":0,\"ticks\":\"\"}}}],\"scatterpolargl\":[{\"type\":\"scatterpolargl\",\"marker\":{\"colorbar\":{\"outlinewidth\":0,\"ticks\":\"\"}}}],\"bar\":[{\"error_x\":{\"color\":\"#2a3f5f\"},\"error_y\":{\"color\":\"#2a3f5f\"},\"marker\":{\"line\":{\"color\":\"#E5ECF6\",\"width\":0.5},\"pattern\":{\"fillmode\":\"overlay\",\"size\":10,\"solidity\":0.2}},\"type\":\"bar\"}],\"scattergeo\":[{\"type\":\"scattergeo\",\"marker\":{\"colorbar\":{\"outlinewidth\":0,\"ticks\":\"\"}}}],\"scatterpolar\":[{\"type\":\"scatterpolar\",\"marker\":{\"colorbar\":{\"outlinewidth\":0,\"ticks\":\"\"}}}],\"histogram\":[{\"marker\":{\"pattern\":{\"fillmode\":\"overlay\",\"size\":10,\"solidity\":0.2}},\"type\":\"histogram\"}],\"scattergl\":[{\"type\":\"scattergl\",\"marker\":{\"colorbar\":{\"outlinewidth\":0,\"ticks\":\"\"}}}],\"scatter3d\":[{\"type\":\"scatter3d\",\"line\":{\"colorbar\":{\"outlinewidth\":0,\"ticks\":\"\"}},\"marker\":{\"colorbar\":{\"outlinewidth\":0,\"ticks\":\"\"}}}],\"scattermapbox\":[{\"type\":\"scattermapbox\",\"marker\":{\"colorbar\":{\"outlinewidth\":0,\"ticks\":\"\"}}}],\"scatterternary\":[{\"type\":\"scatterternary\",\"marker\":{\"colorbar\":{\"outlinewidth\":0,\"ticks\":\"\"}}}],\"scattercarpet\":[{\"type\":\"scattercarpet\",\"marker\":{\"colorbar\":{\"outlinewidth\":0,\"ticks\":\"\"}}}],\"carpet\":[{\"aaxis\":{\"endlinecolor\":\"#2a3f5f\",\"gridcolor\":\"white\",\"linecolor\":\"white\",\"minorgridcolor\":\"white\",\"startlinecolor\":\"#2a3f5f\"},\"baxis\":{\"endlinecolor\":\"#2a3f5f\",\"gridcolor\":\"white\",\"linecolor\":\"white\",\"minorgridcolor\":\"white\",\"startlinecolor\":\"#2a3f5f\"},\"type\":\"carpet\"}],\"table\":[{\"cells\":{\"fill\":{\"color\":\"#EBF0F8\"},\"line\":{\"color\":\"white\"}},\"header\":{\"fill\":{\"color\":\"#C8D4E3\"},\"line\":{\"color\":\"white\"}},\"type\":\"table\"}],\"barpolar\":[{\"marker\":{\"line\":{\"color\":\"#E5ECF6\",\"width\":0.5},\"pattern\":{\"fillmode\":\"overlay\",\"size\":10,\"solidity\":0.2}},\"type\":\"barpolar\"}],\"pie\":[{\"automargin\":true,\"type\":\"pie\"}]},\"layout\":{\"autotypenumbers\":\"strict\",\"colorway\":[\"#636efa\",\"#EF553B\",\"#00cc96\",\"#ab63fa\",\"#FFA15A\",\"#19d3f3\",\"#FF6692\",\"#B6E880\",\"#FF97FF\",\"#FECB52\"],\"font\":{\"color\":\"#2a3f5f\"},\"hovermode\":\"closest\",\"hoverlabel\":{\"align\":\"left\"},\"paper_bgcolor\":\"white\",\"plot_bgcolor\":\"#E5ECF6\",\"polar\":{\"bgcolor\":\"#E5ECF6\",\"angularaxis\":{\"gridcolor\":\"white\",\"linecolor\":\"white\",\"ticks\":\"\"},\"radialaxis\":{\"gridcolor\":\"white\",\"linecolor\":\"white\",\"ticks\":\"\"}},\"ternary\":{\"bgcolor\":\"#E5ECF6\",\"aaxis\":{\"gridcolor\":\"white\",\"linecolor\":\"white\",\"ticks\":\"\"},\"baxis\":{\"gridcolor\":\"white\",\"linecolor\":\"white\",\"ticks\":\"\"},\"caxis\":{\"gridcolor\":\"white\",\"linecolor\":\"white\",\"ticks\":\"\"}},\"coloraxis\":{\"colorbar\":{\"outlinewidth\":0,\"ticks\":\"\"}},\"colorscale\":{\"sequential\":[[0.0,\"#0d0887\"],[0.1111111111111111,\"#46039f\"],[0.2222222222222222,\"#7201a8\"],[0.3333333333333333,\"#9c179e\"],[0.4444444444444444,\"#bd3786\"],[0.5555555555555556,\"#d8576b\"],[0.6666666666666666,\"#ed7953\"],[0.7777777777777778,\"#fb9f3a\"],[0.8888888888888888,\"#fdca26\"],[1.0,\"#f0f921\"]],\"sequentialminus\":[[0.0,\"#0d0887\"],[0.1111111111111111,\"#46039f\"],[0.2222222222222222,\"#7201a8\"],[0.3333333333333333,\"#9c179e\"],[0.4444444444444444,\"#bd3786\"],[0.5555555555555556,\"#d8576b\"],[0.6666666666666666,\"#ed7953\"],[0.7777777777777778,\"#fb9f3a\"],[0.8888888888888888,\"#fdca26\"],[1.0,\"#f0f921\"]],\"diverging\":[[0,\"#8e0152\"],[0.1,\"#c51b7d\"],[0.2,\"#de77ae\"],[0.3,\"#f1b6da\"],[0.4,\"#fde0ef\"],[0.5,\"#f7f7f7\"],[0.6,\"#e6f5d0\"],[0.7,\"#b8e186\"],[0.8,\"#7fbc41\"],[0.9,\"#4d9221\"],[1,\"#276419\"]]},\"xaxis\":{\"gridcolor\":\"white\",\"linecolor\":\"white\",\"ticks\":\"\",\"title\":{\"standoff\":15},\"zerolinecolor\":\"white\",\"automargin\":true,\"zerolinewidth\":2},\"yaxis\":{\"gridcolor\":\"white\",\"linecolor\":\"white\",\"ticks\":\"\",\"title\":{\"standoff\":15},\"zerolinecolor\":\"white\",\"automargin\":true,\"zerolinewidth\":2},\"scene\":{\"xaxis\":{\"backgroundcolor\":\"#E5ECF6\",\"gridcolor\":\"white\",\"linecolor\":\"white\",\"showbackground\":true,\"ticks\":\"\",\"zerolinecolor\":\"white\",\"gridwidth\":2},\"yaxis\":{\"backgroundcolor\":\"#E5ECF6\",\"gridcolor\":\"white\",\"linecolor\":\"white\",\"showbackground\":true,\"ticks\":\"\",\"zerolinecolor\":\"white\",\"gridwidth\":2},\"zaxis\":{\"backgroundcolor\":\"#E5ECF6\",\"gridcolor\":\"white\",\"linecolor\":\"white\",\"showbackground\":true,\"ticks\":\"\",\"zerolinecolor\":\"white\",\"gridwidth\":2}},\"shapedefaults\":{\"line\":{\"color\":\"#2a3f5f\"}},\"annotationdefaults\":{\"arrowcolor\":\"#2a3f5f\",\"arrowhead\":0,\"arrowwidth\":1},\"geo\":{\"bgcolor\":\"white\",\"landcolor\":\"#E5ECF6\",\"subunitcolor\":\"white\",\"showland\":true,\"showlakes\":true,\"lakecolor\":\"white\"},\"title\":{\"x\":0.05},\"mapbox\":{\"style\":\"light\"}}},\"barmode\":\"stack\",\"xaxis\":{\"title\":{\"text\":\"value\"}},\"yaxis\":{\"title\":{\"text\":\"count\"}}},                        {\"responsive\": true}                    )                };                            </script>        </div>\n",
       "</body>\n",
       "</html>"
      ]
     },
     "metadata": {},
     "output_type": "display_data"
    }
   ],
   "source": [
    "# Histogram\n",
    " \n",
    "pdf = pd.DataFrame(\n",
    "    np.random.randint(1, 7, 6000),\n",
    "    columns=['one'])\n",
    "pdf['two'] = pdf['one'] + np.random.randint(1, 7, 6000)\n",
    "psdf = ps.from_pandas(pdf)\n",
    "psdf.plot.hist(bins=12, alpha=0.5)"
   ]
  },
  {
   "cell_type": "code",
   "execution_count": null,
   "metadata": {
    "application/vnd.databricks.v1+cell": {
     "cellMetadata": {
      "byteLimit": 2048000,
      "rowLimit": 10000
     },
     "inputWidgets": {},
     "nuid": "8f19a006-9d87-406a-a11a-f907e7b55205",
     "showTitle": false,
     "title": ""
    }
   },
   "outputs": [
    {
     "data": {
      "text/html": [
       "<html>\n",
       "<head><meta charset=\"utf-8\" /></head>\n",
       "<body>\n",
       "    <div>            <script src=\"https://cdnjs.cloudflare.com/ajax/libs/mathjax/2.7.5/MathJax.js?config=TeX-AMS-MML_SVG\"></script><script type=\"text/javascript\">if (window.MathJax && window.MathJax.Hub && window.MathJax.Hub.Config) {window.MathJax.Hub.Config({SVG: {font: \"STIX-Web\"}});}</script>                <script type=\"text/javascript\">window.PlotlyConfig = {MathJaxConfig: 'local'};</script>\n",
       "        <script src=\"https://cdn.plot.ly/plotly-2.12.1.min.js\"></script>                <div id=\"54f4eb8a-471a-440f-beb3-68d4e857a383\" class=\"plotly-graph-div\" style=\"height:100%; width:100%;\"></div>            <script type=\"text/javascript\">                                    window.PLOTLYENV=window.PLOTLYENV || {};                                    if (document.getElementById(\"54f4eb8a-471a-440f-beb3-68d4e857a383\")) {                    Plotly.newPlot(                        \"54f4eb8a-471a-440f-beb3-68d4e857a383\",                        [{\"hovertemplate\":\"length=%{x}<br>width=%{y}<extra></extra>\",\"legendgroup\":\"\",\"marker\":{\"color\":\"#636efa\",\"symbol\":\"circle\"},\"mode\":\"markers\",\"name\":\"\",\"orientation\":\"v\",\"showlegend\":false,\"x\":[5.1,4.9,7.0,6.4,5.9],\"xaxis\":\"x\",\"y\":[3.5,3.0,3.2,3.2,3.0],\"yaxis\":\"y\",\"type\":\"scatter\"}],                        {\"template\":{\"data\":{\"histogram2dcontour\":[{\"type\":\"histogram2dcontour\",\"colorbar\":{\"outlinewidth\":0,\"ticks\":\"\"},\"colorscale\":[[0.0,\"#0d0887\"],[0.1111111111111111,\"#46039f\"],[0.2222222222222222,\"#7201a8\"],[0.3333333333333333,\"#9c179e\"],[0.4444444444444444,\"#bd3786\"],[0.5555555555555556,\"#d8576b\"],[0.6666666666666666,\"#ed7953\"],[0.7777777777777778,\"#fb9f3a\"],[0.8888888888888888,\"#fdca26\"],[1.0,\"#f0f921\"]]}],\"choropleth\":[{\"type\":\"choropleth\",\"colorbar\":{\"outlinewidth\":0,\"ticks\":\"\"}}],\"histogram2d\":[{\"type\":\"histogram2d\",\"colorbar\":{\"outlinewidth\":0,\"ticks\":\"\"},\"colorscale\":[[0.0,\"#0d0887\"],[0.1111111111111111,\"#46039f\"],[0.2222222222222222,\"#7201a8\"],[0.3333333333333333,\"#9c179e\"],[0.4444444444444444,\"#bd3786\"],[0.5555555555555556,\"#d8576b\"],[0.6666666666666666,\"#ed7953\"],[0.7777777777777778,\"#fb9f3a\"],[0.8888888888888888,\"#fdca26\"],[1.0,\"#f0f921\"]]}],\"heatmap\":[{\"type\":\"heatmap\",\"colorbar\":{\"outlinewidth\":0,\"ticks\":\"\"},\"colorscale\":[[0.0,\"#0d0887\"],[0.1111111111111111,\"#46039f\"],[0.2222222222222222,\"#7201a8\"],[0.3333333333333333,\"#9c179e\"],[0.4444444444444444,\"#bd3786\"],[0.5555555555555556,\"#d8576b\"],[0.6666666666666666,\"#ed7953\"],[0.7777777777777778,\"#fb9f3a\"],[0.8888888888888888,\"#fdca26\"],[1.0,\"#f0f921\"]]}],\"heatmapgl\":[{\"type\":\"heatmapgl\",\"colorbar\":{\"outlinewidth\":0,\"ticks\":\"\"},\"colorscale\":[[0.0,\"#0d0887\"],[0.1111111111111111,\"#46039f\"],[0.2222222222222222,\"#7201a8\"],[0.3333333333333333,\"#9c179e\"],[0.4444444444444444,\"#bd3786\"],[0.5555555555555556,\"#d8576b\"],[0.6666666666666666,\"#ed7953\"],[0.7777777777777778,\"#fb9f3a\"],[0.8888888888888888,\"#fdca26\"],[1.0,\"#f0f921\"]]}],\"contourcarpet\":[{\"type\":\"contourcarpet\",\"colorbar\":{\"outlinewidth\":0,\"ticks\":\"\"}}],\"contour\":[{\"type\":\"contour\",\"colorbar\":{\"outlinewidth\":0,\"ticks\":\"\"},\"colorscale\":[[0.0,\"#0d0887\"],[0.1111111111111111,\"#46039f\"],[0.2222222222222222,\"#7201a8\"],[0.3333333333333333,\"#9c179e\"],[0.4444444444444444,\"#bd3786\"],[0.5555555555555556,\"#d8576b\"],[0.6666666666666666,\"#ed7953\"],[0.7777777777777778,\"#fb9f3a\"],[0.8888888888888888,\"#fdca26\"],[1.0,\"#f0f921\"]]}],\"surface\":[{\"type\":\"surface\",\"colorbar\":{\"outlinewidth\":0,\"ticks\":\"\"},\"colorscale\":[[0.0,\"#0d0887\"],[0.1111111111111111,\"#46039f\"],[0.2222222222222222,\"#7201a8\"],[0.3333333333333333,\"#9c179e\"],[0.4444444444444444,\"#bd3786\"],[0.5555555555555556,\"#d8576b\"],[0.6666666666666666,\"#ed7953\"],[0.7777777777777778,\"#fb9f3a\"],[0.8888888888888888,\"#fdca26\"],[1.0,\"#f0f921\"]]}],\"mesh3d\":[{\"type\":\"mesh3d\",\"colorbar\":{\"outlinewidth\":0,\"ticks\":\"\"}}],\"scatter\":[{\"fillpattern\":{\"fillmode\":\"overlay\",\"size\":10,\"solidity\":0.2},\"type\":\"scatter\"}],\"parcoords\":[{\"type\":\"parcoords\",\"line\":{\"colorbar\":{\"outlinewidth\":0,\"ticks\":\"\"}}}],\"scatterpolargl\":[{\"type\":\"scatterpolargl\",\"marker\":{\"colorbar\":{\"outlinewidth\":0,\"ticks\":\"\"}}}],\"bar\":[{\"error_x\":{\"color\":\"#2a3f5f\"},\"error_y\":{\"color\":\"#2a3f5f\"},\"marker\":{\"line\":{\"color\":\"#E5ECF6\",\"width\":0.5},\"pattern\":{\"fillmode\":\"overlay\",\"size\":10,\"solidity\":0.2}},\"type\":\"bar\"}],\"scattergeo\":[{\"type\":\"scattergeo\",\"marker\":{\"colorbar\":{\"outlinewidth\":0,\"ticks\":\"\"}}}],\"scatterpolar\":[{\"type\":\"scatterpolar\",\"marker\":{\"colorbar\":{\"outlinewidth\":0,\"ticks\":\"\"}}}],\"histogram\":[{\"marker\":{\"pattern\":{\"fillmode\":\"overlay\",\"size\":10,\"solidity\":0.2}},\"type\":\"histogram\"}],\"scattergl\":[{\"type\":\"scattergl\",\"marker\":{\"colorbar\":{\"outlinewidth\":0,\"ticks\":\"\"}}}],\"scatter3d\":[{\"type\":\"scatter3d\",\"line\":{\"colorbar\":{\"outlinewidth\":0,\"ticks\":\"\"}},\"marker\":{\"colorbar\":{\"outlinewidth\":0,\"ticks\":\"\"}}}],\"scattermapbox\":[{\"type\":\"scattermapbox\",\"marker\":{\"colorbar\":{\"outlinewidth\":0,\"ticks\":\"\"}}}],\"scatterternary\":[{\"type\":\"scatterternary\",\"marker\":{\"colorbar\":{\"outlinewidth\":0,\"ticks\":\"\"}}}],\"scattercarpet\":[{\"type\":\"scattercarpet\",\"marker\":{\"colorbar\":{\"outlinewidth\":0,\"ticks\":\"\"}}}],\"carpet\":[{\"aaxis\":{\"endlinecolor\":\"#2a3f5f\",\"gridcolor\":\"white\",\"linecolor\":\"white\",\"minorgridcolor\":\"white\",\"startlinecolor\":\"#2a3f5f\"},\"baxis\":{\"endlinecolor\":\"#2a3f5f\",\"gridcolor\":\"white\",\"linecolor\":\"white\",\"minorgridcolor\":\"white\",\"startlinecolor\":\"#2a3f5f\"},\"type\":\"carpet\"}],\"table\":[{\"cells\":{\"fill\":{\"color\":\"#EBF0F8\"},\"line\":{\"color\":\"white\"}},\"header\":{\"fill\":{\"color\":\"#C8D4E3\"},\"line\":{\"color\":\"white\"}},\"type\":\"table\"}],\"barpolar\":[{\"marker\":{\"line\":{\"color\":\"#E5ECF6\",\"width\":0.5},\"pattern\":{\"fillmode\":\"overlay\",\"size\":10,\"solidity\":0.2}},\"type\":\"barpolar\"}],\"pie\":[{\"automargin\":true,\"type\":\"pie\"}]},\"layout\":{\"autotypenumbers\":\"strict\",\"colorway\":[\"#636efa\",\"#EF553B\",\"#00cc96\",\"#ab63fa\",\"#FFA15A\",\"#19d3f3\",\"#FF6692\",\"#B6E880\",\"#FF97FF\",\"#FECB52\"],\"font\":{\"color\":\"#2a3f5f\"},\"hovermode\":\"closest\",\"hoverlabel\":{\"align\":\"left\"},\"paper_bgcolor\":\"white\",\"plot_bgcolor\":\"#E5ECF6\",\"polar\":{\"bgcolor\":\"#E5ECF6\",\"angularaxis\":{\"gridcolor\":\"white\",\"linecolor\":\"white\",\"ticks\":\"\"},\"radialaxis\":{\"gridcolor\":\"white\",\"linecolor\":\"white\",\"ticks\":\"\"}},\"ternary\":{\"bgcolor\":\"#E5ECF6\",\"aaxis\":{\"gridcolor\":\"white\",\"linecolor\":\"white\",\"ticks\":\"\"},\"baxis\":{\"gridcolor\":\"white\",\"linecolor\":\"white\",\"ticks\":\"\"},\"caxis\":{\"gridcolor\":\"white\",\"linecolor\":\"white\",\"ticks\":\"\"}},\"coloraxis\":{\"colorbar\":{\"outlinewidth\":0,\"ticks\":\"\"}},\"colorscale\":{\"sequential\":[[0.0,\"#0d0887\"],[0.1111111111111111,\"#46039f\"],[0.2222222222222222,\"#7201a8\"],[0.3333333333333333,\"#9c179e\"],[0.4444444444444444,\"#bd3786\"],[0.5555555555555556,\"#d8576b\"],[0.6666666666666666,\"#ed7953\"],[0.7777777777777778,\"#fb9f3a\"],[0.8888888888888888,\"#fdca26\"],[1.0,\"#f0f921\"]],\"sequentialminus\":[[0.0,\"#0d0887\"],[0.1111111111111111,\"#46039f\"],[0.2222222222222222,\"#7201a8\"],[0.3333333333333333,\"#9c179e\"],[0.4444444444444444,\"#bd3786\"],[0.5555555555555556,\"#d8576b\"],[0.6666666666666666,\"#ed7953\"],[0.7777777777777778,\"#fb9f3a\"],[0.8888888888888888,\"#fdca26\"],[1.0,\"#f0f921\"]],\"diverging\":[[0,\"#8e0152\"],[0.1,\"#c51b7d\"],[0.2,\"#de77ae\"],[0.3,\"#f1b6da\"],[0.4,\"#fde0ef\"],[0.5,\"#f7f7f7\"],[0.6,\"#e6f5d0\"],[0.7,\"#b8e186\"],[0.8,\"#7fbc41\"],[0.9,\"#4d9221\"],[1,\"#276419\"]]},\"xaxis\":{\"gridcolor\":\"white\",\"linecolor\":\"white\",\"ticks\":\"\",\"title\":{\"standoff\":15},\"zerolinecolor\":\"white\",\"automargin\":true,\"zerolinewidth\":2},\"yaxis\":{\"gridcolor\":\"white\",\"linecolor\":\"white\",\"ticks\":\"\",\"title\":{\"standoff\":15},\"zerolinecolor\":\"white\",\"automargin\":true,\"zerolinewidth\":2},\"scene\":{\"xaxis\":{\"backgroundcolor\":\"#E5ECF6\",\"gridcolor\":\"white\",\"linecolor\":\"white\",\"showbackground\":true,\"ticks\":\"\",\"zerolinecolor\":\"white\",\"gridwidth\":2},\"yaxis\":{\"backgroundcolor\":\"#E5ECF6\",\"gridcolor\":\"white\",\"linecolor\":\"white\",\"showbackground\":true,\"ticks\":\"\",\"zerolinecolor\":\"white\",\"gridwidth\":2},\"zaxis\":{\"backgroundcolor\":\"#E5ECF6\",\"gridcolor\":\"white\",\"linecolor\":\"white\",\"showbackground\":true,\"ticks\":\"\",\"zerolinecolor\":\"white\",\"gridwidth\":2}},\"shapedefaults\":{\"line\":{\"color\":\"#2a3f5f\"}},\"annotationdefaults\":{\"arrowcolor\":\"#2a3f5f\",\"arrowhead\":0,\"arrowwidth\":1},\"geo\":{\"bgcolor\":\"white\",\"landcolor\":\"#E5ECF6\",\"subunitcolor\":\"white\",\"showland\":true,\"showlakes\":true,\"lakecolor\":\"white\"},\"title\":{\"x\":0.05},\"mapbox\":{\"style\":\"light\"}}},\"xaxis\":{\"anchor\":\"y\",\"domain\":[0.0,1.0],\"title\":{\"text\":\"length\"}},\"yaxis\":{\"anchor\":\"x\",\"domain\":[0.0,1.0],\"title\":{\"text\":\"width\"}},\"legend\":{\"tracegroupgap\":0},\"margin\":{\"t\":60}},                        {\"responsive\": true}                    )                };                            </script>        </div>\n",
       "</body>\n",
       "</html>"
      ]
     },
     "metadata": {},
     "output_type": "display_data"
    }
   ],
   "source": [
    "\n",
    "# scatter plot\n",
    " \n",
    "psdf = ps.DataFrame([[5.1, 3.5, 0], [4.9, 3.0, 0], [7.0, 3.2, 1],\n",
    "                    [6.4, 3.2, 1], [5.9, 3.0, 2]],\n",
    "                   columns=['length', 'width', 'species'])\n",
    "psdf.plot.scatter(x='length',\n",
    "                  y='width',\n",
    "                  c='species')"
   ]
  },
  {
   "cell_type": "markdown",
   "metadata": {
    "application/vnd.databricks.v1+cell": {
     "cellMetadata": {},
     "inputWidgets": {},
     "nuid": "25056007-023f-4fe2-bf40-205709d6e7d9",
     "showTitle": false,
     "title": ""
    }
   },
   "source": [
    "# Missing Functionalities and Workarounds in pandas API on Spark"
   ]
  },
  {
   "cell_type": "markdown",
   "metadata": {
    "application/vnd.databricks.v1+cell": {
     "cellMetadata": {},
     "inputWidgets": {},
     "nuid": "5a3fd635-e5f4-4e18-a025-f06715f2c193",
     "showTitle": false,
     "title": ""
    }
   },
   "source": [
    "## Directly use pandas APIs through type conversion"
   ]
  },
  {
   "cell_type": "code",
   "execution_count": null,
   "metadata": {
    "application/vnd.databricks.v1+cell": {
     "cellMetadata": {
      "byteLimit": 2048000,
      "rowLimit": 10000
     },
     "inputWidgets": {},
     "nuid": "e741d813-5fd2-4006-9161-15413aafcc14",
     "showTitle": false,
     "title": ""
    }
   },
   "outputs": [
    {
     "data": {
      "text/html": [
       "<div>\n",
       "<style scoped>\n",
       "    .dataframe tbody tr th:only-of-type {\n",
       "        vertical-align: middle;\n",
       "    }\n",
       "\n",
       "    .dataframe tbody tr th {\n",
       "        vertical-align: top;\n",
       "    }\n",
       "\n",
       "    .dataframe thead th {\n",
       "        text-align: right;\n",
       "    }\n",
       "</style>\n",
       "<table border=\"1\" class=\"dataframe\">\n",
       "  <thead>\n",
       "    <tr style=\"text-align: right;\">\n",
       "      <th></th>\n",
       "      <th>length</th>\n",
       "      <th>width</th>\n",
       "      <th>species</th>\n",
       "    </tr>\n",
       "  </thead>\n",
       "  <tbody>\n",
       "    <tr>\n",
       "      <th>0</th>\n",
       "      <td>5.1</td>\n",
       "      <td>3.5</td>\n",
       "      <td>0</td>\n",
       "    </tr>\n",
       "    <tr>\n",
       "      <th>1</th>\n",
       "      <td>4.9</td>\n",
       "      <td>3.0</td>\n",
       "      <td>0</td>\n",
       "    </tr>\n",
       "    <tr>\n",
       "      <th>2</th>\n",
       "      <td>7.0</td>\n",
       "      <td>3.2</td>\n",
       "      <td>1</td>\n",
       "    </tr>\n",
       "    <tr>\n",
       "      <th>3</th>\n",
       "      <td>6.4</td>\n",
       "      <td>3.2</td>\n",
       "      <td>1</td>\n",
       "    </tr>\n",
       "    <tr>\n",
       "      <th>4</th>\n",
       "      <td>5.9</td>\n",
       "      <td>3.0</td>\n",
       "      <td>2</td>\n",
       "    </tr>\n",
       "  </tbody>\n",
       "</table>\n",
       "</div>"
      ],
      "text/plain": [
       "   length  width  species\n",
       "0     5.1    3.5        0\n",
       "1     4.9    3.0        0\n",
       "2     7.0    3.2        1\n",
       "3     6.4    3.2        1\n",
       "4     5.9    3.0        2"
      ]
     },
     "execution_count": 72,
     "metadata": {},
     "output_type": "execute_result"
    }
   ],
   "source": [
    "psdf"
   ]
  },
  {
   "cell_type": "code",
   "execution_count": null,
   "metadata": {
    "application/vnd.databricks.v1+cell": {
     "cellMetadata": {
      "byteLimit": 2048000,
      "rowLimit": 10000
     },
     "inputWidgets": {},
     "nuid": "1d9a1c99-d300-4501-8886-686da4fce4f9",
     "showTitle": false,
     "title": ""
    }
   },
   "outputs": [],
   "source": [
    "psidx = psdf.index"
   ]
  },
  {
   "cell_type": "code",
   "execution_count": null,
   "metadata": {
    "application/vnd.databricks.v1+cell": {
     "cellMetadata": {
      "byteLimit": 2048000,
      "rowLimit": 10000
     },
     "inputWidgets": {},
     "nuid": "0932a035-d320-4fca-8d65-e54fc8eb55d6",
     "showTitle": false,
     "title": ""
    }
   },
   "outputs": [
    {
     "data": {
      "text/plain": [
       "Int64Index([0, 1, 2, 3, 4], dtype='int64')"
      ]
     },
     "execution_count": 74,
     "metadata": {},
     "output_type": "execute_result"
    }
   ],
   "source": [
    "psidx"
   ]
  },
  {
   "cell_type": "code",
   "execution_count": null,
   "metadata": {
    "application/vnd.databricks.v1+cell": {
     "cellMetadata": {
      "byteLimit": 2048000,
      "rowLimit": 10000
     },
     "inputWidgets": {},
     "nuid": "973f7bb2-92d7-43bb-bdff-f0b0388d0455",
     "showTitle": false,
     "title": ""
    }
   },
   "outputs": [
    {
     "data": {
      "text/plain": [
       "pyspark.pandas.indexes.numeric.Int64Index"
      ]
     },
     "execution_count": 75,
     "metadata": {},
     "output_type": "execute_result"
    }
   ],
   "source": [
    "type(psidx)"
   ]
  },
  {
   "cell_type": "code",
   "execution_count": null,
   "metadata": {
    "application/vnd.databricks.v1+cell": {
     "cellMetadata": {
      "byteLimit": 2048000,
      "rowLimit": 10000
     },
     "inputWidgets": {},
     "nuid": "71dfb879-85ec-4e57-97a5-bacbe4bc35c6",
     "showTitle": false,
     "title": ""
    }
   },
   "outputs": [],
   "source": [
    "index_list = psidx.to_list()"
   ]
  },
  {
   "cell_type": "code",
   "execution_count": null,
   "metadata": {
    "application/vnd.databricks.v1+cell": {
     "cellMetadata": {
      "byteLimit": 2048000,
      "rowLimit": 10000
     },
     "inputWidgets": {},
     "nuid": "083497b9-df7d-48aa-9ca8-a36165083759",
     "showTitle": false,
     "title": ""
    }
   },
   "outputs": [
    {
     "data": {
      "text/plain": [
       "[0, 1, 2, 3, 4]"
      ]
     },
     "execution_count": 77,
     "metadata": {},
     "output_type": "execute_result"
    }
   ],
   "source": [
    "index_list"
   ]
  },
  {
   "cell_type": "markdown",
   "metadata": {
    "application/vnd.databricks.v1+cell": {
     "cellMetadata": {
      "byteLimit": 2048000,
      "rowLimit": 10000
     },
     "inputWidgets": {},
     "nuid": "9e75d17b-8a45-4503-944c-8892e7b9a96d",
     "showTitle": false,
     "title": ""
    }
   },
   "source": [
    "## Native Support for pandas Objects"
   ]
  },
  {
   "cell_type": "code",
   "execution_count": null,
   "metadata": {
    "application/vnd.databricks.v1+cell": {
     "cellMetadata": {
      "byteLimit": 2048000,
      "rowLimit": 10000
     },
     "inputWidgets": {},
     "nuid": "63bc2346-e7f2-4e96-8d90-7748a3e7751d",
     "showTitle": false,
     "title": ""
    }
   },
   "outputs": [],
   "source": [
    "psdf = ps.DataFrame({'A': 1.,\n",
    "                     'B': pd.Timestamp('20130102'),\n",
    "                     'C': pd.Series(1, index=list(range(4)), dtype='float32'),\n",
    "                     'D': np.array([3] * 4, dtype='int32'),\n",
    "                     'F': 'foo'})"
   ]
  },
  {
   "cell_type": "code",
   "execution_count": null,
   "metadata": {
    "application/vnd.databricks.v1+cell": {
     "cellMetadata": {
      "byteLimit": 2048000,
      "rowLimit": 10000
     },
     "inputWidgets": {},
     "nuid": "3a39173b-67f1-4d23-a2ec-c78403b17a14",
     "showTitle": false,
     "title": ""
    }
   },
   "outputs": [
    {
     "data": {
      "text/html": [
       "<div>\n",
       "<style scoped>\n",
       "    .dataframe tbody tr th:only-of-type {\n",
       "        vertical-align: middle;\n",
       "    }\n",
       "\n",
       "    .dataframe tbody tr th {\n",
       "        vertical-align: top;\n",
       "    }\n",
       "\n",
       "    .dataframe thead th {\n",
       "        text-align: right;\n",
       "    }\n",
       "</style>\n",
       "<table border=\"1\" class=\"dataframe\">\n",
       "  <thead>\n",
       "    <tr style=\"text-align: right;\">\n",
       "      <th></th>\n",
       "      <th>A</th>\n",
       "      <th>B</th>\n",
       "      <th>C</th>\n",
       "      <th>D</th>\n",
       "      <th>F</th>\n",
       "    </tr>\n",
       "  </thead>\n",
       "  <tbody>\n",
       "    <tr>\n",
       "      <th>0</th>\n",
       "      <td>1.0</td>\n",
       "      <td>2013-01-02</td>\n",
       "      <td>1.0</td>\n",
       "      <td>3</td>\n",
       "      <td>foo</td>\n",
       "    </tr>\n",
       "    <tr>\n",
       "      <th>1</th>\n",
       "      <td>1.0</td>\n",
       "      <td>2013-01-02</td>\n",
       "      <td>1.0</td>\n",
       "      <td>3</td>\n",
       "      <td>foo</td>\n",
       "    </tr>\n",
       "    <tr>\n",
       "      <th>2</th>\n",
       "      <td>1.0</td>\n",
       "      <td>2013-01-02</td>\n",
       "      <td>1.0</td>\n",
       "      <td>3</td>\n",
       "      <td>foo</td>\n",
       "    </tr>\n",
       "    <tr>\n",
       "      <th>3</th>\n",
       "      <td>1.0</td>\n",
       "      <td>2013-01-02</td>\n",
       "      <td>1.0</td>\n",
       "      <td>3</td>\n",
       "      <td>foo</td>\n",
       "    </tr>\n",
       "  </tbody>\n",
       "</table>\n",
       "</div>"
      ],
      "text/plain": [
       "     A          B    C  D    F\n",
       "0  1.0 2013-01-02  1.0  3  foo\n",
       "1  1.0 2013-01-02  1.0  3  foo\n",
       "2  1.0 2013-01-02  1.0  3  foo\n",
       "3  1.0 2013-01-02  1.0  3  foo"
      ]
     },
     "execution_count": 83,
     "metadata": {},
     "output_type": "execute_result"
    }
   ],
   "source": [
    "psdf"
   ]
  },
  {
   "cell_type": "markdown",
   "metadata": {
    "application/vnd.databricks.v1+cell": {
     "cellMetadata": {},
     "inputWidgets": {},
     "nuid": "4c872c1a-a0b0-42e8-88aa-d4d85978fd72",
     "showTitle": false,
     "title": ""
    }
   },
   "source": [
    "## Distributed execution for pandas functions"
   ]
  },
  {
   "cell_type": "code",
   "execution_count": null,
   "metadata": {
    "application/vnd.databricks.v1+cell": {
     "cellMetadata": {
      "byteLimit": 2048000,
      "rowLimit": 10000
     },
     "inputWidgets": {},
     "nuid": "3ed52ba3-ca17-4fc0-aa9c-056326d79e8f",
     "showTitle": false,
     "title": ""
    }
   },
   "outputs": [],
   "source": [
    "i = pd.date_range('2018-04-09', periods=2000, freq='1D1min')\n",
    "ts = ps.DataFrame({'A': ['timestamp']}, index=i)"
   ]
  },
  {
   "cell_type": "code",
   "execution_count": null,
   "metadata": {
    "application/vnd.databricks.v1+cell": {
     "cellMetadata": {
      "byteLimit": 2048000,
      "rowLimit": 10000
     },
     "inputWidgets": {},
     "nuid": "6b53bcc3-24d9-44f1-89ef-752f07b1a9f9",
     "showTitle": false,
     "title": ""
    }
   },
   "outputs": [
    {
     "name": "stdout",
     "output_type": "stream",
     "text": [
      "                             A\n",
      "2018-04-09 00:00:00  timestamp\n",
      "2018-04-10 00:01:00  timestamp\n",
      "2018-04-11 00:02:00  timestamp\n",
      "2018-04-12 00:03:00  timestamp\n",
      "2018-04-13 00:04:00  timestamp\n",
      "2018-04-14 00:05:00  timestamp\n",
      "2018-04-15 00:06:00  timestamp\n",
      "2018-04-16 00:07:00  timestamp\n",
      "2018-04-17 00:08:00  timestamp\n",
      "2018-04-18 00:09:00  timestamp\n",
      "2018-04-19 00:10:00  timestamp\n",
      "2018-04-20 00:11:00  timestamp\n",
      "2018-04-21 00:12:00  timestamp\n",
      "2018-04-22 00:13:00  timestamp\n",
      "2018-04-23 00:14:00  timestamp\n",
      "2018-04-24 00:15:00  timestamp\n",
      "2018-04-25 00:16:00  timestamp\n",
      "2018-04-26 00:17:00  timestamp\n",
      "2018-04-27 00:18:00  timestamp\n",
      "2018-04-28 00:19:00  timestamp\n",
      "2018-04-29 00:20:00  timestamp\n",
      "2018-04-30 00:21:00  timestamp\n",
      "2018-05-01 00:22:00  timestamp\n",
      "2018-05-02 00:23:00  timestamp\n",
      "2018-05-03 00:24:00  timestamp\n",
      "2018-05-04 00:25:00  timestamp\n",
      "2018-05-05 00:26:00  timestamp\n",
      "2018-05-06 00:27:00  timestamp\n",
      "2018-05-07 00:28:00  timestamp\n",
      "2018-05-08 00:29:00  timestamp\n",
      "2018-05-09 00:30:00  timestamp\n",
      "2018-05-10 00:31:00  timestamp\n",
      "2018-05-11 00:32:00  timestamp\n",
      "2018-05-12 00:33:00  timestamp\n",
      "2018-05-13 00:34:00  timestamp\n",
      "2018-05-14 00:35:00  timestamp\n",
      "2018-05-15 00:36:00  timestamp\n",
      "2018-05-16 00:37:00  timestamp\n",
      "2018-05-17 00:38:00  timestamp\n",
      "2018-05-18 00:39:00  timestamp\n",
      "2018-05-19 00:40:00  timestamp\n",
      "2018-05-20 00:41:00  timestamp\n",
      "2018-05-21 00:42:00  timestamp\n",
      "2018-05-22 00:43:00  timestamp\n",
      "2018-05-23 00:44:00  timestamp\n",
      "2018-05-24 00:45:00  timestamp\n",
      "2018-05-25 00:46:00  timestamp\n",
      "2018-05-26 00:47:00  timestamp\n",
      "2018-05-27 00:48:00  timestamp\n",
      "2018-05-28 00:49:00  timestamp\n",
      "2018-05-29 00:50:00  timestamp\n",
      "2018-05-30 00:51:00  timestamp\n",
      "2018-05-31 00:52:00  timestamp\n",
      "2018-06-01 00:53:00  timestamp\n",
      "2018-06-02 00:54:00  timestamp\n",
      "2018-06-03 00:55:00  timestamp\n",
      "2018-06-04 00:56:00  timestamp\n",
      "2018-06-05 00:57:00  timestamp\n",
      "2018-06-06 00:58:00  timestamp\n",
      "2018-06-07 00:59:00  timestamp\n",
      "2018-06-08 01:00:00  timestamp\n",
      "2018-06-09 01:01:00  timestamp\n",
      "2018-06-10 01:02:00  timestamp\n",
      "2018-06-11 01:03:00  timestamp\n",
      "2018-06-12 01:04:00  timestamp\n",
      "2018-06-13 01:05:00  timestamp\n",
      "2018-06-14 01:06:00  timestamp\n",
      "2018-06-15 01:07:00  timestamp\n",
      "2018-06-16 01:08:00  timestamp\n",
      "2018-06-17 01:09:00  timestamp\n",
      "2018-06-18 01:10:00  timestamp\n",
      "2018-06-19 01:11:00  timestamp\n",
      "2018-06-20 01:12:00  timestamp\n",
      "2018-06-21 01:13:00  timestamp\n",
      "2018-06-22 01:14:00  timestamp\n",
      "2018-06-23 01:15:00  timestamp\n",
      "2018-06-24 01:16:00  timestamp\n",
      "2018-06-25 01:17:00  timestamp\n",
      "2018-06-26 01:18:00  timestamp\n",
      "2018-06-27 01:19:00  timestamp\n",
      "2018-06-28 01:20:00  timestamp\n",
      "2018-06-29 01:21:00  timestamp\n",
      "2018-06-30 01:22:00  timestamp\n",
      "2018-07-01 01:23:00  timestamp\n",
      "2018-07-02 01:24:00  timestamp\n",
      "2018-07-03 01:25:00  timestamp\n",
      "2018-07-04 01:26:00  timestamp\n",
      "2018-07-05 01:27:00  timestamp\n",
      "2018-07-06 01:28:00  timestamp\n",
      "2018-07-07 01:29:00  timestamp\n",
      "2018-07-08 01:30:00  timestamp\n",
      "2018-07-09 01:31:00  timestamp\n",
      "2018-07-10 01:32:00  timestamp\n",
      "2018-07-11 01:33:00  timestamp\n",
      "2018-07-12 01:34:00  timestamp\n",
      "2018-07-13 01:35:00  timestamp\n",
      "2018-07-14 01:36:00  timestamp\n",
      "2018-07-15 01:37:00  timestamp\n",
      "2018-07-16 01:38:00  timestamp\n",
      "2018-07-17 01:39:00  timestamp\n",
      "2018-07-18 01:40:00  timestamp\n",
      "2018-07-19 01:41:00  timestamp\n",
      "2018-07-20 01:42:00  timestamp\n",
      "2018-07-21 01:43:00  timestamp\n",
      "2018-07-22 01:44:00  timestamp\n",
      "2018-07-23 01:45:00  timestamp\n",
      "2018-07-24 01:46:00  timestamp\n",
      "2018-07-25 01:47:00  timestamp\n",
      "2018-07-26 01:48:00  timestamp\n",
      "2018-07-27 01:49:00  timestamp\n",
      "2018-07-28 01:50:00  timestamp\n",
      "2018-07-29 01:51:00  timestamp\n",
      "2018-07-30 01:52:00  timestamp\n",
      "2018-07-31 01:53:00  timestamp\n",
      "2018-08-01 01:54:00  timestamp\n",
      "2018-08-02 01:55:00  timestamp\n",
      "2018-08-03 01:56:00  timestamp\n",
      "2018-08-04 01:57:00  timestamp\n",
      "2018-08-05 01:58:00  timestamp\n",
      "2018-08-06 01:59:00  timestamp\n",
      "2018-08-07 02:00:00  timestamp\n",
      "2018-08-08 02:01:00  timestamp\n",
      "2018-08-09 02:02:00  timestamp\n",
      "2018-08-10 02:03:00  timestamp\n",
      "2018-08-11 02:04:00  timestamp\n",
      "2018-08-12 02:05:00  timestamp\n",
      "2018-08-13 02:06:00  timestamp\n",
      "2018-08-14 02:07:00  timestamp\n",
      "2018-08-15 02:08:00  timestamp\n",
      "2018-08-16 02:09:00  timestamp\n",
      "2018-08-17 02:10:00  timestamp\n",
      "2018-08-18 02:11:00  timestamp\n",
      "2018-08-19 02:12:00  timestamp\n",
      "2018-08-20 02:13:00  timestamp\n",
      "2018-08-21 02:14:00  timestamp\n",
      "2018-08-22 02:15:00  timestamp\n",
      "2018-08-23 02:16:00  timestamp\n",
      "2018-08-24 02:17:00  timestamp\n",
      "2018-08-25 02:18:00  timestamp\n",
      "2018-08-26 02:19:00  timestamp\n",
      "2018-08-27 02:20:00  timestamp\n",
      "2018-08-28 02:21:00  timestamp\n",
      "2018-08-29 02:22:00  timestamp\n",
      "2018-08-30 02:23:00  timestamp\n",
      "2018-08-31 02:24:00  timestamp\n",
      "2018-09-01 02:25:00  timestamp\n",
      "2018-09-02 02:26:00  timestamp\n",
      "2018-09-03 02:27:00  timestamp\n",
      "2018-09-04 02:28:00  timestamp\n",
      "2018-09-05 02:29:00  timestamp\n",
      "2018-09-06 02:30:00  timestamp\n",
      "2018-09-07 02:31:00  timestamp\n",
      "2018-09-08 02:32:00  timestamp\n",
      "2018-09-09 02:33:00  timestamp\n",
      "2018-09-10 02:34:00  timestamp\n",
      "2018-09-11 02:35:00  timestamp\n",
      "2018-09-12 02:36:00  timestamp\n",
      "2018-09-13 02:37:00  timestamp\n",
      "2018-09-14 02:38:00  timestamp\n",
      "2018-09-15 02:39:00  timestamp\n",
      "2018-09-16 02:40:00  timestamp\n",
      "2018-09-17 02:41:00  timestamp\n",
      "2018-09-18 02:42:00  timestamp\n",
      "2018-09-19 02:43:00  timestamp\n",
      "2018-09-20 02:44:00  timestamp\n",
      "2018-09-21 02:45:00  timestamp\n",
      "2018-09-22 02:46:00  timestamp\n",
      "2018-09-23 02:47:00  timestamp\n",
      "2018-09-24 02:48:00  timestamp\n",
      "2018-09-25 02:49:00  timestamp\n",
      "2018-09-26 02:50:00  timestamp\n",
      "2018-09-27 02:51:00  timestamp\n",
      "2018-09-28 02:52:00  timestamp\n",
      "2018-09-29 02:53:00  timestamp\n",
      "2018-09-30 02:54:00  timestamp\n",
      "2018-10-01 02:55:00  timestamp\n",
      "2018-10-02 02:56:00  timestamp\n",
      "2018-10-03 02:57:00  timestamp\n",
      "2018-10-04 02:58:00  timestamp\n",
      "2018-10-05 02:59:00  timestamp\n",
      "2018-10-06 03:00:00  timestamp\n",
      "2018-10-07 03:01:00  timestamp\n",
      "2018-10-08 03:02:00  timestamp\n",
      "2018-10-09 03:03:00  timestamp\n",
      "2018-10-10 03:04:00  timestamp\n",
      "2018-10-11 03:05:00  timestamp\n",
      "2018-10-12 03:06:00  timestamp\n",
      "2018-10-13 03:07:00  timestamp\n",
      "2018-10-14 03:08:00  timestamp\n",
      "2018-10-15 03:09:00  timestamp\n",
      "2018-10-16 03:10:00  timestamp\n",
      "2018-10-17 03:11:00  timestamp\n",
      "2018-10-18 03:12:00  timestamp\n",
      "2018-10-19 03:13:00  timestamp\n",
      "2018-10-20 03:14:00  timestamp\n",
      "2018-10-21 03:15:00  timestamp\n",
      "2018-10-22 03:16:00  timestamp\n",
      "2018-10-23 03:17:00  timestamp\n",
      "2018-10-24 03:18:00  timestamp\n",
      "2018-10-25 03:19:00  timestamp\n",
      "2018-10-26 03:20:00  timestamp\n",
      "2018-10-27 03:21:00  timestamp\n",
      "2018-10-28 03:22:00  timestamp\n",
      "2018-10-29 03:23:00  timestamp\n",
      "2018-10-30 03:24:00  timestamp\n",
      "2018-10-31 03:25:00  timestamp\n",
      "2018-11-01 03:26:00  timestamp\n",
      "2018-11-02 03:27:00  timestamp\n",
      "2018-11-03 03:28:00  timestamp\n",
      "2018-11-04 03:29:00  timestamp\n",
      "2018-11-05 03:30:00  timestamp\n",
      "2018-11-06 03:31:00  timestamp\n",
      "2018-11-07 03:32:00  timestamp\n",
      "2018-11-08 03:33:00  timestamp\n",
      "2018-11-09 03:34:00  timestamp\n",
      "2018-11-10 03:35:00  timestamp\n",
      "2018-11-11 03:36:00  timestamp\n",
      "2018-11-12 03:37:00  timestamp\n",
      "2018-11-13 03:38:00  timestamp\n",
      "2018-11-14 03:39:00  timestamp\n",
      "2018-11-15 03:40:00  timestamp\n",
      "2018-11-16 03:41:00  timestamp\n",
      "2018-11-17 03:42:00  timestamp\n",
      "2018-11-18 03:43:00  timestamp\n",
      "2018-11-19 03:44:00  timestamp\n",
      "2018-11-20 03:45:00  timestamp\n",
      "2018-11-21 03:46:00  timestamp\n",
      "2018-11-22 03:47:00  timestamp\n",
      "2018-11-23 03:48:00  timestamp\n",
      "2018-11-24 03:49:00  timestamp\n",
      "2018-11-25 03:50:00  timestamp\n",
      "2018-11-26 03:51:00  timestamp\n",
      "2018-11-27 03:52:00  timestamp\n",
      "2018-11-28 03:53:00  timestamp\n",
      "2018-11-29 03:54:00  timestamp\n",
      "2018-11-30 03:55:00  timestamp\n",
      "2018-12-01 03:56:00  timestamp\n",
      "2018-12-02 03:57:00  timestamp\n",
      "2018-12-03 03:58:00  timestamp\n",
      "2018-12-04 03:59:00  timestamp\n",
      "2018-12-05 04:00:00  timestamp\n",
      "2018-12-06 04:01:00  timestamp\n",
      "2018-12-07 04:02:00  timestamp\n",
      "2018-12-08 04:03:00  timestamp\n",
      "2018-12-09 04:04:00  timestamp\n",
      "2018-12-10 04:05:00  timestamp\n",
      "2018-12-11 04:06:00  timestamp\n",
      "2018-12-12 04:07:00  timestamp\n",
      "2018-12-13 04:08:00  timestamp\n",
      "2018-12-14 04:09:00  timestamp\n",
      "2018-12-15 04:10:00  timestamp\n",
      "2018-12-16 04:11:00  timestamp\n",
      "2018-12-17 04:12:00  timestamp\n",
      "2018-12-18 04:13:00  timestamp\n",
      "2018-12-19 04:14:00  timestamp\n",
      "2018-12-20 04:15:00  timestamp\n",
      "2018-12-21 04:16:00  timestamp\n",
      "2018-12-22 04:17:00  timestamp\n",
      "2018-12-23 04:18:00  timestamp\n",
      "2018-12-24 04:19:00  timestamp\n",
      "2018-12-25 04:20:00  timestamp\n",
      "2018-12-26 04:21:00  timestamp\n",
      "2018-12-27 04:22:00  timestamp\n",
      "2018-12-28 04:23:00  timestamp\n",
      "2018-12-29 04:24:00  timestamp\n",
      "2018-12-30 04:25:00  timestamp\n",
      "2018-12-31 04:26:00  timestamp\n",
      "2019-01-01 04:27:00  timestamp\n",
      "2019-01-02 04:28:00  timestamp\n",
      "2019-01-03 04:29:00  timestamp\n",
      "2019-01-04 04:30:00  timestamp\n",
      "2019-01-05 04:31:00  timestamp\n",
      "2019-01-06 04:32:00  timestamp\n",
      "2019-01-07 04:33:00  timestamp\n",
      "2019-01-08 04:34:00  timestamp\n",
      "2019-01-09 04:35:00  timestamp\n",
      "2019-01-10 04:36:00  timestamp\n",
      "2019-01-11 04:37:00  timestamp\n",
      "2019-01-12 04:38:00  timestamp\n",
      "2019-01-13 04:39:00  timestamp\n",
      "2019-01-14 04:40:00  timestamp\n",
      "2019-01-15 04:41:00  timestamp\n",
      "2019-01-16 04:42:00  timestamp\n",
      "2019-01-17 04:43:00  timestamp\n",
      "2019-01-18 04:44:00  timestamp\n",
      "2019-01-19 04:45:00  timestamp\n",
      "2019-01-20 04:46:00  timestamp\n",
      "2019-01-21 04:47:00  timestamp\n",
      "2019-01-22 04:48:00  timestamp\n",
      "2019-01-23 04:49:00  timestamp\n",
      "2019-01-24 04:50:00  timestamp\n",
      "2019-01-25 04:51:00  timestamp\n",
      "2019-01-26 04:52:00  timestamp\n",
      "2019-01-27 04:53:00  timestamp\n",
      "2019-01-28 04:54:00  timestamp\n",
      "2019-01-29 04:55:00  timestamp\n",
      "2019-01-30 04:56:00  timestamp\n",
      "2019-01-31 04:57:00  timestamp\n",
      "2019-02-01 04:58:00  timestamp\n",
      "2019-02-02 04:59:00  timestamp\n",
      "2019-02-03 05:00:00  timestamp\n",
      "2019-02-04 05:01:00  timestamp\n",
      "2019-02-05 05:02:00  timestamp\n",
      "2019-02-06 05:03:00  timestamp\n",
      "2019-02-07 05:04:00  timestamp\n",
      "2019-02-08 05:05:00  timestamp\n",
      "2019-02-09 05:06:00  timestamp\n",
      "2019-02-10 05:07:00  timestamp\n",
      "2019-02-11 05:08:00  timestamp\n",
      "2019-02-12 05:09:00  timestamp\n",
      "2019-02-13 05:10:00  timestamp\n",
      "2019-02-14 05:11:00  timestamp\n",
      "2019-02-15 05:12:00  timestamp\n",
      "2019-02-16 05:13:00  timestamp\n",
      "2019-02-17 05:14:00  timestamp\n",
      "2019-02-18 05:15:00  timestamp\n",
      "2019-02-19 05:16:00  timestamp\n",
      "2019-02-20 05:17:00  timestamp\n",
      "2019-02-21 05:18:00  timestamp\n",
      "2019-02-22 05:19:00  timestamp\n",
      "2019-02-23 05:20:00  timestamp\n",
      "2019-02-24 05:21:00  timestamp\n",
      "2019-02-25 05:22:00  timestamp\n",
      "2019-02-26 05:23:00  timestamp\n",
      "2019-02-27 05:24:00  timestamp\n",
      "2019-02-28 05:25:00  timestamp\n",
      "2019-03-01 05:26:00  timestamp\n",
      "2019-03-02 05:27:00  timestamp\n",
      "2019-03-03 05:28:00  timestamp\n",
      "2019-03-04 05:29:00  timestamp\n",
      "2019-03-05 05:30:00  timestamp\n",
      "2019-03-06 05:31:00  timestamp\n",
      "2019-03-07 05:32:00  timestamp\n",
      "2019-03-08 05:33:00  timestamp\n",
      "2019-03-09 05:34:00  timestamp\n",
      "2019-03-10 05:35:00  timestamp\n",
      "2019-03-11 05:36:00  timestamp\n",
      "2019-03-12 05:37:00  timestamp\n",
      "2019-03-13 05:38:00  timestamp\n",
      "2019-03-14 05:39:00  timestamp\n",
      "2019-03-15 05:40:00  timestamp\n",
      "2019-03-16 05:41:00  timestamp\n",
      "2019-03-17 05:42:00  timestamp\n",
      "2019-03-18 05:43:00  timestamp\n",
      "2019-03-19 05:44:00  timestamp\n",
      "2019-03-20 05:45:00  timestamp\n",
      "2019-03-21 05:46:00  timestamp\n",
      "2019-03-22 05:47:00  timestamp\n",
      "2019-03-23 05:48:00  timestamp\n",
      "2019-03-24 05:49:00  timestamp\n",
      "2019-03-25 05:50:00  timestamp\n",
      "2019-03-26 05:51:00  timestamp\n",
      "2019-03-27 05:52:00  timestamp\n",
      "2019-03-28 05:53:00  timestamp\n",
      "2019-03-29 05:54:00  timestamp\n",
      "2019-03-30 05:55:00  timestamp\n",
      "2019-03-31 05:56:00  timestamp\n",
      "2019-04-01 05:57:00  timestamp\n",
      "2019-04-02 05:58:00  timestamp\n",
      "2019-04-03 05:59:00  timestamp\n",
      "2019-04-04 06:00:00  timestamp\n",
      "2019-04-05 06:01:00  timestamp\n",
      "2019-04-06 06:02:00  timestamp\n",
      "2019-04-07 06:03:00  timestamp\n",
      "2019-04-08 06:04:00  timestamp\n",
      "2019-04-09 06:05:00  timestamp\n",
      "2019-04-10 06:06:00  timestamp\n",
      "2019-04-11 06:07:00  timestamp\n",
      "2019-04-12 06:08:00  timestamp\n",
      "2019-04-13 06:09:00  timestamp\n",
      "2019-04-14 06:10:00  timestamp\n",
      "2019-04-15 06:11:00  timestamp\n",
      "2019-04-16 06:12:00  timestamp\n",
      "2019-04-17 06:13:00  timestamp\n",
      "2019-04-18 06:14:00  timestamp\n",
      "2019-04-19 06:15:00  timestamp\n",
      "2019-04-20 06:16:00  timestamp\n",
      "2019-04-21 06:17:00  timestamp\n",
      "2019-04-22 06:18:00  timestamp\n",
      "2019-04-23 06:19:00  timestamp\n",
      "2019-04-24 06:20:00  timestamp\n",
      "2019-04-25 06:21:00  timestamp\n",
      "2019-04-26 06:22:00  timestamp\n",
      "2019-04-27 06:23:00  timestamp\n",
      "2019-04-28 06:24:00  timestamp\n",
      "2019-04-29 06:25:00  timestamp\n",
      "2019-04-30 06:26:00  timestamp\n",
      "2019-05-01 06:27:00  timestamp\n",
      "2019-05-02 06:28:00  timestamp\n",
      "2019-05-03 06:29:00  timestamp\n",
      "2019-05-04 06:30:00  timestamp\n",
      "2019-05-05 06:31:00  timestamp\n",
      "2019-05-06 06:32:00  timestamp\n",
      "2019-05-07 06:33:00  timestamp\n",
      "2019-05-08 06:34:00  timestamp\n",
      "2019-05-09 06:35:00  timestamp\n",
      "2019-05-10 06:36:00  timestamp\n",
      "2019-05-11 06:37:00  timestamp\n",
      "2019-05-12 06:38:00  timestamp\n",
      "2019-05-13 06:39:00  timestamp\n",
      "2019-05-14 06:40:00  timestamp\n",
      "2019-05-15 06:41:00  timestamp\n",
      "2019-05-16 06:42:00  timestamp\n",
      "2019-05-17 06:43:00  timestamp\n",
      "2019-05-18 06:44:00  timestamp\n",
      "2019-05-19 06:45:00  timestamp\n",
      "2019-05-20 06:46:00  timestamp\n",
      "2019-05-21 06:47:00  timestamp\n",
      "2019-05-22 06:48:00  timestamp\n",
      "2019-05-23 06:49:00  timestamp\n",
      "2019-05-24 06:50:00  timestamp\n",
      "2019-05-25 06:51:00  timestamp\n",
      "2019-05-26 06:52:00  timestamp\n",
      "2019-05-27 06:53:00  timestamp\n",
      "2019-05-28 06:54:00  timestamp\n",
      "2019-05-29 06:55:00  timestamp\n",
      "2019-05-30 06:56:00  timestamp\n",
      "2019-05-31 06:57:00  timestamp\n",
      "2019-06-01 06:58:00  timestamp\n",
      "2019-06-02 06:59:00  timestamp\n",
      "2019-06-03 07:00:00  timestamp\n",
      "2019-06-04 07:01:00  timestamp\n",
      "2019-06-05 07:02:00  timestamp\n",
      "2019-06-06 07:03:00  timestamp\n",
      "2019-06-07 07:04:00  timestamp\n",
      "2019-06-08 07:05:00  timestamp\n",
      "2019-06-09 07:06:00  timestamp\n",
      "2019-06-10 07:07:00  timestamp\n",
      "2019-06-11 07:08:00  timestamp\n",
      "2019-06-12 07:09:00  timestamp\n",
      "2019-06-13 07:10:00  timestamp\n",
      "2019-06-14 07:11:00  timestamp\n",
      "2019-06-15 07:12:00  timestamp\n",
      "2019-06-16 07:13:00  timestamp\n",
      "2019-06-17 07:14:00  timestamp\n",
      "2019-06-18 07:15:00  timestamp\n",
      "2019-06-19 07:16:00  timestamp\n",
      "2019-06-20 07:17:00  timestamp\n",
      "2019-06-21 07:18:00  timestamp\n",
      "2019-06-22 07:19:00  timestamp\n",
      "2019-06-23 07:20:00  timestamp\n",
      "2019-06-24 07:21:00  timestamp\n",
      "2019-06-25 07:22:00  timestamp\n",
      "2019-06-26 07:23:00  timestamp\n",
      "2019-06-27 07:24:00  timestamp\n",
      "2019-06-28 07:25:00  timestamp\n",
      "2019-06-29 07:26:00  timestamp\n",
      "2019-06-30 07:27:00  timestamp\n",
      "2019-07-01 07:28:00  timestamp\n",
      "2019-07-02 07:29:00  timestamp\n",
      "2019-07-03 07:30:00  timestamp\n",
      "2019-07-04 07:31:00  timestamp\n",
      "2019-07-05 07:32:00  timestamp\n",
      "2019-07-06 07:33:00  timestamp\n",
      "2019-07-07 07:34:00  timestamp\n",
      "2019-07-08 07:35:00  timestamp\n",
      "2019-07-09 07:36:00  timestamp\n",
      "2019-07-10 07:37:00  timestamp\n",
      "2019-07-11 07:38:00  timestamp\n",
      "2019-07-12 07:39:00  timestamp\n",
      "2019-07-13 07:40:00  timestamp\n",
      "2019-07-14 07:41:00  timestamp\n",
      "2019-07-15 07:42:00  timestamp\n",
      "2019-07-16 07:43:00  timestamp\n",
      "2019-07-17 07:44:00  timestamp\n",
      "2019-07-18 07:45:00  timestamp\n",
      "2019-07-19 07:46:00  timestamp\n",
      "2019-07-20 07:47:00  timestamp\n",
      "2019-07-21 07:48:00  timestamp\n",
      "2019-07-22 07:49:00  timestamp\n",
      "2019-07-23 07:50:00  timestamp\n",
      "2019-07-24 07:51:00  timestamp\n",
      "2019-07-25 07:52:00  timestamp\n",
      "2019-07-26 07:53:00  timestamp\n",
      "2019-07-27 07:54:00  timestamp\n",
      "2019-07-28 07:55:00  timestamp\n",
      "2019-07-29 07:56:00  timestamp\n",
      "2019-07-30 07:57:00  timestamp\n",
      "2019-07-31 07:58:00  timestamp\n",
      "2019-08-01 07:59:00  timestamp\n",
      "2019-08-02 08:00:00  timestamp\n",
      "2019-08-03 08:01:00  timestamp\n",
      "2019-08-04 08:02:00  timestamp\n",
      "2019-08-05 08:03:00  timestamp\n",
      "2019-08-06 08:04:00  timestamp\n",
      "2019-08-07 08:05:00  timestamp\n",
      "2019-08-08 08:06:00  timestamp\n",
      "2019-08-09 08:07:00  timestamp\n",
      "2019-08-10 08:08:00  timestamp\n",
      "2019-08-11 08:09:00  timestamp\n",
      "2019-08-12 08:10:00  timestamp\n",
      "2019-08-13 08:11:00  timestamp\n",
      "2019-08-14 08:12:00  timestamp\n",
      "2019-08-15 08:13:00  timestamp\n",
      "2019-08-16 08:14:00  timestamp\n",
      "2019-08-17 08:15:00  timestamp\n",
      "2019-08-18 08:16:00  timestamp\n",
      "2019-08-19 08:17:00  timestamp\n",
      "2019-08-20 08:18:00  timestamp\n",
      "2019-08-21 08:19:00  timestamp\n",
      "2019-08-22 08:20:00  timestamp\n",
      "2019-08-23 08:21:00  timestamp\n",
      "2019-08-24 08:22:00  timestamp\n",
      "2019-08-25 08:23:00  timestamp\n",
      "2019-08-26 08:24:00  timestamp\n",
      "2019-08-27 08:25:00  timestamp\n",
      "2019-08-28 08:26:00  timestamp\n",
      "2019-08-29 08:27:00  timestamp\n",
      "2019-08-30 08:28:00  timestamp\n",
      "2019-08-31 08:29:00  timestamp\n",
      "2019-09-01 08:30:00  timestamp\n",
      "2019-09-02 08:31:00  timestamp\n",
      "2019-09-03 08:32:00  timestamp\n",
      "2019-09-04 08:33:00  timestamp\n",
      "2019-09-05 08:34:00  timestamp\n",
      "2019-09-06 08:35:00  timestamp\n",
      "2019-09-07 08:36:00  timestamp\n",
      "2019-09-08 08:37:00  timestamp\n",
      "2019-09-09 08:38:00  timestamp\n",
      "2019-09-10 08:39:00  timestamp\n",
      "2019-09-11 08:40:00  timestamp\n",
      "2019-09-12 08:41:00  timestamp\n",
      "2019-09-13 08:42:00  timestamp\n",
      "2019-09-14 08:43:00  timestamp\n",
      "2019-09-15 08:44:00  timestamp\n",
      "2019-09-16 08:45:00  timestamp\n",
      "2019-09-17 08:46:00  timestamp\n",
      "2019-09-18 08:47:00  timestamp\n",
      "2019-09-19 08:48:00  timestamp\n",
      "2019-09-20 08:49:00  timestamp\n",
      "2019-09-21 08:50:00  timestamp\n",
      "2019-09-22 08:51:00  timestamp\n",
      "2019-09-23 08:52:00  timestamp\n",
      "2019-09-24 08:53:00  timestamp\n",
      "2019-09-25 08:54:00  timestamp\n",
      "2019-09-26 08:55:00  timestamp\n",
      "2019-09-27 08:56:00  timestamp\n",
      "2019-09-28 08:57:00  timestamp\n",
      "2019-09-29 08:58:00  timestamp\n",
      "2019-09-30 08:59:00  timestamp\n",
      "2019-10-01 09:00:00  timestamp\n",
      "2019-10-02 09:01:00  timestamp\n",
      "2019-10-03 09:02:00  timestamp\n",
      "2019-10-04 09:03:00  timestamp\n",
      "2019-10-05 09:04:00  timestamp\n",
      "2019-10-06 09:05:00  timestamp\n",
      "2019-10-07 09:06:00  timestamp\n",
      "2019-10-08 09:07:00  timestamp\n",
      "2019-10-09 09:08:00  timestamp\n",
      "2019-10-10 09:09:00  timestamp\n",
      "2019-10-11 09:10:00  timestamp\n",
      "2019-10-12 09:11:00  timestamp\n",
      "2019-10-13 09:12:00  timestamp\n",
      "2019-10-14 09:13:00  timestamp\n",
      "2019-10-15 09:14:00  timestamp\n",
      "2019-10-16 09:15:00  timestamp\n",
      "2019-10-17 09:16:00  timestamp\n",
      "2019-10-18 09:17:00  timestamp\n",
      "2019-10-19 09:18:00  timestamp\n",
      "2019-10-20 09:19:00  timestamp\n",
      "2019-10-21 09:20:00  timestamp\n",
      "2019-10-22 09:21:00  timestamp\n",
      "2019-10-23 09:22:00  timestamp\n",
      "2019-10-24 09:23:00  timestamp\n",
      "2019-10-25 09:24:00  timestamp\n",
      "2019-10-26 09:25:00  timestamp\n",
      "2019-10-27 09:26:00  timestamp\n",
      "2019-10-28 09:27:00  timestamp\n",
      "2019-10-29 09:28:00  timestamp\n",
      "2019-10-30 09:29:00  timestamp\n",
      "2019-10-31 09:30:00  timestamp\n",
      "2019-11-01 09:31:00  timestamp\n",
      "2019-11-02 09:32:00  timestamp\n",
      "2019-11-03 09:33:00  timestamp\n",
      "2019-11-04 09:34:00  timestamp\n",
      "2019-11-05 09:35:00  timestamp\n",
      "2019-11-06 09:36:00  timestamp\n",
      "2019-11-07 09:37:00  timestamp\n",
      "2019-11-08 09:38:00  timestamp\n",
      "2019-11-09 09:39:00  timestamp\n",
      "2019-11-10 09:40:00  timestamp\n",
      "2019-11-11 09:41:00  timestamp\n",
      "2019-11-12 09:42:00  timestamp\n",
      "2019-11-13 09:43:00  timestamp\n",
      "2019-11-14 09:44:00  timestamp\n",
      "2019-11-15 09:45:00  timestamp\n",
      "2019-11-16 09:46:00  timestamp\n",
      "2019-11-17 09:47:00  timestamp\n",
      "2019-11-18 09:48:00  timestamp\n",
      "2019-11-19 09:49:00  timestamp\n",
      "2019-11-20 09:50:00  timestamp\n",
      "2019-11-21 09:51:00  timestamp\n",
      "2019-11-22 09:52:00  timestamp\n",
      "2019-11-23 09:53:00  timestamp\n",
      "2019-11-24 09:54:00  timestamp\n",
      "2019-11-25 09:55:00  timestamp\n",
      "2019-11-26 09:56:00  timestamp\n",
      "2019-11-27 09:57:00  timestamp\n",
      "2019-11-28 09:58:00  timestamp\n",
      "2019-11-29 09:59:00  timestamp\n",
      "2019-11-30 10:00:00  timestamp\n",
      "2019-12-01 10:01:00  timestamp\n",
      "2019-12-02 10:02:00  timestamp\n",
      "2019-12-03 10:03:00  timestamp\n",
      "2019-12-04 10:04:00  timestamp\n",
      "2019-12-05 10:05:00  timestamp\n",
      "2019-12-06 10:06:00  timestamp\n",
      "2019-12-07 10:07:00  timestamp\n",
      "2019-12-08 10:08:00  timestamp\n",
      "2019-12-09 10:09:00  timestamp\n",
      "2019-12-10 10:10:00  timestamp\n",
      "2019-12-11 10:11:00  timestamp\n",
      "2019-12-12 10:12:00  timestamp\n",
      "2019-12-13 10:13:00  timestamp\n",
      "2019-12-14 10:14:00  timestamp\n",
      "2019-12-15 10:15:00  timestamp\n",
      "2019-12-16 10:16:00  timestamp\n",
      "2019-12-17 10:17:00  timestamp\n",
      "2019-12-18 10:18:00  timestamp\n",
      "2019-12-19 10:19:00  timestamp\n",
      "2019-12-20 10:20:00  timestamp\n",
      "2019-12-21 10:21:00  timestamp\n",
      "2019-12-22 10:22:00  timestamp\n",
      "2019-12-23 10:23:00  timestamp\n",
      "2019-12-24 10:24:00  timestamp\n",
      "2019-12-25 10:25:00  timestamp\n",
      "2019-12-26 10:26:00  timestamp\n",
      "2019-12-27 10:27:00  timestamp\n",
      "2019-12-28 10:28:00  timestamp\n",
      "2019-12-29 10:29:00  timestamp\n",
      "2019-12-30 10:30:00  timestamp\n",
      "2019-12-31 10:31:00  timestamp\n",
      "2020-01-01 10:32:00  timestamp\n",
      "2020-01-02 10:33:00  timestamp\n",
      "2020-01-03 10:34:00  timestamp\n",
      "2020-01-04 10:35:00  timestamp\n",
      "2020-01-05 10:36:00  timestamp\n",
      "2020-01-06 10:37:00  timestamp\n",
      "2020-01-07 10:38:00  timestamp\n",
      "2020-01-08 10:39:00  timestamp\n",
      "2020-01-09 10:40:00  timestamp\n",
      "2020-01-10 10:41:00  timestamp\n",
      "2020-01-11 10:42:00  timestamp\n",
      "2020-01-12 10:43:00  timestamp\n",
      "2020-01-13 10:44:00  timestamp\n",
      "2020-01-14 10:45:00  timestamp\n",
      "2020-01-15 10:46:00  timestamp\n",
      "2020-01-16 10:47:00  timestamp\n",
      "2020-01-17 10:48:00  timestamp\n",
      "2020-01-18 10:49:00  timestamp\n",
      "2020-01-19 10:50:00  timestamp\n",
      "2020-01-20 10:51:00  timestamp\n",
      "2020-01-21 10:52:00  timestamp\n",
      "2020-01-22 10:53:00  timestamp\n",
      "2020-01-23 10:54:00  timestamp\n",
      "2020-01-24 10:55:00  timestamp\n",
      "2020-01-25 10:56:00  timestamp\n",
      "2020-01-26 10:57:00  timestamp\n",
      "2020-01-27 10:58:00  timestamp\n",
      "2020-01-28 10:59:00  timestamp\n",
      "2020-01-29 11:00:00  timestamp\n",
      "2020-01-30 11:01:00  timestamp\n",
      "2020-01-31 11:02:00  timestamp\n",
      "2020-02-01 11:03:00  timestamp\n",
      "2020-02-02 11:04:00  timestamp\n",
      "2020-02-03 11:05:00  timestamp\n",
      "2020-02-04 11:06:00  timestamp\n",
      "2020-02-05 11:07:00  timestamp\n",
      "2020-02-06 11:08:00  timestamp\n",
      "2020-02-07 11:09:00  timestamp\n",
      "2020-02-08 11:10:00  timestamp\n",
      "2020-02-09 11:11:00  timestamp\n",
      "2020-02-10 11:12:00  timestamp\n",
      "2020-02-11 11:13:00  timestamp\n",
      "2020-02-12 11:14:00  timestamp\n",
      "2020-02-13 11:15:00  timestamp\n",
      "2020-02-14 11:16:00  timestamp\n",
      "2020-02-15 11:17:00  timestamp\n",
      "2020-02-16 11:18:00  timestamp\n",
      "2020-02-17 11:19:00  timestamp\n",
      "2020-02-18 11:20:00  timestamp\n",
      "2020-02-19 11:21:00  timestamp\n",
      "2020-02-20 11:22:00  timestamp\n",
      "2020-02-21 11:23:00  timestamp\n",
      "2020-02-22 11:24:00  timestamp\n",
      "2020-02-23 11:25:00  timestamp\n",
      "2020-02-24 11:26:00  timestamp\n",
      "2020-02-25 11:27:00  timestamp\n",
      "2020-02-26 11:28:00  timestamp\n",
      "2020-02-27 11:29:00  timestamp\n",
      "2020-02-28 11:30:00  timestamp\n",
      "2020-02-29 11:31:00  timestamp\n",
      "2020-03-01 11:32:00  timestamp\n",
      "2020-03-02 11:33:00  timestamp\n",
      "2020-03-03 11:34:00  timestamp\n",
      "2020-03-04 11:35:00  timestamp\n",
      "2020-03-05 11:36:00  timestamp\n",
      "2020-03-06 11:37:00  timestamp\n",
      "2020-03-07 11:38:00  timestamp\n",
      "2020-03-08 11:39:00  timestamp\n",
      "2020-03-09 11:40:00  timestamp\n",
      "2020-03-10 11:41:00  timestamp\n",
      "2020-03-11 11:42:00  timestamp\n",
      "2020-03-12 11:43:00  timestamp\n",
      "2020-03-13 11:44:00  timestamp\n",
      "2020-03-14 11:45:00  timestamp\n",
      "2020-03-15 11:46:00  timestamp\n",
      "2020-03-16 11:47:00  timestamp\n",
      "2020-03-17 11:48:00  timestamp\n",
      "2020-03-18 11:49:00  timestamp\n",
      "2020-03-19 11:50:00  timestamp\n",
      "2020-03-20 11:51:00  timestamp\n",
      "2020-03-21 11:52:00  timestamp\n",
      "2020-03-22 11:53:00  timestamp\n",
      "2020-03-23 11:54:00  timestamp\n",
      "2020-03-24 11:55:00  timestamp\n",
      "2020-03-25 11:56:00  timestamp\n",
      "2020-03-26 11:57:00  timestamp\n",
      "2020-03-27 11:58:00  timestamp\n",
      "2020-03-28 11:59:00  timestamp\n",
      "2020-03-29 12:00:00  timestamp\n",
      "2020-03-30 12:01:00  timestamp\n",
      "2020-03-31 12:02:00  timestamp\n",
      "2020-04-01 12:03:00  timestamp\n",
      "2020-04-02 12:04:00  timestamp\n",
      "2020-04-03 12:05:00  timestamp\n",
      "2020-04-04 12:06:00  timestamp\n",
      "2020-04-05 12:07:00  timestamp\n",
      "2020-04-06 12:08:00  timestamp\n",
      "2020-04-07 12:09:00  timestamp\n",
      "2020-04-08 12:10:00  timestamp\n",
      "2020-04-09 12:11:00  timestamp\n",
      "2020-04-10 12:12:00  timestamp\n",
      "2020-04-11 12:13:00  timestamp\n",
      "2020-04-12 12:14:00  timestamp\n",
      "2020-04-13 12:15:00  timestamp\n",
      "2020-04-14 12:16:00  timestamp\n",
      "2020-04-15 12:17:00  timestamp\n",
      "2020-04-16 12:18:00  timestamp\n",
      "2020-04-17 12:19:00  timestamp\n",
      "2020-04-18 12:20:00  timestamp\n",
      "2020-04-19 12:21:00  timestamp\n",
      "2020-04-20 12:22:00  timestamp\n",
      "2020-04-21 12:23:00  timestamp\n",
      "2020-04-22 12:24:00  timestamp\n",
      "2020-04-23 12:25:00  timestamp\n",
      "2020-04-24 12:26:00  timestamp\n",
      "2020-04-25 12:27:00  timestamp\n",
      "2020-04-26 12:28:00  timestamp\n",
      "2020-04-27 12:29:00  timestamp\n",
      "2020-04-28 12:30:00  timestamp\n",
      "2020-04-29 12:31:00  timestamp\n",
      "2020-04-30 12:32:00  timestamp\n",
      "2020-05-01 12:33:00  timestamp\n",
      "2020-05-02 12:34:00  timestamp\n",
      "2020-05-03 12:35:00  timestamp\n",
      "2020-05-04 12:36:00  timestamp\n",
      "2020-05-05 12:37:00  timestamp\n",
      "2020-05-06 12:38:00  timestamp\n",
      "2020-05-07 12:39:00  timestamp\n",
      "2020-05-08 12:40:00  timestamp\n",
      "2020-05-09 12:41:00  timestamp\n",
      "2020-05-10 12:42:00  timestamp\n",
      "2020-05-11 12:43:00  timestamp\n",
      "2020-05-12 12:44:00  timestamp\n",
      "2020-05-13 12:45:00  timestamp\n",
      "2020-05-14 12:46:00  timestamp\n",
      "2020-05-15 12:47:00  timestamp\n",
      "2020-05-16 12:48:00  timestamp\n",
      "2020-05-17 12:49:00  timestamp\n",
      "2020-05-18 12:50:00  timestamp\n",
      "2020-05-19 12:51:00  timestamp\n",
      "2020-05-20 12:52:00  timestamp\n",
      "2020-05-21 12:53:00  timestamp\n",
      "2020-05-22 12:54:00  timestamp\n",
      "2020-05-23 12:55:00  timestamp\n",
      "2020-05-24 12:56:00  timestamp\n",
      "2020-05-25 12:57:00  timestamp\n",
      "2020-05-26 12:58:00  timestamp\n",
      "2020-05-27 12:59:00  timestamp\n",
      "2020-05-28 13:00:00  timestamp\n",
      "2020-05-29 13:01:00  timestamp\n",
      "2020-05-30 13:02:00  timestamp\n",
      "2020-05-31 13:03:00  timestamp\n",
      "2020-06-01 13:04:00  timestamp\n",
      "2020-06-02 13:05:00  timestamp\n",
      "2020-06-03 13:06:00  timestamp\n",
      "2020-06-04 13:07:00  timestamp\n",
      "2020-06-05 13:08:00  timestamp\n",
      "2020-06-06 13:09:00  timestamp\n",
      "2020-06-07 13:10:00  timestamp\n",
      "2020-06-08 13:11:00  timestamp\n",
      "2020-06-09 13:12:00  timestamp\n",
      "2020-06-10 13:13:00  timestamp\n",
      "2020-06-11 13:14:00  timestamp\n",
      "2020-06-12 13:15:00  timestamp\n",
      "2020-06-13 13:16:00  timestamp\n",
      "2020-06-14 13:17:00  timestamp\n",
      "2020-06-15 13:18:00  timestamp\n",
      "2020-06-16 13:19:00  timestamp\n",
      "2020-06-17 13:20:00  timestamp\n",
      "2020-06-18 13:21:00  timestamp\n",
      "2020-06-19 13:22:00  timestamp\n",
      "2020-06-20 13:23:00  timestamp\n",
      "2020-06-21 13:24:00  timestamp\n",
      "2020-06-22 13:25:00  timestamp\n",
      "2020-06-23 13:26:00  timestamp\n",
      "2020-06-24 13:27:00  timestamp\n",
      "2020-06-25 13:28:00  timestamp\n",
      "2020-06-26 13:29:00  timestamp\n",
      "2020-06-27 13:30:00  timestamp\n",
      "2020-06-28 13:31:00  timestamp\n",
      "2020-06-29 13:32:00  timestamp\n",
      "2020-06-30 13:33:00  timestamp\n",
      "2020-07-01 13:34:00  timestamp\n",
      "2020-07-02 13:35:00  timestamp\n",
      "2020-07-03 13:36:00  timestamp\n",
      "2020-07-04 13:37:00  timestamp\n",
      "2020-07-05 13:38:00  timestamp\n",
      "2020-07-06 13:39:00  timestamp\n",
      "2020-07-07 13:40:00  timestamp\n",
      "2020-07-08 13:41:00  timestamp\n",
      "2020-07-09 13:42:00  timestamp\n",
      "2020-07-10 13:43:00  timestamp\n",
      "2020-07-11 13:44:00  timestamp\n",
      "2020-07-12 13:45:00  timestamp\n",
      "2020-07-13 13:46:00  timestamp\n",
      "2020-07-14 13:47:00  timestamp\n",
      "2020-07-15 13:48:00  timestamp\n",
      "2020-07-16 13:49:00  timestamp\n",
      "2020-07-17 13:50:00  timestamp\n",
      "2020-07-18 13:51:00  timestamp\n",
      "2020-07-19 13:52:00  timestamp\n",
      "2020-07-20 13:53:00  timestamp\n",
      "2020-07-21 13:54:00  timestamp\n",
      "2020-07-22 13:55:00  timestamp\n",
      "2020-07-23 13:56:00  timestamp\n",
      "2020-07-24 13:57:00  timestamp\n",
      "2020-07-25 13:58:00  timestamp\n",
      "2020-07-26 13:59:00  timestamp\n",
      "2020-07-27 14:00:00  timestamp\n",
      "2020-07-28 14:01:00  timestamp\n",
      "2020-07-29 14:02:00  timestamp\n",
      "2020-07-30 14:03:00  timestamp\n",
      "2020-07-31 14:04:00  timestamp\n",
      "2020-08-01 14:05:00  timestamp\n",
      "2020-08-02 14:06:00  timestamp\n",
      "2020-08-03 14:07:00  timestamp\n",
      "2020-08-04 14:08:00  timestamp\n",
      "2020-08-05 14:09:00  timestamp\n",
      "2020-08-06 14:10:00  timestamp\n",
      "2020-08-07 14:11:00  timestamp\n",
      "2020-08-08 14:12:00  timestamp\n",
      "2020-08-09 14:13:00  timestamp\n",
      "2020-08-10 14:14:00  timestamp\n",
      "2020-08-11 14:15:00  timestamp\n",
      "2020-08-12 14:16:00  timestamp\n",
      "2020-08-13 14:17:00  timestamp\n",
      "2020-08-14 14:18:00  timestamp\n",
      "2020-08-15 14:19:00  timestamp\n",
      "2020-08-16 14:20:00  timestamp\n",
      "2020-08-17 14:21:00  timestamp\n",
      "2020-08-18 14:22:00  timestamp\n",
      "2020-08-19 14:23:00  timestamp\n",
      "2020-08-20 14:24:00  timestamp\n",
      "2020-08-21 14:25:00  timestamp\n",
      "2020-08-22 14:26:00  timestamp\n",
      "2020-08-23 14:27:00  timestamp\n",
      "2020-08-24 14:28:00  timestamp\n",
      "2020-08-25 14:29:00  timestamp\n",
      "2020-08-26 14:30:00  timestamp\n",
      "2020-08-27 14:31:00  timestamp\n",
      "2020-08-28 14:32:00  timestamp\n",
      "2020-08-29 14:33:00  timestamp\n",
      "2020-08-30 14:34:00  timestamp\n",
      "2020-08-31 14:35:00  timestamp\n",
      "2020-09-01 14:36:00  timestamp\n",
      "2020-09-02 14:37:00  timestamp\n",
      "2020-09-03 14:38:00  timestamp\n",
      "2020-09-04 14:39:00  timestamp\n",
      "2020-09-05 14:40:00  timestamp\n",
      "2020-09-06 14:41:00  timestamp\n",
      "2020-09-07 14:42:00  timestamp\n",
      "2020-09-08 14:43:00  timestamp\n",
      "2020-09-09 14:44:00  timestamp\n",
      "2020-09-10 14:45:00  timestamp\n",
      "2020-09-11 14:46:00  timestamp\n",
      "2020-09-12 14:47:00  timestamp\n",
      "2020-09-13 14:48:00  timestamp\n",
      "2020-09-14 14:49:00  timestamp\n",
      "2020-09-15 14:50:00  timestamp\n",
      "2020-09-16 14:51:00  timestamp\n",
      "2020-09-17 14:52:00  timestamp\n",
      "2020-09-18 14:53:00  timestamp\n",
      "2020-09-19 14:54:00  timestamp\n",
      "2020-09-20 14:55:00  timestamp\n",
      "2020-09-21 14:56:00  timestamp\n",
      "2020-09-22 14:57:00  timestamp\n",
      "2020-09-23 14:58:00  timestamp\n",
      "2020-09-24 14:59:00  timestamp\n",
      "2020-09-25 15:00:00  timestamp\n",
      "2020-09-26 15:01:00  timestamp\n",
      "2020-09-27 15:02:00  timestamp\n",
      "2020-09-28 15:03:00  timestamp\n",
      "2020-09-29 15:04:00  timestamp\n",
      "2020-09-30 15:05:00  timestamp\n",
      "2020-10-01 15:06:00  timestamp\n",
      "2020-10-02 15:07:00  timestamp\n",
      "2020-10-03 15:08:00  timestamp\n",
      "2020-10-04 15:09:00  timestamp\n",
      "2020-10-05 15:10:00  timestamp\n",
      "2020-10-06 15:11:00  timestamp\n",
      "2020-10-07 15:12:00  timestamp\n",
      "2020-10-08 15:13:00  timestamp\n",
      "2020-10-09 15:14:00  timestamp\n",
      "2020-10-10 15:15:00  timestamp\n",
      "2020-10-11 15:16:00  timestamp\n",
      "2020-10-12 15:17:00  timestamp\n",
      "2020-10-13 15:18:00  timestamp\n",
      "2020-10-14 15:19:00  timestamp\n",
      "2020-10-15 15:20:00  timestamp\n",
      "2020-10-16 15:21:00  timestamp\n",
      "2020-10-17 15:22:00  timestamp\n",
      "2020-10-18 15:23:00  timestamp\n",
      "2020-10-19 15:24:00  timestamp\n",
      "2020-10-20 15:25:00  timestamp\n",
      "2020-10-21 15:26:00  timestamp\n",
      "2020-10-22 15:27:00  timestamp\n",
      "2020-10-23 15:28:00  timestamp\n",
      "2020-10-24 15:29:00  timestamp\n",
      "2020-10-25 15:30:00  timestamp\n",
      "2020-10-26 15:31:00  timestamp\n",
      "2020-10-27 15:32:00  timestamp\n",
      "2020-10-28 15:33:00  timestamp\n",
      "2020-10-29 15:34:00  timestamp\n",
      "2020-10-30 15:35:00  timestamp\n",
      "2020-10-31 15:36:00  timestamp\n",
      "2020-11-01 15:37:00  timestamp\n",
      "2020-11-02 15:38:00  timestamp\n",
      "2020-11-03 15:39:00  timestamp\n",
      "2020-11-04 15:40:00  timestamp\n",
      "2020-11-05 15:41:00  timestamp\n",
      "2020-11-06 15:42:00  timestamp\n",
      "2020-11-07 15:43:00  timestamp\n",
      "2020-11-08 15:44:00  timestamp\n",
      "2020-11-09 15:45:00  timestamp\n",
      "2020-11-10 15:46:00  timestamp\n",
      "2020-11-11 15:47:00  timestamp\n",
      "2020-11-12 15:48:00  timestamp\n",
      "2020-11-13 15:49:00  timestamp\n",
      "2020-11-14 15:50:00  timestamp\n",
      "2020-11-15 15:51:00  timestamp\n",
      "2020-11-16 15:52:00  timestamp\n",
      "2020-11-17 15:53:00  timestamp\n",
      "2020-11-18 15:54:00  timestamp\n",
      "2020-11-19 15:55:00  timestamp\n",
      "2020-11-20 15:56:00  timestamp\n",
      "2020-11-21 15:57:00  timestamp\n",
      "2020-11-22 15:58:00  timestamp\n",
      "2020-11-23 15:59:00  timestamp\n",
      "2020-11-24 16:00:00  timestamp\n",
      "2020-11-25 16:01:00  timestamp\n",
      "2020-11-26 16:02:00  timestamp\n",
      "2020-11-27 16:03:00  timestamp\n",
      "2020-11-28 16:04:00  timestamp\n",
      "2020-11-29 16:05:00  timestamp\n",
      "2020-11-30 16:06:00  timestamp\n",
      "2020-12-01 16:07:00  timestamp\n",
      "2020-12-02 16:08:00  timestamp\n",
      "2020-12-03 16:09:00  timestamp\n",
      "2020-12-04 16:10:00  timestamp\n",
      "2020-12-05 16:11:00  timestamp\n",
      "2020-12-06 16:12:00  timestamp\n",
      "2020-12-07 16:13:00  timestamp\n",
      "2020-12-08 16:14:00  timestamp\n",
      "2020-12-09 16:15:00  timestamp\n",
      "2020-12-10 16:16:00  timestamp\n",
      "2020-12-11 16:17:00  timestamp\n",
      "2020-12-12 16:18:00  timestamp\n",
      "2020-12-13 16:19:00  timestamp\n",
      "2020-12-14 16:20:00  timestamp\n",
      "2020-12-15 16:21:00  timestamp\n",
      "2020-12-16 16:22:00  timestamp\n",
      "2020-12-17 16:23:00  timestamp\n",
      "2020-12-18 16:24:00  timestamp\n",
      "2020-12-19 16:25:00  timestamp\n",
      "2020-12-20 16:26:00  timestamp\n",
      "2020-12-21 16:27:00  timestamp\n",
      "2020-12-22 16:28:00  timestamp\n",
      "2020-12-23 16:29:00  timestamp\n",
      "2020-12-24 16:30:00  timestamp\n",
      "2020-12-25 16:31:00  timestamp\n",
      "2020-12-26 16:32:00  timestamp\n",
      "2020-12-27 16:33:00  timestamp\n",
      "2020-12-28 16:34:00  timestamp\n",
      "2020-12-29 16:35:00  timestamp\n",
      "2020-12-30 16:36:00  timestamp\n",
      "2020-12-31 16:37:00  timestamp\n",
      "2021-01-01 16:38:00  timestamp\n",
      "2021-01-02 16:39:00  timestamp\n",
      "\n",
      "[Showing only the first 1000 rows x 1 columns]\n"
     ]
    }
   ],
   "source": [
    "print(ts)"
   ]
  },
  {
   "cell_type": "code",
   "execution_count": null,
   "metadata": {
    "application/vnd.databricks.v1+cell": {
     "cellMetadata": {
      "byteLimit": 2048000,
      "rowLimit": 10000
     },
     "inputWidgets": {},
     "nuid": "07898933-e29f-4cdd-80bf-f7c9437e36f0",
     "showTitle": false,
     "title": ""
    }
   },
   "outputs": [
    {
     "data": {
      "text/plain": [
       "\u001b[0;31m---------------------------------------------------------------------------\u001b[0m\n",
       "\u001b[0;31mTypeError\u001b[0m                                 Traceback (most recent call last)\n",
       "File \u001b[0;32m/databricks/spark/python/pyspark/pandas/typedef/typehints.py:338\u001b[0m, in \u001b[0;36mpandas_on_spark_type\u001b[0;34m(tpe)\u001b[0m\n",
       "\u001b[1;32m    337\u001b[0m     dtype \u001b[38;5;241m=\u001b[39m pandas_dtype(tpe)\n",
       "\u001b[0;32m--> 338\u001b[0m     spark_type \u001b[38;5;241m=\u001b[39m \u001b[43mas_spark_type\u001b[49m\u001b[43m(\u001b[49m\u001b[43mdtype\u001b[49m\u001b[43m)\u001b[49m\n",
       "\u001b[1;32m    339\u001b[0m \u001b[38;5;28;01mexcept\u001b[39;00m \u001b[38;5;167;01mTypeError\u001b[39;00m:\n",
       "\n",
       "File \u001b[0;32m/databricks/spark/python/pyspark/pandas/typedef/typehints.py:248\u001b[0m, in \u001b[0;36mas_spark_type\u001b[0;34m(tpe, raise_error, prefer_timestamp_ntz)\u001b[0m\n",
       "\u001b[1;32m    247\u001b[0m \u001b[38;5;28;01mif\u001b[39;00m raise_error:\n",
       "\u001b[0;32m--> 248\u001b[0m     \u001b[38;5;28;01mraise\u001b[39;00m \u001b[38;5;167;01mTypeError\u001b[39;00m(\u001b[38;5;124m\"\u001b[39m\u001b[38;5;124mType \u001b[39m\u001b[38;5;132;01m%s\u001b[39;00m\u001b[38;5;124m was not understood.\u001b[39m\u001b[38;5;124m\"\u001b[39m \u001b[38;5;241m%\u001b[39m tpe)\n",
       "\u001b[1;32m    249\u001b[0m \u001b[38;5;28;01melse\u001b[39;00m:\n",
       "\n",
       "\u001b[0;31mTypeError\u001b[0m: Type object was not understood.\n",
       "\n",
       "During handling of the above exception, another exception occurred:\n",
       "\n",
       "\u001b[0;31mTypeError\u001b[0m                                 Traceback (most recent call last)\n",
       "File \u001b[0;32m<command-1242479702445169>, line 1\u001b[0m\n",
       "\u001b[0;32m----> 1\u001b[0m \u001b[43mts\u001b[49m\u001b[38;5;241;43m.\u001b[39;49m\u001b[43mbetween_time\u001b[49m\u001b[43m(\u001b[49m\u001b[38;5;124;43m'\u001b[39;49m\u001b[38;5;124;43m0:15\u001b[39;49m\u001b[38;5;124;43m'\u001b[39;49m\u001b[43m,\u001b[49m\u001b[43m \u001b[49m\u001b[38;5;124;43m'\u001b[39;49m\u001b[38;5;124;43m0:16\u001b[39;49m\u001b[38;5;124;43m'\u001b[39;49m\u001b[43m)\u001b[49m\n",
       "\n",
       "File \u001b[0;32m/databricks/spark/python/pyspark/instrumentation_utils.py:47\u001b[0m, in \u001b[0;36m_wrap_function.<locals>.wrapper\u001b[0;34m(*args, **kwargs)\u001b[0m\n",
       "\u001b[1;32m     45\u001b[0m start \u001b[38;5;241m=\u001b[39m time\u001b[38;5;241m.\u001b[39mperf_counter()\n",
       "\u001b[1;32m     46\u001b[0m \u001b[38;5;28;01mtry\u001b[39;00m:\n",
       "\u001b[0;32m---> 47\u001b[0m     res \u001b[38;5;241m=\u001b[39m \u001b[43mfunc\u001b[49m\u001b[43m(\u001b[49m\u001b[38;5;241;43m*\u001b[39;49m\u001b[43margs\u001b[49m\u001b[43m,\u001b[49m\u001b[43m \u001b[49m\u001b[38;5;241;43m*\u001b[39;49m\u001b[38;5;241;43m*\u001b[39;49m\u001b[43mkwargs\u001b[49m\u001b[43m)\u001b[49m\n",
       "\u001b[1;32m     48\u001b[0m     logger\u001b[38;5;241m.\u001b[39mlog_success(\n",
       "\u001b[1;32m     49\u001b[0m         module_name, class_name, function_name, time\u001b[38;5;241m.\u001b[39mperf_counter() \u001b[38;5;241m-\u001b[39m start, signature\n",
       "\u001b[1;32m     50\u001b[0m     )\n",
       "\u001b[1;32m     51\u001b[0m     \u001b[38;5;28;01mreturn\u001b[39;00m res\n",
       "\n",
       "File \u001b[0;32m/databricks/spark/python/pyspark/pandas/frame.py:3613\u001b[0m, in \u001b[0;36mDataFrame.between_time\u001b[0;34m(self, start_time, end_time, include_start, include_end, axis)\u001b[0m\n",
       "\u001b[1;32m   3609\u001b[0m \u001b[38;5;66;03m# apply_batch will remove the index of the pandas-on-Spark DataFrame and attach a\u001b[39;00m\n",
       "\u001b[1;32m   3610\u001b[0m \u001b[38;5;66;03m# default index, which will never be used. Use \"distributed\" index as a dummy to\u001b[39;00m\n",
       "\u001b[1;32m   3611\u001b[0m \u001b[38;5;66;03m# avoid overhead.\u001b[39;00m\n",
       "\u001b[1;32m   3612\u001b[0m \u001b[38;5;28;01mwith\u001b[39;00m option_context(\u001b[38;5;124m\"\u001b[39m\u001b[38;5;124mcompute.default_index_type\u001b[39m\u001b[38;5;124m\"\u001b[39m, \u001b[38;5;124m\"\u001b[39m\u001b[38;5;124mdistributed\u001b[39m\u001b[38;5;124m\"\u001b[39m):\n",
       "\u001b[0;32m-> 3613\u001b[0m     psdf \u001b[38;5;241m=\u001b[39m \u001b[43mpsdf\u001b[49m\u001b[38;5;241;43m.\u001b[39;49m\u001b[43mpandas_on_spark\u001b[49m\u001b[38;5;241;43m.\u001b[39;49m\u001b[43mapply_batch\u001b[49m\u001b[43m(\u001b[49m\u001b[43mpandas_between_time\u001b[49m\u001b[43m)\u001b[49m\n",
       "\u001b[1;32m   3615\u001b[0m \u001b[38;5;28;01mreturn\u001b[39;00m DataFrame(\n",
       "\u001b[1;32m   3616\u001b[0m     \u001b[38;5;28mself\u001b[39m\u001b[38;5;241m.\u001b[39m_internal\u001b[38;5;241m.\u001b[39mcopy(\n",
       "\u001b[1;32m   3617\u001b[0m         spark_frame\u001b[38;5;241m=\u001b[39mpsdf\u001b[38;5;241m.\u001b[39m_internal\u001b[38;5;241m.\u001b[39mspark_frame,\n",
       "\u001b[0;32m   (...)\u001b[0m\n",
       "\u001b[1;32m   3622\u001b[0m     )\n",
       "\u001b[1;32m   3623\u001b[0m )\n",
       "\n",
       "File \u001b[0;32m/databricks/spark/python/pyspark/instrumentation_utils.py:42\u001b[0m, in \u001b[0;36m_wrap_function.<locals>.wrapper\u001b[0;34m(*args, **kwargs)\u001b[0m\n",
       "\u001b[1;32m     38\u001b[0m \u001b[38;5;129m@functools\u001b[39m\u001b[38;5;241m.\u001b[39mwraps(func)\n",
       "\u001b[1;32m     39\u001b[0m \u001b[38;5;28;01mdef\u001b[39;00m \u001b[38;5;21mwrapper\u001b[39m(\u001b[38;5;241m*\u001b[39margs: Any, \u001b[38;5;241m*\u001b[39m\u001b[38;5;241m*\u001b[39mkwargs: Any) \u001b[38;5;241m-\u001b[39m\u001b[38;5;241m>\u001b[39m Any:\n",
       "\u001b[1;32m     40\u001b[0m     \u001b[38;5;28;01mif\u001b[39;00m \u001b[38;5;28mhasattr\u001b[39m(_local, \u001b[38;5;124m\"\u001b[39m\u001b[38;5;124mlogging\u001b[39m\u001b[38;5;124m\"\u001b[39m) \u001b[38;5;129;01mand\u001b[39;00m _local\u001b[38;5;241m.\u001b[39mlogging:\n",
       "\u001b[1;32m     41\u001b[0m         \u001b[38;5;66;03m# no need to log since this should be internal call.\u001b[39;00m\n",
       "\u001b[0;32m---> 42\u001b[0m         \u001b[38;5;28;01mreturn\u001b[39;00m \u001b[43mfunc\u001b[49m\u001b[43m(\u001b[49m\u001b[38;5;241;43m*\u001b[39;49m\u001b[43margs\u001b[49m\u001b[43m,\u001b[49m\u001b[43m \u001b[49m\u001b[38;5;241;43m*\u001b[39;49m\u001b[38;5;241;43m*\u001b[39;49m\u001b[43mkwargs\u001b[49m\u001b[43m)\u001b[49m\n",
       "\u001b[1;32m     43\u001b[0m     _local\u001b[38;5;241m.\u001b[39mlogging \u001b[38;5;241m=\u001b[39m \u001b[38;5;28;01mTrue\u001b[39;00m\n",
       "\u001b[1;32m     44\u001b[0m     \u001b[38;5;28;01mtry\u001b[39;00m:\n",
       "\n",
       "File \u001b[0;32m/databricks/spark/python/pyspark/pandas/accessors.py:389\u001b[0m, in \u001b[0;36mPandasOnSparkFrameMethods.apply_batch\u001b[0;34m(self, func, args, **kwds)\u001b[0m\n",
       "\u001b[1;32m    385\u001b[0m     internal \u001b[38;5;241m=\u001b[39m psdf\u001b[38;5;241m.\u001b[39m_internal\u001b[38;5;241m.\u001b[39mwith_new_sdf(\n",
       "\u001b[1;32m    386\u001b[0m         spark_frame\u001b[38;5;241m=\u001b[39msdf, index_fields\u001b[38;5;241m=\u001b[39mindex_fields, data_fields\u001b[38;5;241m=\u001b[39mdata_fields\n",
       "\u001b[1;32m    387\u001b[0m     )\n",
       "\u001b[1;32m    388\u001b[0m \u001b[38;5;28;01melse\u001b[39;00m:\n",
       "\u001b[0;32m--> 389\u001b[0m     return_type \u001b[38;5;241m=\u001b[39m \u001b[43minfer_return_type\u001b[49m\u001b[43m(\u001b[49m\u001b[43moriginal_func\u001b[49m\u001b[43m)\u001b[49m\n",
       "\u001b[1;32m    390\u001b[0m     is_return_dataframe \u001b[38;5;241m=\u001b[39m \u001b[38;5;28misinstance\u001b[39m(return_type, DataFrameType)\n",
       "\u001b[1;32m    391\u001b[0m     \u001b[38;5;28;01mif\u001b[39;00m \u001b[38;5;129;01mnot\u001b[39;00m is_return_dataframe:\n",
       "\n",
       "File \u001b[0;32m/databricks/spark/python/pyspark/pandas/typedef/typehints.py:608\u001b[0m, in \u001b[0;36minfer_return_type\u001b[0;34m(f)\u001b[0m\n",
       "\u001b[1;32m    604\u001b[0m \u001b[38;5;28;01melse\u001b[39;00m:\n",
       "\u001b[1;32m    605\u001b[0m     \u001b[38;5;66;03m# No type hint for index.\u001b[39;00m\n",
       "\u001b[1;32m    606\u001b[0m     \u001b[38;5;28;01massert\u001b[39;00m \u001b[38;5;28mlen\u001b[39m(index_parameters) \u001b[38;5;241m==\u001b[39m \u001b[38;5;241m0\u001b[39m\n",
       "\u001b[0;32m--> 608\u001b[0m data_dtypes, data_spark_types \u001b[38;5;241m=\u001b[39m \u001b[38;5;28;43mzip\u001b[39;49m\u001b[43m(\u001b[49m\n",
       "\u001b[1;32m    609\u001b[0m \u001b[43m    \u001b[49m\u001b[38;5;241;43m*\u001b[39;49m\u001b[43m(\u001b[49m\n",
       "\u001b[1;32m    610\u001b[0m \u001b[43m        \u001b[49m\u001b[43mpandas_on_spark_type\u001b[49m\u001b[43m(\u001b[49m\u001b[43mp\u001b[49m\u001b[38;5;241;43m.\u001b[39;49m\u001b[43mtpe\u001b[49m\u001b[43m)\u001b[49m\n",
       "\u001b[1;32m    611\u001b[0m \u001b[43m        \u001b[49m\u001b[38;5;28;43;01mif\u001b[39;49;00m\u001b[43m \u001b[49m\u001b[43misclass\u001b[49m\u001b[43m(\u001b[49m\u001b[43mp\u001b[49m\u001b[43m)\u001b[49m\u001b[43m \u001b[49m\u001b[38;5;129;43;01mand\u001b[39;49;00m\u001b[43m \u001b[49m\u001b[38;5;28;43missubclass\u001b[39;49m\u001b[43m(\u001b[49m\u001b[43mp\u001b[49m\u001b[43m,\u001b[49m\u001b[43m \u001b[49m\u001b[43mNameTypeHolder\u001b[49m\u001b[43m)\u001b[49m\n",
       "\u001b[1;32m    612\u001b[0m \u001b[43m        \u001b[49m\u001b[38;5;28;43;01melse\u001b[39;49;00m\u001b[43m \u001b[49m\u001b[43mpandas_on_spark_type\u001b[49m\u001b[43m(\u001b[49m\u001b[43mp\u001b[49m\u001b[43m)\u001b[49m\n",
       "\u001b[1;32m    613\u001b[0m \u001b[43m        \u001b[49m\u001b[38;5;28;43;01mfor\u001b[39;49;00m\u001b[43m \u001b[49m\u001b[43mp\u001b[49m\u001b[43m \u001b[49m\u001b[38;5;129;43;01min\u001b[39;49;00m\u001b[43m \u001b[49m\u001b[43mdata_parameters\u001b[49m\n",
       "\u001b[1;32m    614\u001b[0m \u001b[43m    \u001b[49m\u001b[43m)\u001b[49m\n",
       "\u001b[1;32m    615\u001b[0m \u001b[43m\u001b[49m\u001b[43m)\u001b[49m\n",
       "\u001b[1;32m    616\u001b[0m data_names \u001b[38;5;241m=\u001b[39m [\n",
       "\u001b[1;32m    617\u001b[0m     p\u001b[38;5;241m.\u001b[39mname \u001b[38;5;28;01mif\u001b[39;00m isclass(p) \u001b[38;5;129;01mand\u001b[39;00m \u001b[38;5;28missubclass\u001b[39m(p, NameTypeHolder) \u001b[38;5;28;01melse\u001b[39;00m \u001b[38;5;28;01mNone\u001b[39;00m\n",
       "\u001b[1;32m    618\u001b[0m     \u001b[38;5;28;01mfor\u001b[39;00m p \u001b[38;5;129;01min\u001b[39;00m data_parameters\n",
       "\u001b[1;32m    619\u001b[0m ]\n",
       "\u001b[1;32m    620\u001b[0m data_fields \u001b[38;5;241m=\u001b[39m []\n",
       "\n",
       "File \u001b[0;32m/databricks/spark/python/pyspark/pandas/typedef/typehints.py:610\u001b[0m, in \u001b[0;36m<genexpr>\u001b[0;34m(.0)\u001b[0m\n",
       "\u001b[1;32m    604\u001b[0m \u001b[38;5;28;01melse\u001b[39;00m:\n",
       "\u001b[1;32m    605\u001b[0m     \u001b[38;5;66;03m# No type hint for index.\u001b[39;00m\n",
       "\u001b[1;32m    606\u001b[0m     \u001b[38;5;28;01massert\u001b[39;00m \u001b[38;5;28mlen\u001b[39m(index_parameters) \u001b[38;5;241m==\u001b[39m \u001b[38;5;241m0\u001b[39m\n",
       "\u001b[1;32m    608\u001b[0m data_dtypes, data_spark_types \u001b[38;5;241m=\u001b[39m \u001b[38;5;28mzip\u001b[39m(\n",
       "\u001b[1;32m    609\u001b[0m     \u001b[38;5;241m*\u001b[39m(\n",
       "\u001b[0;32m--> 610\u001b[0m         \u001b[43mpandas_on_spark_type\u001b[49m\u001b[43m(\u001b[49m\u001b[43mp\u001b[49m\u001b[38;5;241;43m.\u001b[39;49m\u001b[43mtpe\u001b[49m\u001b[43m)\u001b[49m\n",
       "\u001b[1;32m    611\u001b[0m         \u001b[38;5;28;01mif\u001b[39;00m isclass(p) \u001b[38;5;129;01mand\u001b[39;00m \u001b[38;5;28missubclass\u001b[39m(p, NameTypeHolder)\n",
       "\u001b[1;32m    612\u001b[0m         \u001b[38;5;28;01melse\u001b[39;00m pandas_on_spark_type(p)\n",
       "\u001b[1;32m    613\u001b[0m         \u001b[38;5;28;01mfor\u001b[39;00m p \u001b[38;5;129;01min\u001b[39;00m data_parameters\n",
       "\u001b[1;32m    614\u001b[0m     )\n",
       "\u001b[1;32m    615\u001b[0m )\n",
       "\u001b[1;32m    616\u001b[0m data_names \u001b[38;5;241m=\u001b[39m [\n",
       "\u001b[1;32m    617\u001b[0m     p\u001b[38;5;241m.\u001b[39mname \u001b[38;5;28;01mif\u001b[39;00m isclass(p) \u001b[38;5;129;01mand\u001b[39;00m \u001b[38;5;28missubclass\u001b[39m(p, NameTypeHolder) \u001b[38;5;28;01melse\u001b[39;00m \u001b[38;5;28;01mNone\u001b[39;00m\n",
       "\u001b[1;32m    618\u001b[0m     \u001b[38;5;28;01mfor\u001b[39;00m p \u001b[38;5;129;01min\u001b[39;00m data_parameters\n",
       "\u001b[1;32m    619\u001b[0m ]\n",
       "\u001b[1;32m    620\u001b[0m data_fields \u001b[38;5;241m=\u001b[39m []\n",
       "\n",
       "File \u001b[0;32m/databricks/spark/python/pyspark/pandas/typedef/typehints.py:340\u001b[0m, in \u001b[0;36mpandas_on_spark_type\u001b[0;34m(tpe)\u001b[0m\n",
       "\u001b[1;32m    338\u001b[0m     spark_type \u001b[38;5;241m=\u001b[39m as_spark_type(dtype)\n",
       "\u001b[1;32m    339\u001b[0m \u001b[38;5;28;01mexcept\u001b[39;00m \u001b[38;5;167;01mTypeError\u001b[39;00m:\n",
       "\u001b[0;32m--> 340\u001b[0m     spark_type \u001b[38;5;241m=\u001b[39m \u001b[43mas_spark_type\u001b[49m\u001b[43m(\u001b[49m\u001b[43mtpe\u001b[49m\u001b[43m)\u001b[49m\n",
       "\u001b[1;32m    341\u001b[0m     dtype \u001b[38;5;241m=\u001b[39m spark_type_to_pandas_dtype(spark_type)\n",
       "\u001b[1;32m    342\u001b[0m \u001b[38;5;28;01mreturn\u001b[39;00m dtype, spark_type\n",
       "\n",
       "File \u001b[0;32m/databricks/spark/python/pyspark/pandas/typedef/typehints.py:248\u001b[0m, in \u001b[0;36mas_spark_type\u001b[0;34m(tpe, raise_error, prefer_timestamp_ntz)\u001b[0m\n",
       "\u001b[1;32m    245\u001b[0m             \u001b[38;5;28;01mreturn\u001b[39;00m types\u001b[38;5;241m.\u001b[39mDoubleType()\n",
       "\u001b[1;32m    247\u001b[0m \u001b[38;5;28;01mif\u001b[39;00m raise_error:\n",
       "\u001b[0;32m--> 248\u001b[0m     \u001b[38;5;28;01mraise\u001b[39;00m \u001b[38;5;167;01mTypeError\u001b[39;00m(\u001b[38;5;124m\"\u001b[39m\u001b[38;5;124mType \u001b[39m\u001b[38;5;132;01m%s\u001b[39;00m\u001b[38;5;124m was not understood.\u001b[39m\u001b[38;5;124m\"\u001b[39m \u001b[38;5;241m%\u001b[39m tpe)\n",
       "\u001b[1;32m    249\u001b[0m \u001b[38;5;28;01melse\u001b[39;00m:\n",
       "\u001b[1;32m    250\u001b[0m     \u001b[38;5;28;01mreturn\u001b[39;00m \u001b[38;5;28;01mNone\u001b[39;00m\n",
       "\n",
       "\u001b[0;31mTypeError\u001b[0m: Type <class 'numpy.object_'> was not understood."
      ]
     },
     "metadata": {
      "application/vnd.databricks.v1+output": {
       "addedWidgets": {},
       "arguments": {},
       "datasetInfos": [],
       "jupyterProps": {
        "ename": "TypeError",
        "evalue": "Type <class 'numpy.object_'> was not understood."
       },
       "metadata": {
        "errorSummary": "<span class='ansi-red-fg'>TypeError</span>: Type <class 'numpy.object_'> was not understood."
       },
       "removedWidgets": [],
       "sqlProps": null,
       "stackFrames": [
        "\u001b[0;31m---------------------------------------------------------------------------\u001b[0m",
        "\u001b[0;31mTypeError\u001b[0m                                 Traceback (most recent call last)",
        "File \u001b[0;32m/databricks/spark/python/pyspark/pandas/typedef/typehints.py:338\u001b[0m, in \u001b[0;36mpandas_on_spark_type\u001b[0;34m(tpe)\u001b[0m\n\u001b[1;32m    337\u001b[0m     dtype \u001b[38;5;241m=\u001b[39m pandas_dtype(tpe)\n\u001b[0;32m--> 338\u001b[0m     spark_type \u001b[38;5;241m=\u001b[39m \u001b[43mas_spark_type\u001b[49m\u001b[43m(\u001b[49m\u001b[43mdtype\u001b[49m\u001b[43m)\u001b[49m\n\u001b[1;32m    339\u001b[0m \u001b[38;5;28;01mexcept\u001b[39;00m \u001b[38;5;167;01mTypeError\u001b[39;00m:\n",
        "File \u001b[0;32m/databricks/spark/python/pyspark/pandas/typedef/typehints.py:248\u001b[0m, in \u001b[0;36mas_spark_type\u001b[0;34m(tpe, raise_error, prefer_timestamp_ntz)\u001b[0m\n\u001b[1;32m    247\u001b[0m \u001b[38;5;28;01mif\u001b[39;00m raise_error:\n\u001b[0;32m--> 248\u001b[0m     \u001b[38;5;28;01mraise\u001b[39;00m \u001b[38;5;167;01mTypeError\u001b[39;00m(\u001b[38;5;124m\"\u001b[39m\u001b[38;5;124mType \u001b[39m\u001b[38;5;132;01m%s\u001b[39;00m\u001b[38;5;124m was not understood.\u001b[39m\u001b[38;5;124m\"\u001b[39m \u001b[38;5;241m%\u001b[39m tpe)\n\u001b[1;32m    249\u001b[0m \u001b[38;5;28;01melse\u001b[39;00m:\n",
        "\u001b[0;31mTypeError\u001b[0m: Type object was not understood.",
        "\nDuring handling of the above exception, another exception occurred:\n",
        "\u001b[0;31mTypeError\u001b[0m                                 Traceback (most recent call last)",
        "File \u001b[0;32m<command-1242479702445169>, line 1\u001b[0m\n\u001b[0;32m----> 1\u001b[0m \u001b[43mts\u001b[49m\u001b[38;5;241;43m.\u001b[39;49m\u001b[43mbetween_time\u001b[49m\u001b[43m(\u001b[49m\u001b[38;5;124;43m'\u001b[39;49m\u001b[38;5;124;43m0:15\u001b[39;49m\u001b[38;5;124;43m'\u001b[39;49m\u001b[43m,\u001b[49m\u001b[43m \u001b[49m\u001b[38;5;124;43m'\u001b[39;49m\u001b[38;5;124;43m0:16\u001b[39;49m\u001b[38;5;124;43m'\u001b[39;49m\u001b[43m)\u001b[49m\n",
        "File \u001b[0;32m/databricks/spark/python/pyspark/instrumentation_utils.py:47\u001b[0m, in \u001b[0;36m_wrap_function.<locals>.wrapper\u001b[0;34m(*args, **kwargs)\u001b[0m\n\u001b[1;32m     45\u001b[0m start \u001b[38;5;241m=\u001b[39m time\u001b[38;5;241m.\u001b[39mperf_counter()\n\u001b[1;32m     46\u001b[0m \u001b[38;5;28;01mtry\u001b[39;00m:\n\u001b[0;32m---> 47\u001b[0m     res \u001b[38;5;241m=\u001b[39m \u001b[43mfunc\u001b[49m\u001b[43m(\u001b[49m\u001b[38;5;241;43m*\u001b[39;49m\u001b[43margs\u001b[49m\u001b[43m,\u001b[49m\u001b[43m \u001b[49m\u001b[38;5;241;43m*\u001b[39;49m\u001b[38;5;241;43m*\u001b[39;49m\u001b[43mkwargs\u001b[49m\u001b[43m)\u001b[49m\n\u001b[1;32m     48\u001b[0m     logger\u001b[38;5;241m.\u001b[39mlog_success(\n\u001b[1;32m     49\u001b[0m         module_name, class_name, function_name, time\u001b[38;5;241m.\u001b[39mperf_counter() \u001b[38;5;241m-\u001b[39m start, signature\n\u001b[1;32m     50\u001b[0m     )\n\u001b[1;32m     51\u001b[0m     \u001b[38;5;28;01mreturn\u001b[39;00m res\n",
        "File \u001b[0;32m/databricks/spark/python/pyspark/pandas/frame.py:3613\u001b[0m, in \u001b[0;36mDataFrame.between_time\u001b[0;34m(self, start_time, end_time, include_start, include_end, axis)\u001b[0m\n\u001b[1;32m   3609\u001b[0m \u001b[38;5;66;03m# apply_batch will remove the index of the pandas-on-Spark DataFrame and attach a\u001b[39;00m\n\u001b[1;32m   3610\u001b[0m \u001b[38;5;66;03m# default index, which will never be used. Use \"distributed\" index as a dummy to\u001b[39;00m\n\u001b[1;32m   3611\u001b[0m \u001b[38;5;66;03m# avoid overhead.\u001b[39;00m\n\u001b[1;32m   3612\u001b[0m \u001b[38;5;28;01mwith\u001b[39;00m option_context(\u001b[38;5;124m\"\u001b[39m\u001b[38;5;124mcompute.default_index_type\u001b[39m\u001b[38;5;124m\"\u001b[39m, \u001b[38;5;124m\"\u001b[39m\u001b[38;5;124mdistributed\u001b[39m\u001b[38;5;124m\"\u001b[39m):\n\u001b[0;32m-> 3613\u001b[0m     psdf \u001b[38;5;241m=\u001b[39m \u001b[43mpsdf\u001b[49m\u001b[38;5;241;43m.\u001b[39;49m\u001b[43mpandas_on_spark\u001b[49m\u001b[38;5;241;43m.\u001b[39;49m\u001b[43mapply_batch\u001b[49m\u001b[43m(\u001b[49m\u001b[43mpandas_between_time\u001b[49m\u001b[43m)\u001b[49m\n\u001b[1;32m   3615\u001b[0m \u001b[38;5;28;01mreturn\u001b[39;00m DataFrame(\n\u001b[1;32m   3616\u001b[0m     \u001b[38;5;28mself\u001b[39m\u001b[38;5;241m.\u001b[39m_internal\u001b[38;5;241m.\u001b[39mcopy(\n\u001b[1;32m   3617\u001b[0m         spark_frame\u001b[38;5;241m=\u001b[39mpsdf\u001b[38;5;241m.\u001b[39m_internal\u001b[38;5;241m.\u001b[39mspark_frame,\n\u001b[0;32m   (...)\u001b[0m\n\u001b[1;32m   3622\u001b[0m     )\n\u001b[1;32m   3623\u001b[0m )\n",
        "File \u001b[0;32m/databricks/spark/python/pyspark/instrumentation_utils.py:42\u001b[0m, in \u001b[0;36m_wrap_function.<locals>.wrapper\u001b[0;34m(*args, **kwargs)\u001b[0m\n\u001b[1;32m     38\u001b[0m \u001b[38;5;129m@functools\u001b[39m\u001b[38;5;241m.\u001b[39mwraps(func)\n\u001b[1;32m     39\u001b[0m \u001b[38;5;28;01mdef\u001b[39;00m \u001b[38;5;21mwrapper\u001b[39m(\u001b[38;5;241m*\u001b[39margs: Any, \u001b[38;5;241m*\u001b[39m\u001b[38;5;241m*\u001b[39mkwargs: Any) \u001b[38;5;241m-\u001b[39m\u001b[38;5;241m>\u001b[39m Any:\n\u001b[1;32m     40\u001b[0m     \u001b[38;5;28;01mif\u001b[39;00m \u001b[38;5;28mhasattr\u001b[39m(_local, \u001b[38;5;124m\"\u001b[39m\u001b[38;5;124mlogging\u001b[39m\u001b[38;5;124m\"\u001b[39m) \u001b[38;5;129;01mand\u001b[39;00m _local\u001b[38;5;241m.\u001b[39mlogging:\n\u001b[1;32m     41\u001b[0m         \u001b[38;5;66;03m# no need to log since this should be internal call.\u001b[39;00m\n\u001b[0;32m---> 42\u001b[0m         \u001b[38;5;28;01mreturn\u001b[39;00m \u001b[43mfunc\u001b[49m\u001b[43m(\u001b[49m\u001b[38;5;241;43m*\u001b[39;49m\u001b[43margs\u001b[49m\u001b[43m,\u001b[49m\u001b[43m \u001b[49m\u001b[38;5;241;43m*\u001b[39;49m\u001b[38;5;241;43m*\u001b[39;49m\u001b[43mkwargs\u001b[49m\u001b[43m)\u001b[49m\n\u001b[1;32m     43\u001b[0m     _local\u001b[38;5;241m.\u001b[39mlogging \u001b[38;5;241m=\u001b[39m \u001b[38;5;28;01mTrue\u001b[39;00m\n\u001b[1;32m     44\u001b[0m     \u001b[38;5;28;01mtry\u001b[39;00m:\n",
        "File \u001b[0;32m/databricks/spark/python/pyspark/pandas/accessors.py:389\u001b[0m, in \u001b[0;36mPandasOnSparkFrameMethods.apply_batch\u001b[0;34m(self, func, args, **kwds)\u001b[0m\n\u001b[1;32m    385\u001b[0m     internal \u001b[38;5;241m=\u001b[39m psdf\u001b[38;5;241m.\u001b[39m_internal\u001b[38;5;241m.\u001b[39mwith_new_sdf(\n\u001b[1;32m    386\u001b[0m         spark_frame\u001b[38;5;241m=\u001b[39msdf, index_fields\u001b[38;5;241m=\u001b[39mindex_fields, data_fields\u001b[38;5;241m=\u001b[39mdata_fields\n\u001b[1;32m    387\u001b[0m     )\n\u001b[1;32m    388\u001b[0m \u001b[38;5;28;01melse\u001b[39;00m:\n\u001b[0;32m--> 389\u001b[0m     return_type \u001b[38;5;241m=\u001b[39m \u001b[43minfer_return_type\u001b[49m\u001b[43m(\u001b[49m\u001b[43moriginal_func\u001b[49m\u001b[43m)\u001b[49m\n\u001b[1;32m    390\u001b[0m     is_return_dataframe \u001b[38;5;241m=\u001b[39m \u001b[38;5;28misinstance\u001b[39m(return_type, DataFrameType)\n\u001b[1;32m    391\u001b[0m     \u001b[38;5;28;01mif\u001b[39;00m \u001b[38;5;129;01mnot\u001b[39;00m is_return_dataframe:\n",
        "File \u001b[0;32m/databricks/spark/python/pyspark/pandas/typedef/typehints.py:608\u001b[0m, in \u001b[0;36minfer_return_type\u001b[0;34m(f)\u001b[0m\n\u001b[1;32m    604\u001b[0m \u001b[38;5;28;01melse\u001b[39;00m:\n\u001b[1;32m    605\u001b[0m     \u001b[38;5;66;03m# No type hint for index.\u001b[39;00m\n\u001b[1;32m    606\u001b[0m     \u001b[38;5;28;01massert\u001b[39;00m \u001b[38;5;28mlen\u001b[39m(index_parameters) \u001b[38;5;241m==\u001b[39m \u001b[38;5;241m0\u001b[39m\n\u001b[0;32m--> 608\u001b[0m data_dtypes, data_spark_types \u001b[38;5;241m=\u001b[39m \u001b[38;5;28;43mzip\u001b[39;49m\u001b[43m(\u001b[49m\n\u001b[1;32m    609\u001b[0m \u001b[43m    \u001b[49m\u001b[38;5;241;43m*\u001b[39;49m\u001b[43m(\u001b[49m\n\u001b[1;32m    610\u001b[0m \u001b[43m        \u001b[49m\u001b[43mpandas_on_spark_type\u001b[49m\u001b[43m(\u001b[49m\u001b[43mp\u001b[49m\u001b[38;5;241;43m.\u001b[39;49m\u001b[43mtpe\u001b[49m\u001b[43m)\u001b[49m\n\u001b[1;32m    611\u001b[0m \u001b[43m        \u001b[49m\u001b[38;5;28;43;01mif\u001b[39;49;00m\u001b[43m \u001b[49m\u001b[43misclass\u001b[49m\u001b[43m(\u001b[49m\u001b[43mp\u001b[49m\u001b[43m)\u001b[49m\u001b[43m \u001b[49m\u001b[38;5;129;43;01mand\u001b[39;49;00m\u001b[43m \u001b[49m\u001b[38;5;28;43missubclass\u001b[39;49m\u001b[43m(\u001b[49m\u001b[43mp\u001b[49m\u001b[43m,\u001b[49m\u001b[43m \u001b[49m\u001b[43mNameTypeHolder\u001b[49m\u001b[43m)\u001b[49m\n\u001b[1;32m    612\u001b[0m \u001b[43m        \u001b[49m\u001b[38;5;28;43;01melse\u001b[39;49;00m\u001b[43m \u001b[49m\u001b[43mpandas_on_spark_type\u001b[49m\u001b[43m(\u001b[49m\u001b[43mp\u001b[49m\u001b[43m)\u001b[49m\n\u001b[1;32m    613\u001b[0m \u001b[43m        \u001b[49m\u001b[38;5;28;43;01mfor\u001b[39;49;00m\u001b[43m \u001b[49m\u001b[43mp\u001b[49m\u001b[43m \u001b[49m\u001b[38;5;129;43;01min\u001b[39;49;00m\u001b[43m \u001b[49m\u001b[43mdata_parameters\u001b[49m\n\u001b[1;32m    614\u001b[0m \u001b[43m    \u001b[49m\u001b[43m)\u001b[49m\n\u001b[1;32m    615\u001b[0m \u001b[43m\u001b[49m\u001b[43m)\u001b[49m\n\u001b[1;32m    616\u001b[0m data_names \u001b[38;5;241m=\u001b[39m [\n\u001b[1;32m    617\u001b[0m     p\u001b[38;5;241m.\u001b[39mname \u001b[38;5;28;01mif\u001b[39;00m isclass(p) \u001b[38;5;129;01mand\u001b[39;00m \u001b[38;5;28missubclass\u001b[39m(p, NameTypeHolder) \u001b[38;5;28;01melse\u001b[39;00m \u001b[38;5;28;01mNone\u001b[39;00m\n\u001b[1;32m    618\u001b[0m     \u001b[38;5;28;01mfor\u001b[39;00m p \u001b[38;5;129;01min\u001b[39;00m data_parameters\n\u001b[1;32m    619\u001b[0m ]\n\u001b[1;32m    620\u001b[0m data_fields \u001b[38;5;241m=\u001b[39m []\n",
        "File \u001b[0;32m/databricks/spark/python/pyspark/pandas/typedef/typehints.py:610\u001b[0m, in \u001b[0;36m<genexpr>\u001b[0;34m(.0)\u001b[0m\n\u001b[1;32m    604\u001b[0m \u001b[38;5;28;01melse\u001b[39;00m:\n\u001b[1;32m    605\u001b[0m     \u001b[38;5;66;03m# No type hint for index.\u001b[39;00m\n\u001b[1;32m    606\u001b[0m     \u001b[38;5;28;01massert\u001b[39;00m \u001b[38;5;28mlen\u001b[39m(index_parameters) \u001b[38;5;241m==\u001b[39m \u001b[38;5;241m0\u001b[39m\n\u001b[1;32m    608\u001b[0m data_dtypes, data_spark_types \u001b[38;5;241m=\u001b[39m \u001b[38;5;28mzip\u001b[39m(\n\u001b[1;32m    609\u001b[0m     \u001b[38;5;241m*\u001b[39m(\n\u001b[0;32m--> 610\u001b[0m         \u001b[43mpandas_on_spark_type\u001b[49m\u001b[43m(\u001b[49m\u001b[43mp\u001b[49m\u001b[38;5;241;43m.\u001b[39;49m\u001b[43mtpe\u001b[49m\u001b[43m)\u001b[49m\n\u001b[1;32m    611\u001b[0m         \u001b[38;5;28;01mif\u001b[39;00m isclass(p) \u001b[38;5;129;01mand\u001b[39;00m \u001b[38;5;28missubclass\u001b[39m(p, NameTypeHolder)\n\u001b[1;32m    612\u001b[0m         \u001b[38;5;28;01melse\u001b[39;00m pandas_on_spark_type(p)\n\u001b[1;32m    613\u001b[0m         \u001b[38;5;28;01mfor\u001b[39;00m p \u001b[38;5;129;01min\u001b[39;00m data_parameters\n\u001b[1;32m    614\u001b[0m     )\n\u001b[1;32m    615\u001b[0m )\n\u001b[1;32m    616\u001b[0m data_names \u001b[38;5;241m=\u001b[39m [\n\u001b[1;32m    617\u001b[0m     p\u001b[38;5;241m.\u001b[39mname \u001b[38;5;28;01mif\u001b[39;00m isclass(p) \u001b[38;5;129;01mand\u001b[39;00m \u001b[38;5;28missubclass\u001b[39m(p, NameTypeHolder) \u001b[38;5;28;01melse\u001b[39;00m \u001b[38;5;28;01mNone\u001b[39;00m\n\u001b[1;32m    618\u001b[0m     \u001b[38;5;28;01mfor\u001b[39;00m p \u001b[38;5;129;01min\u001b[39;00m data_parameters\n\u001b[1;32m    619\u001b[0m ]\n\u001b[1;32m    620\u001b[0m data_fields \u001b[38;5;241m=\u001b[39m []\n",
        "File \u001b[0;32m/databricks/spark/python/pyspark/pandas/typedef/typehints.py:340\u001b[0m, in \u001b[0;36mpandas_on_spark_type\u001b[0;34m(tpe)\u001b[0m\n\u001b[1;32m    338\u001b[0m     spark_type \u001b[38;5;241m=\u001b[39m as_spark_type(dtype)\n\u001b[1;32m    339\u001b[0m \u001b[38;5;28;01mexcept\u001b[39;00m \u001b[38;5;167;01mTypeError\u001b[39;00m:\n\u001b[0;32m--> 340\u001b[0m     spark_type \u001b[38;5;241m=\u001b[39m \u001b[43mas_spark_type\u001b[49m\u001b[43m(\u001b[49m\u001b[43mtpe\u001b[49m\u001b[43m)\u001b[49m\n\u001b[1;32m    341\u001b[0m     dtype \u001b[38;5;241m=\u001b[39m spark_type_to_pandas_dtype(spark_type)\n\u001b[1;32m    342\u001b[0m \u001b[38;5;28;01mreturn\u001b[39;00m dtype, spark_type\n",
        "File \u001b[0;32m/databricks/spark/python/pyspark/pandas/typedef/typehints.py:248\u001b[0m, in \u001b[0;36mas_spark_type\u001b[0;34m(tpe, raise_error, prefer_timestamp_ntz)\u001b[0m\n\u001b[1;32m    245\u001b[0m             \u001b[38;5;28;01mreturn\u001b[39;00m types\u001b[38;5;241m.\u001b[39mDoubleType()\n\u001b[1;32m    247\u001b[0m \u001b[38;5;28;01mif\u001b[39;00m raise_error:\n\u001b[0;32m--> 248\u001b[0m     \u001b[38;5;28;01mraise\u001b[39;00m \u001b[38;5;167;01mTypeError\u001b[39;00m(\u001b[38;5;124m\"\u001b[39m\u001b[38;5;124mType \u001b[39m\u001b[38;5;132;01m%s\u001b[39;00m\u001b[38;5;124m was not understood.\u001b[39m\u001b[38;5;124m\"\u001b[39m \u001b[38;5;241m%\u001b[39m tpe)\n\u001b[1;32m    249\u001b[0m \u001b[38;5;28;01melse\u001b[39;00m:\n\u001b[1;32m    250\u001b[0m     \u001b[38;5;28;01mreturn\u001b[39;00m \u001b[38;5;28;01mNone\u001b[39;00m\n",
        "\u001b[0;31mTypeError\u001b[0m: Type <class 'numpy.object_'> was not understood."
       ],
       "type": "baseError"
      }
     },
     "output_type": "display_data"
    }
   ],
   "source": [
    "ts.between_time('0:15', '0:16')"
   ]
  },
  {
   "cell_type": "code",
   "execution_count": null,
   "metadata": {
    "application/vnd.databricks.v1+cell": {
     "cellMetadata": {
      "byteLimit": 2048000,
      "rowLimit": 10000
     },
     "inputWidgets": {},
     "nuid": "da91e24a-9efe-4e0c-b9b5-8e97ce210432",
     "showTitle": false,
     "title": ""
    }
   },
   "outputs": [
    {
     "data": {
      "text/html": [
       "<div>\n",
       "<style scoped>\n",
       "    .dataframe tbody tr th:only-of-type {\n",
       "        vertical-align: middle;\n",
       "    }\n",
       "\n",
       "    .dataframe tbody tr th {\n",
       "        vertical-align: top;\n",
       "    }\n",
       "\n",
       "    .dataframe thead th {\n",
       "        text-align: right;\n",
       "    }\n",
       "</style>\n",
       "<table border=\"1\" class=\"dataframe\">\n",
       "  <thead>\n",
       "    <tr style=\"text-align: right;\">\n",
       "      <th></th>\n",
       "      <th>A</th>\n",
       "    </tr>\n",
       "  </thead>\n",
       "  <tbody>\n",
       "    <tr>\n",
       "      <th>2018-04-24 00:15:00</th>\n",
       "      <td>timestamp</td>\n",
       "    </tr>\n",
       "    <tr>\n",
       "      <th>2018-04-25 00:16:00</th>\n",
       "      <td>timestamp</td>\n",
       "    </tr>\n",
       "    <tr>\n",
       "      <th>2022-04-04 00:15:00</th>\n",
       "      <td>timestamp</td>\n",
       "    </tr>\n",
       "    <tr>\n",
       "      <th>2022-04-05 00:16:00</th>\n",
       "      <td>timestamp</td>\n",
       "    </tr>\n",
       "  </tbody>\n",
       "</table>\n",
       "</div>"
      ],
      "text/plain": [
       "                             A\n",
       "2018-04-24 00:15:00  timestamp\n",
       "2018-04-25 00:16:00  timestamp\n",
       "2022-04-04 00:15:00  timestamp\n",
       "2022-04-05 00:16:00  timestamp"
      ]
     },
     "execution_count": 88,
     "metadata": {},
     "output_type": "execute_result"
    }
   ],
   "source": [
    "ts.to_pandas().between_time('0:15', '0:16')"
   ]
  },
  {
   "cell_type": "code",
   "execution_count": null,
   "metadata": {
    "application/vnd.databricks.v1+cell": {
     "cellMetadata": {
      "byteLimit": 2048000,
      "rowLimit": 10000
     },
     "inputWidgets": {},
     "nuid": "5789e67e-2697-49ba-959b-fad590edebf0",
     "showTitle": false,
     "title": ""
    }
   },
   "outputs": [
    {
     "data": {
      "text/html": [
       "<div>\n",
       "<style scoped>\n",
       "    .dataframe tbody tr th:only-of-type {\n",
       "        vertical-align: middle;\n",
       "    }\n",
       "\n",
       "    .dataframe tbody tr th {\n",
       "        vertical-align: top;\n",
       "    }\n",
       "\n",
       "    .dataframe thead th {\n",
       "        text-align: right;\n",
       "    }\n",
       "</style>\n",
       "<table border=\"1\" class=\"dataframe\">\n",
       "  <thead>\n",
       "    <tr style=\"text-align: right;\">\n",
       "      <th></th>\n",
       "      <th>A</th>\n",
       "    </tr>\n",
       "  </thead>\n",
       "  <tbody>\n",
       "    <tr>\n",
       "      <th>2018-04-24 00:15:00</th>\n",
       "      <td>timestamp</td>\n",
       "    </tr>\n",
       "    <tr>\n",
       "      <th>2018-04-25 00:16:00</th>\n",
       "      <td>timestamp</td>\n",
       "    </tr>\n",
       "    <tr>\n",
       "      <th>2022-04-04 00:15:00</th>\n",
       "      <td>timestamp</td>\n",
       "    </tr>\n",
       "    <tr>\n",
       "      <th>2022-04-05 00:16:00</th>\n",
       "      <td>timestamp</td>\n",
       "    </tr>\n",
       "  </tbody>\n",
       "</table>\n",
       "</div>"
      ],
      "text/plain": [
       "                             A\n",
       "2018-04-24 00:15:00  timestamp\n",
       "2018-04-25 00:16:00  timestamp\n",
       "2022-04-04 00:15:00  timestamp\n",
       "2022-04-05 00:16:00  timestamp"
      ]
     },
     "execution_count": 89,
     "metadata": {},
     "output_type": "execute_result"
    }
   ],
   "source": [
    "# applying function to pandas on spark dataframe in batch wise manner\n",
    "ts.pandas_on_spark.apply_batch(func=lambda pdf: pdf.between_time('0:15', '0:16'))\n"
   ]
  },
  {
   "cell_type": "markdown",
   "metadata": {
    "application/vnd.databricks.v1+cell": {
     "cellMetadata": {},
     "inputWidgets": {},
     "nuid": "cc275c9c-2f23-4d27-b394-8dfdad5563ae",
     "showTitle": false,
     "title": ""
    }
   },
   "source": [
    "## Using SQL in pandas API on Spark"
   ]
  },
  {
   "cell_type": "code",
   "execution_count": null,
   "metadata": {
    "application/vnd.databricks.v1+cell": {
     "cellMetadata": {
      "byteLimit": 2048000,
      "rowLimit": 10000
     },
     "inputWidgets": {},
     "nuid": "7f063871-b669-4832-aac3-607cee68971d",
     "showTitle": false,
     "title": ""
    }
   },
   "outputs": [],
   "source": [
    "psdf = ps.DataFrame({'year': [1990, 1997, 2003, 2009, 2014],\n",
    "                     'rabbit': [20, 18, 489, 675, 1776],\n",
    "                     'horse': [4, 25, 281, 600, 1900]})"
   ]
  },
  {
   "cell_type": "code",
   "execution_count": null,
   "metadata": {
    "application/vnd.databricks.v1+cell": {
     "cellMetadata": {
      "byteLimit": 2048000,
      "rowLimit": 10000
     },
     "inputWidgets": {},
     "nuid": "45388b10-ff97-4892-bca3-d925452f7391",
     "showTitle": false,
     "title": ""
    }
   },
   "outputs": [],
   "source": [
    "pdf = pd.DataFrame({'year': [1990, 1997, 2003, 2009, 2014],\n",
    "                    'sheep': [22, 50, 121, 445, 791],\n",
    "                    'chicken': [250, 326, 589, 1241, 2118]})"
   ]
  },
  {
   "cell_type": "code",
   "execution_count": null,
   "metadata": {
    "application/vnd.databricks.v1+cell": {
     "cellMetadata": {
      "byteLimit": 2048000,
      "rowLimit": 10000
     },
     "inputWidgets": {},
     "nuid": "24799431-ba52-4962-9883-0a2970c97677",
     "showTitle": false,
     "title": ""
    }
   },
   "outputs": [
    {
     "data": {
      "text/html": [
       "<div>\n",
       "<style scoped>\n",
       "    .dataframe tbody tr th:only-of-type {\n",
       "        vertical-align: middle;\n",
       "    }\n",
       "\n",
       "    .dataframe tbody tr th {\n",
       "        vertical-align: top;\n",
       "    }\n",
       "\n",
       "    .dataframe thead th {\n",
       "        text-align: right;\n",
       "    }\n",
       "</style>\n",
       "<table border=\"1\" class=\"dataframe\">\n",
       "  <thead>\n",
       "    <tr style=\"text-align: right;\">\n",
       "      <th></th>\n",
       "      <th>year</th>\n",
       "      <th>rabbit</th>\n",
       "      <th>horse</th>\n",
       "    </tr>\n",
       "  </thead>\n",
       "  <tbody>\n",
       "    <tr>\n",
       "      <th>0</th>\n",
       "      <td>1990</td>\n",
       "      <td>20</td>\n",
       "      <td>4</td>\n",
       "    </tr>\n",
       "    <tr>\n",
       "      <th>1</th>\n",
       "      <td>1997</td>\n",
       "      <td>18</td>\n",
       "      <td>25</td>\n",
       "    </tr>\n",
       "    <tr>\n",
       "      <th>2</th>\n",
       "      <td>2003</td>\n",
       "      <td>489</td>\n",
       "      <td>281</td>\n",
       "    </tr>\n",
       "    <tr>\n",
       "      <th>3</th>\n",
       "      <td>2009</td>\n",
       "      <td>675</td>\n",
       "      <td>600</td>\n",
       "    </tr>\n",
       "    <tr>\n",
       "      <th>4</th>\n",
       "      <td>2014</td>\n",
       "      <td>1776</td>\n",
       "      <td>1900</td>\n",
       "    </tr>\n",
       "  </tbody>\n",
       "</table>\n",
       "</div>"
      ],
      "text/plain": [
       "   year  rabbit  horse\n",
       "0  1990      20      4\n",
       "1  1997      18     25\n",
       "2  2003     489    281\n",
       "3  2009     675    600\n",
       "4  2014    1776   1900"
      ]
     },
     "execution_count": 93,
     "metadata": {},
     "output_type": "execute_result"
    }
   ],
   "source": [
    "psdf"
   ]
  },
  {
   "cell_type": "code",
   "execution_count": null,
   "metadata": {
    "application/vnd.databricks.v1+cell": {
     "cellMetadata": {
      "byteLimit": 2048000,
      "rowLimit": 10000
     },
     "inputWidgets": {},
     "nuid": "aad9de14-c92b-48be-ba40-450a2455b83c",
     "showTitle": false,
     "title": ""
    }
   },
   "outputs": [
    {
     "data": {
      "text/html": [
       "<div>\n",
       "<style scoped>\n",
       "    .dataframe tbody tr th:only-of-type {\n",
       "        vertical-align: middle;\n",
       "    }\n",
       "\n",
       "    .dataframe tbody tr th {\n",
       "        vertical-align: top;\n",
       "    }\n",
       "\n",
       "    .dataframe thead th {\n",
       "        text-align: right;\n",
       "    }\n",
       "</style>\n",
       "<table border=\"1\" class=\"dataframe\">\n",
       "  <thead>\n",
       "    <tr style=\"text-align: right;\">\n",
       "      <th></th>\n",
       "      <th>year</th>\n",
       "      <th>sheep</th>\n",
       "      <th>chicken</th>\n",
       "    </tr>\n",
       "  </thead>\n",
       "  <tbody>\n",
       "    <tr>\n",
       "      <th>0</th>\n",
       "      <td>1990</td>\n",
       "      <td>22</td>\n",
       "      <td>250</td>\n",
       "    </tr>\n",
       "    <tr>\n",
       "      <th>1</th>\n",
       "      <td>1997</td>\n",
       "      <td>50</td>\n",
       "      <td>326</td>\n",
       "    </tr>\n",
       "    <tr>\n",
       "      <th>2</th>\n",
       "      <td>2003</td>\n",
       "      <td>121</td>\n",
       "      <td>589</td>\n",
       "    </tr>\n",
       "    <tr>\n",
       "      <th>3</th>\n",
       "      <td>2009</td>\n",
       "      <td>445</td>\n",
       "      <td>1241</td>\n",
       "    </tr>\n",
       "    <tr>\n",
       "      <th>4</th>\n",
       "      <td>2014</td>\n",
       "      <td>791</td>\n",
       "      <td>2118</td>\n",
       "    </tr>\n",
       "  </tbody>\n",
       "</table>\n",
       "</div>"
      ],
      "text/plain": [
       "   year  sheep  chicken\n",
       "0  1990     22      250\n",
       "1  1997     50      326\n",
       "2  2003    121      589\n",
       "3  2009    445     1241\n",
       "4  2014    791     2118"
      ]
     },
     "execution_count": 94,
     "metadata": {},
     "output_type": "execute_result"
    }
   ],
   "source": [
    "pdf"
   ]
  },
  {
   "cell_type": "code",
   "execution_count": null,
   "metadata": {
    "application/vnd.databricks.v1+cell": {
     "cellMetadata": {
      "byteLimit": 2048000,
      "rowLimit": 10000
     },
     "inputWidgets": {},
     "nuid": "b3c67f98-f60f-4bc4-bcfa-1609a9ecc89c",
     "showTitle": false,
     "title": ""
    }
   },
   "outputs": [
    {
     "data": {
      "text/html": [
       "<div>\n",
       "<style scoped>\n",
       "    .dataframe tbody tr th:only-of-type {\n",
       "        vertical-align: middle;\n",
       "    }\n",
       "\n",
       "    .dataframe tbody tr th {\n",
       "        vertical-align: top;\n",
       "    }\n",
       "\n",
       "    .dataframe thead th {\n",
       "        text-align: right;\n",
       "    }\n",
       "</style>\n",
       "<table border=\"1\" class=\"dataframe\">\n",
       "  <thead>\n",
       "    <tr style=\"text-align: right;\">\n",
       "      <th></th>\n",
       "      <th>year</th>\n",
       "      <th>rabbit</th>\n",
       "      <th>horse</th>\n",
       "    </tr>\n",
       "  </thead>\n",
       "  <tbody>\n",
       "    <tr>\n",
       "      <th>0</th>\n",
       "      <td>2003</td>\n",
       "      <td>489</td>\n",
       "      <td>281</td>\n",
       "    </tr>\n",
       "    <tr>\n",
       "      <th>1</th>\n",
       "      <td>2009</td>\n",
       "      <td>675</td>\n",
       "      <td>600</td>\n",
       "    </tr>\n",
       "    <tr>\n",
       "      <th>2</th>\n",
       "      <td>2014</td>\n",
       "      <td>1776</td>\n",
       "      <td>1900</td>\n",
       "    </tr>\n",
       "  </tbody>\n",
       "</table>\n",
       "</div>"
      ],
      "text/plain": [
       "   year  rabbit  horse\n",
       "0  2003     489    281\n",
       "1  2009     675    600\n",
       "2  2014    1776   1900"
      ]
     },
     "execution_count": 95,
     "metadata": {},
     "output_type": "execute_result"
    }
   ],
   "source": [
    "ps.sql(\"SELECT * FROM {psdf} WHERE rabbit > 100\", psdf=psdf)"
   ]
  },
  {
   "cell_type": "code",
   "execution_count": null,
   "metadata": {
    "application/vnd.databricks.v1+cell": {
     "cellMetadata": {
      "byteLimit": 2048000,
      "rowLimit": 10000
     },
     "inputWidgets": {},
     "nuid": "34c9bafc-462b-4a3e-99d4-eba6d7a29e7e",
     "showTitle": false,
     "title": ""
    }
   },
   "outputs": [
    {
     "data": {
      "text/html": [
       "<div>\n",
       "<style scoped>\n",
       "    .dataframe tbody tr th:only-of-type {\n",
       "        vertical-align: middle;\n",
       "    }\n",
       "\n",
       "    .dataframe tbody tr th {\n",
       "        vertical-align: top;\n",
       "    }\n",
       "\n",
       "    .dataframe thead th {\n",
       "        text-align: right;\n",
       "    }\n",
       "</style>\n",
       "<table border=\"1\" class=\"dataframe\">\n",
       "  <thead>\n",
       "    <tr style=\"text-align: right;\">\n",
       "      <th></th>\n",
       "      <th>rabbit</th>\n",
       "      <th>chicken</th>\n",
       "    </tr>\n",
       "  </thead>\n",
       "  <tbody>\n",
       "    <tr>\n",
       "      <th>0</th>\n",
       "      <td>18</td>\n",
       "      <td>326</td>\n",
       "    </tr>\n",
       "    <tr>\n",
       "      <th>1</th>\n",
       "      <td>20</td>\n",
       "      <td>250</td>\n",
       "    </tr>\n",
       "    <tr>\n",
       "      <th>2</th>\n",
       "      <td>489</td>\n",
       "      <td>589</td>\n",
       "    </tr>\n",
       "    <tr>\n",
       "      <th>3</th>\n",
       "      <td>675</td>\n",
       "      <td>1241</td>\n",
       "    </tr>\n",
       "    <tr>\n",
       "      <th>4</th>\n",
       "      <td>1776</td>\n",
       "      <td>2118</td>\n",
       "    </tr>\n",
       "  </tbody>\n",
       "</table>\n",
       "</div>"
      ],
      "text/plain": [
       "   rabbit  chicken\n",
       "0      18      326\n",
       "1      20      250\n",
       "2     489      589\n",
       "3     675     1241\n",
       "4    1776     2118"
      ]
     },
     "execution_count": 97,
     "metadata": {},
     "output_type": "execute_result"
    }
   ],
   "source": [
    "ps.sql('''\n",
    "       SELECT ps.rabbit, pd.chicken\n",
    "       FROM {psdf} ps INNER JOIN {pdf} pd\n",
    "       ON ps.year=pd.year\n",
    "       ORDER BY ps.rabbit, pd.chicken''', psdf=psdf, pdf=pdf)"
   ]
  },
  {
   "cell_type": "markdown",
   "metadata": {
    "application/vnd.databricks.v1+cell": {
     "cellMetadata": {},
     "inputWidgets": {},
     "nuid": "b3b1ceb7-3ed2-4a14-bde7-fa377396405c",
     "showTitle": false,
     "title": ""
    }
   },
   "source": [
    "# Working with PySpark"
   ]
  },
  {
   "cell_type": "markdown",
   "metadata": {
    "application/vnd.databricks.v1+cell": {
     "cellMetadata": {},
     "inputWidgets": {},
     "nuid": "4d6e3bee-cd10-49d3-95be-8eaacfc1f6dc",
     "showTitle": false,
     "title": ""
    }
   },
   "source": [
    "## Conversion from and to PySpark DataFrame"
   ]
  },
  {
   "cell_type": "code",
   "execution_count": null,
   "metadata": {
    "application/vnd.databricks.v1+cell": {
     "cellMetadata": {
      "byteLimit": 2048000,
      "rowLimit": 10000
     },
     "inputWidgets": {},
     "nuid": "1a260540-10a8-4ffc-a8d0-9be946e103d6",
     "showTitle": false,
     "title": ""
    }
   },
   "outputs": [],
   "source": [
    "# Creating a pandas-on-spark DataFrame\n",
    "psdf = ps.DataFrame({'A': [1, 2, 3, 4, 5], 'B': [10, 20, 30, 40, 50]})"
   ]
  },
  {
   "cell_type": "code",
   "execution_count": null,
   "metadata": {
    "application/vnd.databricks.v1+cell": {
     "cellMetadata": {
      "byteLimit": 2048000,
      "rowLimit": 10000
     },
     "inputWidgets": {},
     "nuid": "50cab18c-6b6f-4b65-b590-42e3a7ba7a3a",
     "showTitle": false,
     "title": ""
    }
   },
   "outputs": [
    {
     "data": {
      "text/html": [
       "<div>\n",
       "<style scoped>\n",
       "    .dataframe tbody tr th:only-of-type {\n",
       "        vertical-align: middle;\n",
       "    }\n",
       "\n",
       "    .dataframe tbody tr th {\n",
       "        vertical-align: top;\n",
       "    }\n",
       "\n",
       "    .dataframe thead th {\n",
       "        text-align: right;\n",
       "    }\n",
       "</style>\n",
       "<table border=\"1\" class=\"dataframe\">\n",
       "  <thead>\n",
       "    <tr style=\"text-align: right;\">\n",
       "      <th></th>\n",
       "      <th>A</th>\n",
       "      <th>B</th>\n",
       "    </tr>\n",
       "  </thead>\n",
       "  <tbody>\n",
       "    <tr>\n",
       "      <th>0</th>\n",
       "      <td>1</td>\n",
       "      <td>10</td>\n",
       "    </tr>\n",
       "    <tr>\n",
       "      <th>1</th>\n",
       "      <td>2</td>\n",
       "      <td>20</td>\n",
       "    </tr>\n",
       "    <tr>\n",
       "      <th>2</th>\n",
       "      <td>3</td>\n",
       "      <td>30</td>\n",
       "    </tr>\n",
       "    <tr>\n",
       "      <th>3</th>\n",
       "      <td>4</td>\n",
       "      <td>40</td>\n",
       "    </tr>\n",
       "    <tr>\n",
       "      <th>4</th>\n",
       "      <td>5</td>\n",
       "      <td>50</td>\n",
       "    </tr>\n",
       "  </tbody>\n",
       "</table>\n",
       "</div>"
      ],
      "text/plain": [
       "   A   B\n",
       "0  1  10\n",
       "1  2  20\n",
       "2  3  30\n",
       "3  4  40\n",
       "4  5  50"
      ]
     },
     "execution_count": 99,
     "metadata": {},
     "output_type": "execute_result"
    }
   ],
   "source": [
    "psdf"
   ]
  },
  {
   "cell_type": "code",
   "execution_count": null,
   "metadata": {
    "application/vnd.databricks.v1+cell": {
     "cellMetadata": {
      "byteLimit": 2048000,
      "rowLimit": 10000
     },
     "inputWidgets": {},
     "nuid": "a6963369-1131-4290-b2af-7fa401893eef",
     "showTitle": false,
     "title": ""
    }
   },
   "outputs": [
    {
     "data": {
      "text/plain": [
       "pyspark.pandas.frame.DataFrame"
      ]
     },
     "execution_count": 103,
     "metadata": {},
     "output_type": "execute_result"
    }
   ],
   "source": [
    "type(psdf)"
   ]
  },
  {
   "cell_type": "code",
   "execution_count": null,
   "metadata": {
    "application/vnd.databricks.v1+cell": {
     "cellMetadata": {
      "byteLimit": 2048000,
      "rowLimit": 10000
     },
     "inputWidgets": {},
     "nuid": "f75d5e0c-2b39-44f2-b928-d374e581103b",
     "showTitle": false,
     "title": ""
    }
   },
   "outputs": [],
   "source": [
    "\n",
    "# Converting pandas-on-spark DataFrame to Spark DataFrame\n",
    "sdf = psdf.to_spark()"
   ]
  },
  {
   "cell_type": "code",
   "execution_count": null,
   "metadata": {
    "application/vnd.databricks.v1+cell": {
     "cellMetadata": {
      "byteLimit": 2048000,
      "rowLimit": 10000
     },
     "inputWidgets": {},
     "nuid": "c417b593-399a-4f91-9bd9-70855bd37906",
     "showTitle": false,
     "title": ""
    }
   },
   "outputs": [
    {
     "data": {
      "text/plain": [
       "DataFrame[A: bigint, B: bigint]"
      ]
     },
     "execution_count": 101,
     "metadata": {},
     "output_type": "execute_result"
    }
   ],
   "source": [
    "sdf"
   ]
  },
  {
   "cell_type": "code",
   "execution_count": null,
   "metadata": {
    "application/vnd.databricks.v1+cell": {
     "cellMetadata": {
      "byteLimit": 2048000,
      "rowLimit": 10000
     },
     "inputWidgets": {},
     "nuid": "4e1b5f31-b08c-4083-9e40-e322e7b29048",
     "showTitle": false,
     "title": ""
    }
   },
   "outputs": [
    {
     "name": "stdout",
     "output_type": "stream",
     "text": [
      "+---+---+\n",
      "|  A|  B|\n",
      "+---+---+\n",
      "|  1| 10|\n",
      "|  2| 20|\n",
      "|  3| 30|\n",
      "|  4| 40|\n",
      "|  5| 50|\n",
      "+---+---+\n",
      "\n"
     ]
    }
   ],
   "source": [
    "sdf.show()"
   ]
  },
  {
   "cell_type": "code",
   "execution_count": null,
   "metadata": {
    "application/vnd.databricks.v1+cell": {
     "cellMetadata": {
      "byteLimit": 2048000,
      "rowLimit": 10000
     },
     "inputWidgets": {},
     "nuid": "3d5b3495-c010-444f-a11f-b8d4b59f1594",
     "showTitle": false,
     "title": ""
    }
   },
   "outputs": [
    {
     "data": {
      "text/plain": [
       "pyspark.sql.dataframe.DataFrame"
      ]
     },
     "execution_count": 104,
     "metadata": {},
     "output_type": "execute_result"
    }
   ],
   "source": [
    "type(sdf)"
   ]
  },
  {
   "cell_type": "code",
   "execution_count": null,
   "metadata": {
    "application/vnd.databricks.v1+cell": {
     "cellMetadata": {
      "byteLimit": 2048000,
      "rowLimit": 10000
     },
     "inputWidgets": {},
     "nuid": "95f3a211-5a97-4045-9b92-3ad9e899a5cf",
     "showTitle": false,
     "title": ""
    }
   },
   "outputs": [
    {
     "name": "stderr",
     "output_type": "stream",
     "text": [
      "/databricks/spark/python/pyspark/sql/dataframe.py:6864: FutureWarning:\n",
      "\n",
      "DataFrame.to_pandas_on_spark is deprecated. Use DataFrame.pandas_api instead.\n",
      "\n"
     ]
    }
   ],
   "source": [
    "psdf_2 = sdf.to_pandas_on_spark()"
   ]
  },
  {
   "cell_type": "code",
   "execution_count": null,
   "metadata": {
    "application/vnd.databricks.v1+cell": {
     "cellMetadata": {
      "byteLimit": 2048000,
      "rowLimit": 10000
     },
     "inputWidgets": {},
     "nuid": "049e2b02-8547-41f4-8548-6e09c35c4b7a",
     "showTitle": false,
     "title": ""
    }
   },
   "outputs": [
    {
     "data": {
      "text/plain": [
       "pyspark.pandas.frame.DataFrame"
      ]
     },
     "execution_count": 106,
     "metadata": {},
     "output_type": "execute_result"
    }
   ],
   "source": [
    "type(psdf_2)"
   ]
  },
  {
   "cell_type": "code",
   "execution_count": null,
   "metadata": {
    "application/vnd.databricks.v1+cell": {
     "cellMetadata": {
      "byteLimit": 2048000,
      "rowLimit": 10000
     },
     "inputWidgets": {},
     "nuid": "a9ce9cb2-9507-44c3-91bc-7310d41dcf73",
     "showTitle": false,
     "title": ""
    }
   },
   "outputs": [],
   "source": [
    "psdf_3 = sdf.pandas_api()"
   ]
  },
  {
   "cell_type": "code",
   "execution_count": null,
   "metadata": {
    "application/vnd.databricks.v1+cell": {
     "cellMetadata": {
      "byteLimit": 2048000,
      "rowLimit": 10000
     },
     "inputWidgets": {},
     "nuid": "48e2857d-5080-47a8-a21a-115b6699d1ae",
     "showTitle": false,
     "title": ""
    }
   },
   "outputs": [
    {
     "data": {
      "text/html": [
       "<div>\n",
       "<style scoped>\n",
       "    .dataframe tbody tr th:only-of-type {\n",
       "        vertical-align: middle;\n",
       "    }\n",
       "\n",
       "    .dataframe tbody tr th {\n",
       "        vertical-align: top;\n",
       "    }\n",
       "\n",
       "    .dataframe thead th {\n",
       "        text-align: right;\n",
       "    }\n",
       "</style>\n",
       "<table border=\"1\" class=\"dataframe\">\n",
       "  <thead>\n",
       "    <tr style=\"text-align: right;\">\n",
       "      <th></th>\n",
       "      <th>A</th>\n",
       "      <th>B</th>\n",
       "    </tr>\n",
       "  </thead>\n",
       "  <tbody>\n",
       "    <tr>\n",
       "      <th>0</th>\n",
       "      <td>1</td>\n",
       "      <td>10</td>\n",
       "    </tr>\n",
       "    <tr>\n",
       "      <th>1</th>\n",
       "      <td>2</td>\n",
       "      <td>20</td>\n",
       "    </tr>\n",
       "    <tr>\n",
       "      <th>2</th>\n",
       "      <td>3</td>\n",
       "      <td>30</td>\n",
       "    </tr>\n",
       "    <tr>\n",
       "      <th>3</th>\n",
       "      <td>4</td>\n",
       "      <td>40</td>\n",
       "    </tr>\n",
       "    <tr>\n",
       "      <th>4</th>\n",
       "      <td>5</td>\n",
       "      <td>50</td>\n",
       "    </tr>\n",
       "  </tbody>\n",
       "</table>\n",
       "</div>"
      ],
      "text/plain": [
       "   A   B\n",
       "0  1  10\n",
       "1  2  20\n",
       "2  3  30\n",
       "3  4  40\n",
       "4  5  50"
      ]
     },
     "execution_count": 108,
     "metadata": {},
     "output_type": "execute_result"
    }
   ],
   "source": [
    "psdf_3"
   ]
  },
  {
   "cell_type": "code",
   "execution_count": null,
   "metadata": {
    "application/vnd.databricks.v1+cell": {
     "cellMetadata": {
      "byteLimit": 2048000,
      "rowLimit": 10000
     },
     "inputWidgets": {},
     "nuid": "06f6896a-d781-4f56-bdbe-055f5cc09cac",
     "showTitle": false,
     "title": ""
    }
   },
   "outputs": [
    {
     "data": {
      "text/plain": [
       "pyspark.pandas.frame.DataFrame"
      ]
     },
     "execution_count": 109,
     "metadata": {},
     "output_type": "execute_result"
    }
   ],
   "source": [
    "type(psdf_3)"
   ]
  },
  {
   "cell_type": "markdown",
   "metadata": {
    "application/vnd.databricks.v1+cell": {
     "cellMetadata": {},
     "inputWidgets": {},
     "nuid": "3a013379-5bd6-484b-9f0c-28facde46e84",
     "showTitle": false,
     "title": ""
    }
   },
   "source": [
    "## Checking Spark execution plans"
   ]
  },
  {
   "cell_type": "code",
   "execution_count": null,
   "metadata": {
    "application/vnd.databricks.v1+cell": {
     "cellMetadata": {
      "byteLimit": 2048000,
      "rowLimit": 10000
     },
     "inputWidgets": {},
     "nuid": "86ad56b0-6e56-411a-9039-8fe693acbb61",
     "showTitle": false,
     "title": ""
    }
   },
   "outputs": [
    {
     "name": "stdout",
     "output_type": "stream",
     "text": [
      "== Physical Plan ==\n",
      "AdaptiveSparkPlan isFinalPlan=false\n",
      "+- Project [coalesce(__this___index_level_0__#2415L, __that___index_level_0__#2423L) AS __index_level_0__#2428L, (__this_id#2416L + __that_id#2424L) AS id#2458L]\n",
      "   +- SortMergeJoin [__this___index_level_0__#2415L], [__that___index_level_0__#2423L], FullOuter\n",
      "      :- Sort [__this___index_level_0__#2415L ASC NULLS FIRST], false, 0\n",
      "      :  +- Exchange hashpartitioning(__this___index_level_0__#2415L, 200), ENSURE_REQUIREMENTS, [plan_id=3831]\n",
      "      :     +- Project [__index_level_0__#2392L AS __this___index_level_0__#2415L, id#2390L AS __this_id#2416L]\n",
      "      :        +- Project [distributed_index() AS __index_level_0__#2392L, id#2390L]\n",
      "      :           +- Range (0, 10, step=1, splits=8)\n",
      "      +- Sort [__that___index_level_0__#2423L ASC NULLS FIRST], false, 0\n",
      "         +- Exchange hashpartitioning(__that___index_level_0__#2423L, 200), ENSURE_REQUIREMENTS, [plan_id=3832]\n",
      "            +- Project [__index_level_0__#2403L AS __that___index_level_0__#2423L, id#2401L AS __that_id#2424L]\n",
      "               +- Project [distributed_index() AS __index_level_0__#2403L, id#2401L]\n",
      "                  +- Range (0, 10, step=1, splits=8)\n",
      "\n",
      "\n"
     ]
    }
   ],
   "source": [
    "# option_context : Context Manager from pandas on spark library\n",
    "# used to set temporary options for pandas-on-spark dataframe\n",
    "from pyspark.pandas import option_context\n",
    " \n",
    "with option_context(\n",
    "        \"compute.ops_on_diff_frames\", True,\n",
    "        \"compute.default_index_type\", 'distributed'):\n",
    "    df = ps.range(10) + ps.range(10)\n",
    "    df.spark.explain()"
   ]
  },
  {
   "cell_type": "code",
   "execution_count": null,
   "metadata": {
    "application/vnd.databricks.v1+cell": {
     "cellMetadata": {
      "byteLimit": 2048000,
      "rowLimit": 10000
     },
     "inputWidgets": {},
     "nuid": "86b7ff36-8a31-4653-bf8a-e27220786686",
     "showTitle": false,
     "title": ""
    }
   },
   "outputs": [
    {
     "name": "stdout",
     "output_type": "stream",
     "text": [
      "== Physical Plan ==\n",
      "*(1) Project [__index_level_0__#2463L, (id#2461L + id#2461L) AS id#2475L]\n",
      "+- *(1) Project [distributed_index() AS __index_level_0__#2463L, id#2461L]\n",
      "   +- *(1) Range (0, 10, step=1, splits=8)\n",
      "\n",
      "\n"
     ]
    }
   ],
   "source": [
    "\n",
    "with option_context(\n",
    "        \"compute.ops_on_diff_frames\", False,\n",
    "        \"compute.default_index_type\", 'distributed'):\n",
    "    df = ps.range(10)\n",
    "    df = df + df\n",
    "    df.spark.explain()"
   ]
  },
  {
   "cell_type": "markdown",
   "metadata": {
    "application/vnd.databricks.v1+cell": {
     "cellMetadata": {},
     "inputWidgets": {},
     "nuid": "40743c73-12ab-45c7-9ae4-1f7bd5276d2f",
     "showTitle": false,
     "title": ""
    }
   },
   "source": [
    "## Caching DataFrames"
   ]
  },
  {
   "cell_type": "code",
   "execution_count": null,
   "metadata": {
    "application/vnd.databricks.v1+cell": {
     "cellMetadata": {
      "byteLimit": 2048000,
      "rowLimit": 10000
     },
     "inputWidgets": {},
     "nuid": "50a07155-4fa1-4b0d-b1c6-77384a4bef5d",
     "showTitle": false,
     "title": ""
    }
   },
   "outputs": [
    {
     "name": "stdout",
     "output_type": "stream",
     "text": [
      "== Physical Plan ==\n",
      "InMemoryTableScan [__index_level_0__#2480L, id#2492L]\n",
      "   +- InMemoryRelation [__index_level_0__#2480L, id#2492L, __natural_order__#2483L], StorageLevel(disk, memory, deserialized, 1 replicas)\n",
      "         +- *(1) Project [__index_level_0__#2480L, (id#2478L + id#2478L) AS id#2492L, __natural_order__#2483L]\n",
      "            +- *(1) Project [__index_level_0__#2480L, id#2478L, monotonically_increasing_id() AS __natural_order__#2483L]\n",
      "               +- *(1) Project [distributed_index() AS __index_level_0__#2480L, id#2478L]\n",
      "                  +- *(1) Range (0, 10, step=1, splits=8)\n",
      "\n",
      "\n"
     ]
    }
   ],
   "source": [
    "\n",
    "with option_context(\"compute.default_index_type\", 'distributed'):\n",
    "    df = ps.range(10)\n",
    "    new_df = (df + df).spark.cache()  # `(df + df)` is cached here as `df`\n",
    "    new_df.spark.explain()"
   ]
  },
  {
   "cell_type": "code",
   "execution_count": null,
   "metadata": {
    "application/vnd.databricks.v1+cell": {
     "cellMetadata": {
      "byteLimit": 2048000,
      "rowLimit": 10000
     },
     "inputWidgets": {},
     "nuid": "98c96c46-9dfe-454e-89dd-2e74205eed05",
     "showTitle": false,
     "title": ""
    }
   },
   "outputs": [],
   "source": [
    "new_df.spark.unpersist()"
   ]
  },
  {
   "cell_type": "code",
   "execution_count": null,
   "metadata": {
    "application/vnd.databricks.v1+cell": {
     "cellMetadata": {
      "byteLimit": 2048000,
      "rowLimit": 10000
     },
     "inputWidgets": {},
     "nuid": "5eb84283-2c8f-4274-aec3-20bb18e7e94e",
     "showTitle": false,
     "title": ""
    }
   },
   "outputs": [
    {
     "name": "stdout",
     "output_type": "stream",
     "text": [
      "== Physical Plan ==\n",
      "InMemoryTableScan [__index_level_0__#2480L, id#2572L]\n",
      "   +- InMemoryRelation [__index_level_0__#2480L, id#2572L, __natural_order__#2483L], StorageLevel(disk, memory, deserialized, 1 replicas)\n",
      "         +- *(1) Project [__index_level_0__#2480L, (id#2478L + id#2478L) AS id#2572L, __natural_order__#2483L]\n",
      "            +- *(1) Project [__index_level_0__#2480L, id#2478L, monotonically_increasing_id() AS __natural_order__#2483L]\n",
      "               +- *(1) Project [distributed_index() AS __index_level_0__#2480L, id#2478L]\n",
      "                  +- *(1) Range (0, 10, step=1, splits=8)\n",
      "\n",
      "\n"
     ]
    }
   ],
   "source": [
    "with (df + df).spark.cache() as df:\n",
    "    df.spark.explain()"
   ]
  },
  {
   "cell_type": "code",
   "execution_count": null,
   "metadata": {
    "application/vnd.databricks.v1+cell": {
     "cellMetadata": {},
     "inputWidgets": {},
     "nuid": "ab0d6492-bd77-47f8-90bb-6d864b1df3c3",
     "showTitle": false,
     "title": ""
    }
   },
   "outputs": [],
   "source": []
  }
 ],
 "metadata": {
  "application/vnd.databricks.v1+notebook": {
   "dashboards": [],
   "environmentMetadata": null,
   "language": "python",
   "notebookMetadata": {
    "pythonIndentUnit": 4
   },
   "notebookName": "Pandas_API_on_Spark",
   "widgets": {}
  },
  "language_info": {
   "name": "python"
  }
 },
 "nbformat": 4,
 "nbformat_minor": 0
}
